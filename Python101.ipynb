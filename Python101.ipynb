{
  "nbformat": 4,
  "nbformat_minor": 0,
  "metadata": {
    "colab": {
      "provenance": [],
      "authorship_tag": "ABX9TyOdydEHwl62FdXx0DCFepzA",
      "include_colab_link": true
    },
    "kernelspec": {
      "name": "python3",
      "display_name": "Python 3"
    },
    "language_info": {
      "name": "python"
    }
  },
  "cells": [
    {
      "cell_type": "markdown",
      "metadata": {
        "id": "view-in-github",
        "colab_type": "text"
      },
      "source": [
        "<a href=\"https://colab.research.google.com/github/oktsadwikar/DPDM2023/blob/main/Python101.ipynb\" target=\"_parent\"><img src=\"https://colab.research.google.com/assets/colab-badge.svg\" alt=\"Open In Colab\"/></a>"
      ]
    },
    {
      "cell_type": "markdown",
      "source": [
        "# String manipulation and Print Statement\n",
        "\n"
      ],
      "metadata": {
        "id": "Kg_J-kIc4wWA"
      }
    },
    {
      "cell_type": "markdown",
      "source": [
        "## Phython Example"
      ],
      "metadata": {
        "id": "ouAlxaXU7mmK"
      }
    },
    {
      "cell_type": "code",
      "execution_count": null,
      "metadata": {
        "colab": {
          "base_uri": "https://localhost:8080/"
        },
        "id": "P-BfkN1U4jrz",
        "outputId": "f2832a34-7aa0-451b-b8a9-e9c99f90529b"
      },
      "outputs": [
        {
          "output_type": "stream",
          "name": "stdout",
          "text": [
            "a /\n",
            "b /\n",
            "c /\n"
          ]
        }
      ],
      "source": [
        "for i in ['a','b','c']:\n",
        "    print(i,end=' ')\n",
        "    print('/')\n",
        "    for j in range(10):\n",
        "        ccc=10\n",
        "        #print(ccc)"
      ]
    },
    {
      "cell_type": "markdown",
      "source": [
        "## String (text)"
      ],
      "metadata": {
        "id": "J9mF1oFo7QYq"
      }
    },
    {
      "cell_type": "code",
      "source": [
        "text1=\"Stat\""
      ],
      "metadata": {
        "id": "UuWcHcuf7MFT"
      },
      "execution_count": null,
      "outputs": []
    },
    {
      "cell_type": "code",
      "source": [
        "text2='KKU'"
      ],
      "metadata": {
        "id": "w_2ZJ2IA7d7f"
      },
      "execution_count": null,
      "outputs": []
    },
    {
      "cell_type": "code",
      "source": [
        "print(text1)"
      ],
      "metadata": {
        "colab": {
          "base_uri": "https://localhost:8080/"
        },
        "id": "pIc_EZj68Ms2",
        "outputId": "d692b808-89a7-4ca5-94f9-c852754f66d7"
      },
      "execution_count": null,
      "outputs": [
        {
          "output_type": "stream",
          "name": "stdout",
          "text": [
            "Stat\n"
          ]
        }
      ]
    },
    {
      "cell_type": "code",
      "source": [
        "print(text1 + text2)"
      ],
      "metadata": {
        "colab": {
          "base_uri": "https://localhost:8080/"
        },
        "id": "GITQsnZS8UJo",
        "outputId": "05705aae-a55e-4839-b72f-9a748a78786d"
      },
      "execution_count": null,
      "outputs": [
        {
          "output_type": "stream",
          "name": "stdout",
          "text": [
            "StatKKU\n"
          ]
        }
      ]
    },
    {
      "cell_type": "code",
      "source": [
        "print(text1 + 5)"
      ],
      "metadata": {
        "colab": {
          "base_uri": "https://localhost:8080/",
          "height": 166
        },
        "id": "hU-N4YLP912u",
        "outputId": "3f7223e1-dd23-4174-f905-7f9b10c9e985"
      },
      "execution_count": null,
      "outputs": [
        {
          "output_type": "error",
          "ename": "TypeError",
          "evalue": "ignored",
          "traceback": [
            "\u001b[0;31m---------------------------------------------------------------------------\u001b[0m",
            "\u001b[0;31mTypeError\u001b[0m                                 Traceback (most recent call last)",
            "\u001b[0;32m<ipython-input-15-bc6446dfb353>\u001b[0m in \u001b[0;36m<cell line: 1>\u001b[0;34m()\u001b[0m\n\u001b[0;32m----> 1\u001b[0;31m \u001b[0mprint\u001b[0m\u001b[0;34m(\u001b[0m\u001b[0mtext1\u001b[0m \u001b[0;34m+\u001b[0m \u001b[0;36m5\u001b[0m\u001b[0;34m)\u001b[0m\u001b[0;34m\u001b[0m\u001b[0;34m\u001b[0m\u001b[0m\n\u001b[0m",
            "\u001b[0;31mTypeError\u001b[0m: can only concatenate str (not \"int\") to str"
          ]
        }
      ]
    },
    {
      "cell_type": "code",
      "source": [
        "print(5 + text1)"
      ],
      "metadata": {
        "colab": {
          "base_uri": "https://localhost:8080/",
          "height": 166
        },
        "id": "CUlzl1MR91Fh",
        "outputId": "d25ef3b3-af23-49a2-ec26-77083d417cfa"
      },
      "execution_count": null,
      "outputs": [
        {
          "output_type": "error",
          "ename": "TypeError",
          "evalue": "ignored",
          "traceback": [
            "\u001b[0;31m---------------------------------------------------------------------------\u001b[0m",
            "\u001b[0;31mTypeError\u001b[0m                                 Traceback (most recent call last)",
            "\u001b[0;32m<ipython-input-16-315351ee8dfd>\u001b[0m in \u001b[0;36m<cell line: 1>\u001b[0;34m()\u001b[0m\n\u001b[0;32m----> 1\u001b[0;31m \u001b[0mprint\u001b[0m\u001b[0;34m(\u001b[0m\u001b[0;36m5\u001b[0m \u001b[0;34m+\u001b[0m \u001b[0mtext1\u001b[0m\u001b[0;34m)\u001b[0m\u001b[0;34m\u001b[0m\u001b[0;34m\u001b[0m\u001b[0m\n\u001b[0m",
            "\u001b[0;31mTypeError\u001b[0m: unsupported operand type(s) for +: 'int' and 'str'"
          ]
        }
      ]
    },
    {
      "cell_type": "markdown",
      "source": [
        "## Variable"
      ],
      "metadata": {
        "id": "PfPxWnSq92WP"
      }
    },
    {
      "cell_type": "code",
      "source": [
        "a = 5 #int\n",
        "print(a)"
      ],
      "metadata": {
        "colab": {
          "base_uri": "https://localhost:8080/"
        },
        "id": "--dwS3TD98-J",
        "outputId": "f26dbb1e-c0ae-4ab8-a51a-2eb76620a659"
      },
      "execution_count": null,
      "outputs": [
        {
          "output_type": "stream",
          "name": "stdout",
          "text": [
            "5\n"
          ]
        }
      ]
    },
    {
      "cell_type": "code",
      "source": [
        "b = 5.7 #float\n",
        "print(b)"
      ],
      "metadata": {
        "colab": {
          "base_uri": "https://localhost:8080/"
        },
        "id": "O_o2lGbr-Cdn",
        "outputId": "533264f5-7369-4210-ad5e-e4ecc60d9f4f"
      },
      "execution_count": null,
      "outputs": [
        {
          "output_type": "stream",
          "name": "stdout",
          "text": [
            "5.7\n"
          ]
        }
      ]
    },
    {
      "cell_type": "code",
      "source": [
        "c = a-b\n",
        "print(c)"
      ],
      "metadata": {
        "colab": {
          "base_uri": "https://localhost:8080/"
        },
        "id": "MqdvSZu--H39",
        "outputId": "7316ff37-1987-4648-e387-287cb953c482"
      },
      "execution_count": null,
      "outputs": [
        {
          "output_type": "stream",
          "name": "stdout",
          "text": [
            "-0.7000000000000002\n"
          ]
        }
      ]
    },
    {
      "cell_type": "markdown",
      "source": [
        "## Variable Naming Rules\n",
        "\n",
        "\n",
        "1. try to use meaningful word\n",
        "2. do it in English\n",
        "3. you can use number in variable name but the name cannot start with number\n",
        "4. there should be no space in the name\n",
        "5. name is case-sensitive (Abc is not equal to ABC)\n",
        "\n"
      ],
      "metadata": {
        "id": "hcwI_OhI-igt"
      }
    },
    {
      "cell_type": "markdown",
      "source": [
        "## Advanced printing"
      ],
      "metadata": {
        "id": "Rfahtm4B_5-c"
      }
    },
    {
      "cell_type": "code",
      "source": [
        "print(f'six plus five = {6+5}')  # symbol {} means that inside the symbol is a python code"
      ],
      "metadata": {
        "id": "xNzQzNQs-TOr",
        "colab": {
          "base_uri": "https://localhost:8080/"
        },
        "outputId": "186a3082-780e-4105-efd6-2eb9b9704304"
      },
      "execution_count": null,
      "outputs": [
        {
          "output_type": "stream",
          "name": "stdout",
          "text": [
            "six plus five = 11\n"
          ]
        }
      ]
    },
    {
      "cell_type": "code",
      "source": [
        "print(f'six plus five = {6+5:.2f}%')  # .2f means we use float, and 2 means theres 2 number after comma"
      ],
      "metadata": {
        "colab": {
          "base_uri": "https://localhost:8080/"
        },
        "id": "5MWrG5D-AukK",
        "outputId": "a48326ae-fb73-45ea-f4ba-581bcd6e79c4"
      },
      "execution_count": null,
      "outputs": [
        {
          "output_type": "stream",
          "name": "stdout",
          "text": [
            "six plus five = 11.00%\n"
          ]
        }
      ]
    },
    {
      "cell_type": "code",
      "source": [
        "print(f'six plus five = {6+5:03d}')  #03d means we want to show 3 digits number"
      ],
      "metadata": {
        "colab": {
          "base_uri": "https://localhost:8080/"
        },
        "id": "6eDIWkQmBdar",
        "outputId": "dcc68e8d-8a3d-46c5-9136-2438c8f18b83"
      },
      "execution_count": null,
      "outputs": [
        {
          "output_type": "stream",
          "name": "stdout",
          "text": [
            "six plus five = 011\n"
          ]
        }
      ]
    },
    {
      "cell_type": "code",
      "source": [
        "st1 = f'six plus five = {6+5:03d}'"
      ],
      "metadata": {
        "id": "yKGHEyNECLX-"
      },
      "execution_count": null,
      "outputs": []
    },
    {
      "cell_type": "code",
      "source": [
        "st1"
      ],
      "metadata": {
        "colab": {
          "base_uri": "https://localhost:8080/",
          "height": 35
        },
        "id": "E1k4kgbqCTxc",
        "outputId": "2767c5b8-9ce6-4826-c387-46154424f736"
      },
      "execution_count": null,
      "outputs": [
        {
          "output_type": "execute_result",
          "data": {
            "text/plain": [
              "'six plus five = 011'"
            ],
            "application/vnd.google.colaboratory.intrinsic+json": {
              "type": "string"
            }
          },
          "metadata": {},
          "execution_count": 23
        }
      ]
    },
    {
      "cell_type": "markdown",
      "source": [
        "### Separator"
      ],
      "metadata": {
        "id": "w8yfNTDA9a_K"
      }
    },
    {
      "cell_type": "code",
      "source": [
        "print('stat')"
      ],
      "metadata": {
        "colab": {
          "base_uri": "https://localhost:8080/"
        },
        "id": "POtM46Mx9R1q",
        "outputId": "be38771d-c66a-4ffa-a911-2699d9806944"
      },
      "execution_count": null,
      "outputs": [
        {
          "output_type": "stream",
          "name": "stdout",
          "text": [
            "stat\n"
          ]
        }
      ]
    },
    {
      "cell_type": "code",
      "source": [
        "print('stat','KKU') #we can have more than 1 objects, this one using default sep ' '"
      ],
      "metadata": {
        "colab": {
          "base_uri": "https://localhost:8080/"
        },
        "id": "1uGMEouk9pqb",
        "outputId": "4904c5ec-2486-4ee5-b1d1-6e6d8db364ce"
      },
      "execution_count": null,
      "outputs": [
        {
          "output_type": "stream",
          "name": "stdout",
          "text": [
            "stat KKU\n"
          ]
        }
      ]
    },
    {
      "cell_type": "code",
      "source": [
        "print('stat','KKU',sep='/') #this one not using default sep, but we want to use / for sep"
      ],
      "metadata": {
        "colab": {
          "base_uri": "https://localhost:8080/"
        },
        "id": "C2_ca3hF98Ei",
        "outputId": "40e79d40-842d-49cd-eed9-add57b254fd5"
      },
      "execution_count": null,
      "outputs": [
        {
          "output_type": "stream",
          "name": "stdout",
          "text": [
            "stat/KKU\n"
          ]
        }
      ]
    },
    {
      "cell_type": "markdown",
      "source": [
        "### End"
      ],
      "metadata": {
        "id": "rauOEK8e-obZ"
      }
    },
    {
      "cell_type": "code",
      "source": [
        "print('stat') #this one using default end = \\n or new line\n",
        "print('KKU')"
      ],
      "metadata": {
        "colab": {
          "base_uri": "https://localhost:8080/"
        },
        "id": "MBGep_1v-ZJU",
        "outputId": "edf11d65-3bc0-4f27-e741-349d3a9c9cbe"
      },
      "execution_count": null,
      "outputs": [
        {
          "output_type": "stream",
          "name": "stdout",
          "text": [
            "stat\n",
            "KKU\n"
          ]
        }
      ]
    },
    {
      "cell_type": "code",
      "source": [
        "print('stat',end='+-+') #this one we use end = +-+\n",
        "print('KKU')"
      ],
      "metadata": {
        "colab": {
          "base_uri": "https://localhost:8080/"
        },
        "id": "C8sN8PJD-7AF",
        "outputId": "2f9cd1c1-4386-4baf-df2f-676e0bfc1e56"
      },
      "execution_count": null,
      "outputs": [
        {
          "output_type": "stream",
          "name": "stdout",
          "text": [
            "stat+-+KKU\n"
          ]
        }
      ]
    },
    {
      "cell_type": "markdown",
      "source": [
        "## Variable Types"
      ],
      "metadata": {
        "id": "d3DIO6kH_Xr3"
      }
    },
    {
      "cell_type": "markdown",
      "source": [
        "### char(arcter)"
      ],
      "metadata": {
        "id": "sCKzPsS5_eUT"
      }
    },
    {
      "cell_type": "markdown",
      "source": [
        "### ```string + string``` means concatenation"
      ],
      "metadata": {
        "id": "ErpKZalXAZ3U"
      }
    },
    {
      "cell_type": "code",
      "source": [
        "a='C'"
      ],
      "metadata": {
        "id": "2lK4T5TM_b1j"
      },
      "execution_count": null,
      "outputs": []
    },
    {
      "cell_type": "code",
      "source": [
        "b='haracter'"
      ],
      "metadata": {
        "id": "hcPWoHJe_oeP"
      },
      "execution_count": null,
      "outputs": []
    },
    {
      "cell_type": "code",
      "source": [
        "print(f'a={a} b={b}, then {a}+{b}={a+b}') #string + string means"
      ],
      "metadata": {
        "colab": {
          "base_uri": "https://localhost:8080/"
        },
        "id": "zkQ5wmDQ_waI",
        "outputId": "6e83906a-15e4-48d2-8d29-96a8053ad90a"
      },
      "execution_count": null,
      "outputs": [
        {
          "output_type": "stream",
          "name": "stdout",
          "text": [
            "a=C b=haracter, then C+haracter=Character\n"
          ]
        }
      ]
    },
    {
      "cell_type": "code",
      "source": [
        "A='c'\n",
        "B='a'"
      ],
      "metadata": {
        "id": "bxxX-JhKAGqp"
      },
      "execution_count": 2,
      "outputs": []
    },
    {
      "cell_type": "code",
      "source": [
        "print(A+B) # String + string is concatenated"
      ],
      "metadata": {
        "colab": {
          "base_uri": "https://localhost:8080/"
        },
        "id": "fJboFydwAMrW",
        "outputId": "a09bcd54-160d-49e1-a9fa-07ae4edca331"
      },
      "execution_count": 3,
      "outputs": [
        {
          "output_type": "stream",
          "name": "stdout",
          "text": [
            "ca\n"
          ]
        }
      ]
    },
    {
      "cell_type": "markdown",
      "source": [
        "### ```integer * char ``` mean multiple copies for char"
      ],
      "metadata": {
        "id": "E4sKf5HmAfVL"
      }
    },
    {
      "cell_type": "code",
      "source": [
        "print(5*'T') #this will show 5 copies of T = TTTTT"
      ],
      "metadata": {
        "colab": {
          "base_uri": "https://localhost:8080/"
        },
        "id": "7foQ6U0VBDHr",
        "outputId": "a49c9416-86df-4eb1-9974-1836c02dec6c"
      },
      "execution_count": 4,
      "outputs": [
        {
          "output_type": "stream",
          "name": "stdout",
          "text": [
            "TTTTT\n"
          ]
        }
      ]
    },
    {
      "cell_type": "markdown",
      "source": [
        "### Quiz 1\n",
        "print Ha for 100 times with one print function"
      ],
      "metadata": {
        "id": "AT9oWVyoBVgH"
      }
    },
    {
      "cell_type": "code",
      "source": [
        "print(100*'Ha')"
      ],
      "metadata": {
        "colab": {
          "base_uri": "https://localhost:8080/"
        },
        "id": "TpKcsDx8BkRj",
        "outputId": "63697796-a5f3-4da2-b81f-65c54ac9a999"
      },
      "execution_count": null,
      "outputs": [
        {
          "output_type": "stream",
          "name": "stdout",
          "text": [
            "HaHaHaHaHaHaHaHaHaHaHaHaHaHaHaHaHaHaHaHaHaHaHaHaHaHaHaHaHaHaHaHaHaHaHaHaHaHaHaHaHaHaHaHaHaHaHaHaHaHaHaHaHaHaHaHaHaHaHaHaHaHaHaHaHaHaHaHaHaHaHaHaHaHaHaHaHaHaHaHaHaHaHaHaHaHaHaHaHaHaHaHaHaHaHaHaHaHaHaHa\n"
          ]
        }
      ]
    },
    {
      "cell_type": "markdown",
      "source": [
        "### int(eger)"
      ],
      "metadata": {
        "id": "VCC8zVb2GCpR"
      }
    },
    {
      "cell_type": "code",
      "source": [
        "int_a=7\n",
        "int_b=2"
      ],
      "metadata": {
        "id": "cynw10vxGObB"
      },
      "execution_count": null,
      "outputs": []
    },
    {
      "cell_type": "code",
      "source": [
        "print(type(int_a),type(int_b)) #to see the type of variable"
      ],
      "metadata": {
        "id": "FMEqb-YbGTT3",
        "outputId": "84378cde-707a-43e0-d5cb-83dff5f0d33d",
        "colab": {
          "base_uri": "https://localhost:8080/"
        }
      },
      "execution_count": null,
      "outputs": [
        {
          "output_type": "stream",
          "name": "stdout",
          "text": [
            "<class 'int'> <class 'int'>\n"
          ]
        }
      ]
    },
    {
      "cell_type": "code",
      "source": [
        "int_c = int_a + int_b #assign the value as the output of operation\n",
        "print(int_c)"
      ],
      "metadata": {
        "id": "1FHrMagNGdwi",
        "outputId": "a592bd61-04b9-4f9f-e923-cb30077fc3a4",
        "colab": {
          "base_uri": "https://localhost:8080/"
        }
      },
      "execution_count": null,
      "outputs": [
        {
          "output_type": "stream",
          "name": "stdout",
          "text": [
            "9\n"
          ]
        }
      ]
    },
    {
      "cell_type": "markdown",
      "source": [
        "### Float"
      ],
      "metadata": {
        "id": "I7RTsihiG2e8"
      }
    },
    {
      "cell_type": "code",
      "source": [
        "fl_a=7.\n",
        "fl_b=2.571"
      ],
      "metadata": {
        "id": "ChWGHH1YG4eY"
      },
      "execution_count": 5,
      "outputs": []
    },
    {
      "cell_type": "code",
      "source": [
        "print(type(fl_a))"
      ],
      "metadata": {
        "id": "uPqA3kubG7b2",
        "outputId": "6cd9cf44-5f39-4d32-ee96-601a6e0527ef",
        "colab": {
          "base_uri": "https://localhost:8080/"
        }
      },
      "execution_count": 6,
      "outputs": [
        {
          "output_type": "stream",
          "name": "stdout",
          "text": [
            "<class 'float'>\n"
          ]
        }
      ]
    },
    {
      "cell_type": "code",
      "source": [
        "print(fl_a) # Display as Float"
      ],
      "metadata": {
        "id": "3kItrNr0HJrq",
        "outputId": "0b9a633e-c006-4c2b-8d4e-bbb068693795",
        "colab": {
          "base_uri": "https://localhost:8080/"
        }
      },
      "execution_count": 8,
      "outputs": [
        {
          "output_type": "stream",
          "name": "stdout",
          "text": [
            "7.0\n"
          ]
        }
      ]
    },
    {
      "cell_type": "code",
      "source": [
        "fl_b"
      ],
      "metadata": {
        "id": "B8NfNkxJHL9j",
        "outputId": "64796e4a-6b7c-4e34-aada-8462526f1f3a",
        "colab": {
          "base_uri": "https://localhost:8080/"
        }
      },
      "execution_count": null,
      "outputs": [
        {
          "output_type": "execute_result",
          "data": {
            "text/plain": [
              "2.571"
            ]
          },
          "metadata": {},
          "execution_count": 47
        }
      ]
    },
    {
      "cell_type": "markdown",
      "source": [
        "### Boolean (Variable with True or False value)\n",
        "Logical"
      ],
      "metadata": {
        "id": "hGQaeupfHWg2"
      }
    },
    {
      "cell_type": "code",
      "source": [
        "b_T = True"
      ],
      "metadata": {
        "id": "S2YfWsaoHZie"
      },
      "execution_count": null,
      "outputs": []
    },
    {
      "cell_type": "code",
      "source": [
        "b_F = False"
      ],
      "metadata": {
        "id": "6nKzHTd-Hf0h"
      },
      "execution_count": null,
      "outputs": []
    },
    {
      "cell_type": "markdown",
      "source": [
        "```==``` means equal,```!=``` means not equal,```>``` means greater than,```<=``` means less than or equal,```|``` means or, ```&``` means and"
      ],
      "metadata": {
        "id": "1sviy_1EHh9V"
      }
    },
    {
      "cell_type": "code",
      "source": [
        "b_T | b_F"
      ],
      "metadata": {
        "id": "0MJby-T6IAut",
        "outputId": "5128d11c-54b8-4c75-e60f-5c02fb3ca315",
        "colab": {
          "base_uri": "https://localhost:8080/"
        }
      },
      "execution_count": null,
      "outputs": [
        {
          "output_type": "execute_result",
          "data": {
            "text/plain": [
              "True"
            ]
          },
          "metadata": {},
          "execution_count": 50
        }
      ]
    },
    {
      "cell_type": "markdown",
      "source": [
        "### Complex Number"
      ],
      "metadata": {
        "id": "yucIs9s-IbKm"
      }
    },
    {
      "cell_type": "code",
      "source": [
        "x = 1 + 2j"
      ],
      "metadata": {
        "id": "6OnTNLIQIdT4"
      },
      "execution_count": null,
      "outputs": []
    },
    {
      "cell_type": "markdown",
      "source": [
        "we can check the data type with ```type ()```"
      ],
      "metadata": {
        "id": "Bm2otpK5Ikjm"
      }
    },
    {
      "cell_type": "code",
      "source": [
        "print(f'variable x value is {x} and datatype is {type(x)}')"
      ],
      "metadata": {
        "id": "lxLvGdVuIj4y",
        "outputId": "dd6b5578-1d0d-4986-bdc5-12c5fbdcb647",
        "colab": {
          "base_uri": "https://localhost:8080/"
        }
      },
      "execution_count": null,
      "outputs": [
        {
          "output_type": "stream",
          "name": "stdout",
          "text": [
            "variable x value is (1+2j) and datatype is <class 'complex'>\n"
          ]
        }
      ]
    },
    {
      "cell_type": "code",
      "source": [
        "print(f'variable A value is {A} and datatype is {type(A)}')"
      ],
      "metadata": {
        "id": "TxWpXh3uJFak",
        "outputId": "c37c9f9e-8980-4514-fd25-b800dc9b0338",
        "colab": {
          "base_uri": "https://localhost:8080/"
        }
      },
      "execution_count": null,
      "outputs": [
        {
          "output_type": "stream",
          "name": "stdout",
          "text": [
            "variable A value is c and datatype is <class 'str'>\n"
          ]
        }
      ]
    },
    {
      "cell_type": "code",
      "source": [
        "print(f'variable a value is {a} and datatype is {type(a)}')"
      ],
      "metadata": {
        "id": "71NoY-1YJPci",
        "outputId": "bde9c51a-6ba9-44bb-9c99-eddcc3bd8d10",
        "colab": {
          "base_uri": "https://localhost:8080/"
        }
      },
      "execution_count": null,
      "outputs": [
        {
          "output_type": "stream",
          "name": "stdout",
          "text": [
            "variable a value is C and datatype is <class 'str'>\n"
          ]
        }
      ]
    },
    {
      "cell_type": "markdown",
      "source": [
        "## Variable Casting (Variable Type Conversion)\n",
        "we can change the variable type from one to another"
      ],
      "metadata": {
        "id": "J11C_KypJsTs"
      }
    },
    {
      "cell_type": "code",
      "source": [
        "print(f'int_a = {int_a} int_b = {int_b} fl_a = {fl_a} fl_b= {fl_b}')"
      ],
      "metadata": {
        "id": "wSJhKkJWJwJ-",
        "outputId": "0b1f8a31-41d3-4026-860f-c6b31f55a7cf",
        "colab": {
          "base_uri": "https://localhost:8080/"
        }
      },
      "execution_count": null,
      "outputs": [
        {
          "output_type": "stream",
          "name": "stdout",
          "text": [
            "int_a = 7 int_b = 2 fl_a = 7.0 fl_b= 2.571\n"
          ]
        }
      ]
    },
    {
      "cell_type": "code",
      "source": [
        "str_a = '6'\n",
        "str_b = '-2'"
      ],
      "metadata": {
        "id": "BWCXUJfdKG60"
      },
      "execution_count": null,
      "outputs": []
    },
    {
      "cell_type": "code",
      "source": [
        "str_a2int =  int(str_a)  #transform string into int\n",
        "print(f'variable str_a2int value is {str_a2int} and datatype is {type(str_a2int)}')"
      ],
      "metadata": {
        "id": "FQzm1tMdKPBi",
        "outputId": "568ce373-4a8b-4973-b86e-4a898e17948e",
        "colab": {
          "base_uri": "https://localhost:8080/"
        }
      },
      "execution_count": null,
      "outputs": [
        {
          "output_type": "stream",
          "name": "stdout",
          "text": [
            "variable str_a2int value is 6 and datatype is <class 'int'>\n"
          ]
        }
      ]
    },
    {
      "cell_type": "code",
      "source": [
        "str_a2int + int_a"
      ],
      "metadata": {
        "id": "s2-dXIEoKWEN",
        "outputId": "ac806283-b55c-41d8-998b-fd7486bc6d12",
        "colab": {
          "base_uri": "https://localhost:8080/"
        }
      },
      "execution_count": null,
      "outputs": [
        {
          "output_type": "execute_result",
          "data": {
            "text/plain": [
              "13"
            ]
          },
          "metadata": {},
          "execution_count": 59
        }
      ]
    },
    {
      "cell_type": "code",
      "source": [
        "str(fl_b) #transform float to string"
      ],
      "metadata": {
        "id": "dN6_d30PLL6o",
        "outputId": "7b724ff6-ef79-4c7d-9915-0a532ea7114e",
        "colab": {
          "base_uri": "https://localhost:8080/",
          "height": 35
        }
      },
      "execution_count": null,
      "outputs": [
        {
          "output_type": "execute_result",
          "data": {
            "text/plain": [
              "'2.571'"
            ],
            "application/vnd.google.colaboratory.intrinsic+json": {
              "type": "string"
            }
          },
          "metadata": {},
          "execution_count": 61
        }
      ]
    },
    {
      "cell_type": "code",
      "source": [
        "int(fl_b) #transform float to int, but it will cut the floating point"
      ],
      "metadata": {
        "id": "vTT_nWO5LWK3",
        "outputId": "ff8694ce-8504-422a-912c-7c8c5cee9968",
        "colab": {
          "base_uri": "https://localhost:8080/"
        }
      },
      "execution_count": null,
      "outputs": [
        {
          "output_type": "execute_result",
          "data": {
            "text/plain": [
              "2"
            ]
          },
          "metadata": {},
          "execution_count": 62
        }
      ]
    },
    {
      "cell_type": "code",
      "source": [
        "str_a + int_a #this one will be error because str_a is a string"
      ],
      "metadata": {
        "id": "svQGrFBlKsi4",
        "outputId": "f7747e21-807e-4a2e-a3de-5127b061c629",
        "colab": {
          "base_uri": "https://localhost:8080/",
          "height": 166
        }
      },
      "execution_count": null,
      "outputs": [
        {
          "output_type": "error",
          "ename": "TypeError",
          "evalue": "ignored",
          "traceback": [
            "\u001b[0;31m---------------------------------------------------------------------------\u001b[0m",
            "\u001b[0;31mTypeError\u001b[0m                                 Traceback (most recent call last)",
            "\u001b[0;32m<ipython-input-60-35bff1ef8b0f>\u001b[0m in \u001b[0;36m<cell line: 1>\u001b[0;34m()\u001b[0m\n\u001b[0;32m----> 1\u001b[0;31m \u001b[0mstr_a\u001b[0m \u001b[0;34m+\u001b[0m \u001b[0mint_a\u001b[0m \u001b[0;31m#this one will be error because str_a is a string\u001b[0m\u001b[0;34m\u001b[0m\u001b[0;34m\u001b[0m\u001b[0m\n\u001b[0m",
            "\u001b[0;31mTypeError\u001b[0m: can only concatenate str (not \"int\") to str"
          ]
        }
      ]
    },
    {
      "cell_type": "markdown",
      "source": [
        "## Replace () instead of string"
      ],
      "metadata": {
        "id": "r2xGNEHeL7Qy"
      }
    },
    {
      "cell_type": "code",
      "source": [
        "st_test1 = 'Departement of Statistics,'"
      ],
      "metadata": {
        "id": "tXI9PaD0MCUI"
      },
      "execution_count": null,
      "outputs": []
    },
    {
      "cell_type": "code",
      "source": [
        "st_test1.replace('e',' ') #replace e with space"
      ],
      "metadata": {
        "id": "L0Ei1K9dMM6X",
        "outputId": "73ad7c4c-342f-4340-9100-7760a7051309",
        "colab": {
          "base_uri": "https://localhost:8080/",
          "height": 35
        }
      },
      "execution_count": null,
      "outputs": [
        {
          "output_type": "execute_result",
          "data": {
            "text/plain": [
              "'D part m nt of Statistics,'"
            ],
            "application/vnd.google.colaboratory.intrinsic+json": {
              "type": "string"
            }
          },
          "metadata": {},
          "execution_count": 65
        }
      ]
    },
    {
      "cell_type": "code",
      "source": [
        "st_test1 #the function st_test1.replace that we done before will not change this"
      ],
      "metadata": {
        "id": "QUn9i5PDMeA3",
        "outputId": "30642f8d-5d47-4cae-eb86-df6ab9f63a65",
        "colab": {
          "base_uri": "https://localhost:8080/",
          "height": 35
        }
      },
      "execution_count": null,
      "outputs": [
        {
          "output_type": "execute_result",
          "data": {
            "text/plain": [
              "'Departement of Statistics,'"
            ],
            "application/vnd.google.colaboratory.intrinsic+json": {
              "type": "string"
            }
          },
          "metadata": {},
          "execution_count": 66
        }
      ]
    },
    {
      "cell_type": "code",
      "source": [
        "st_test2 = st_test1.replace('e',' ') #replace e with space and save the change to new variable"
      ],
      "metadata": {
        "id": "rOu5T8c3Mzyk"
      },
      "execution_count": null,
      "outputs": []
    },
    {
      "cell_type": "code",
      "source": [
        "print(st_test2)"
      ],
      "metadata": {
        "id": "F3qjYx4JNDT5",
        "outputId": "8bfbee97-c51f-4a3e-8468-cba85e8d0515",
        "colab": {
          "base_uri": "https://localhost:8080/"
        }
      },
      "execution_count": null,
      "outputs": [
        {
          "output_type": "stream",
          "name": "stdout",
          "text": [
            "D part m nt of Statistics,\n"
          ]
        }
      ]
    },
    {
      "cell_type": "code",
      "source": [
        "st_test1.replace('ti','TI') #modify ti to TI"
      ],
      "metadata": {
        "id": "nyso1YyENdc_",
        "outputId": "6a13aaa0-fe8b-42d3-d8c9-1f7d50d118a7",
        "colab": {
          "base_uri": "https://localhost:8080/",
          "height": 35
        }
      },
      "execution_count": null,
      "outputs": [
        {
          "output_type": "execute_result",
          "data": {
            "text/plain": [
              "'Departement of StaTIsTIcs,'"
            ],
            "application/vnd.google.colaboratory.intrinsic+json": {
              "type": "string"
            }
          },
          "metadata": {},
          "execution_count": 69
        }
      ]
    },
    {
      "cell_type": "markdown",
      "source": [
        "## Split () string"
      ],
      "metadata": {
        "id": "BRubEofYOMj3"
      }
    },
    {
      "cell_type": "code",
      "source": [
        "'a b c d e f g'.split()  # cut string at spaces, so the list will have 7 member"
      ],
      "metadata": {
        "id": "13McA-7dOTza",
        "outputId": "a0884662-2331-44f4-f604-76b7a99cafa3",
        "colab": {
          "base_uri": "https://localhost:8080/"
        }
      },
      "execution_count": null,
      "outputs": [
        {
          "output_type": "execute_result",
          "data": {
            "text/plain": [
              "['a', 'b', 'c', 'd', 'e', 'f', 'g']"
            ]
          },
          "metadata": {},
          "execution_count": 72
        }
      ]
    },
    {
      "cell_type": "code",
      "source": [
        "'abc de fg'.split()  # cut string at spaces, so the list will have 3 member (abc, de, and  ef)"
      ],
      "metadata": {
        "id": "ze7B-0wQO_h8",
        "outputId": "d8aae2a6-de91-409d-f1d3-a38672fc2b09",
        "colab": {
          "base_uri": "https://localhost:8080/"
        }
      },
      "execution_count": null,
      "outputs": [
        {
          "output_type": "execute_result",
          "data": {
            "text/plain": [
              "['abc', 'de', 'fg']"
            ]
          },
          "metadata": {},
          "execution_count": 75
        }
      ]
    },
    {
      "cell_type": "code",
      "source": [
        "'a,b/c,d e/f g'.split('/')  # split with /"
      ],
      "metadata": {
        "id": "TRJlqqm9Owtx",
        "outputId": "a611434b-d853-4b75-a26c-0aeae7de6587",
        "colab": {
          "base_uri": "https://localhost:8080/"
        }
      },
      "execution_count": null,
      "outputs": [
        {
          "output_type": "execute_result",
          "data": {
            "text/plain": [
              "['a,b', 'c,d e', 'f g']"
            ]
          },
          "metadata": {},
          "execution_count": 73
        }
      ]
    }
  ]
}