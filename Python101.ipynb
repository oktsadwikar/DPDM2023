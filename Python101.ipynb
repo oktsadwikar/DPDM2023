{
  "nbformat": 4,
  "nbformat_minor": 0,
  "metadata": {
    "colab": {
      "provenance": [],
      "authorship_tag": "ABX9TyP4bQZ+CsQl41fueDzBnwEa",
      "include_colab_link": true
    },
    "kernelspec": {
      "name": "python3",
      "display_name": "Python 3"
    },
    "language_info": {
      "name": "python"
    }
  },
  "cells": [
    {
      "cell_type": "markdown",
      "metadata": {
        "id": "view-in-github",
        "colab_type": "text"
      },
      "source": [
        "<a href=\"https://colab.research.google.com/github/oktsadwikar/DPDM2023/blob/main/Python101.ipynb\" target=\"_parent\"><img src=\"https://colab.research.google.com/assets/colab-badge.svg\" alt=\"Open In Colab\"/></a>"
      ]
    },
    {
      "cell_type": "markdown",
      "source": [
        "# String manipulation and Print Statement\n",
        "\n"
      ],
      "metadata": {
        "id": "Kg_J-kIc4wWA"
      }
    },
    {
      "cell_type": "markdown",
      "source": [
        "## Phython Example"
      ],
      "metadata": {
        "id": "ouAlxaXU7mmK"
      }
    },
    {
      "cell_type": "code",
      "execution_count": null,
      "metadata": {
        "colab": {
          "base_uri": "https://localhost:8080/"
        },
        "id": "P-BfkN1U4jrz",
        "outputId": "f2832a34-7aa0-451b-b8a9-e9c99f90529b"
      },
      "outputs": [
        {
          "output_type": "stream",
          "name": "stdout",
          "text": [
            "a /\n",
            "b /\n",
            "c /\n"
          ]
        }
      ],
      "source": [
        "for i in ['a','b','c']:\n",
        "    print(i,end=' ')\n",
        "    print('/')\n",
        "    for j in range(10):\n",
        "        ccc=10\n",
        "        #print(ccc)"
      ]
    },
    {
      "cell_type": "markdown",
      "source": [
        "## String (text)"
      ],
      "metadata": {
        "id": "J9mF1oFo7QYq"
      }
    },
    {
      "cell_type": "code",
      "source": [
        "text1=\"Stat\""
      ],
      "metadata": {
        "id": "UuWcHcuf7MFT"
      },
      "execution_count": null,
      "outputs": []
    },
    {
      "cell_type": "code",
      "source": [
        "text2='KKU'"
      ],
      "metadata": {
        "id": "w_2ZJ2IA7d7f"
      },
      "execution_count": null,
      "outputs": []
    },
    {
      "cell_type": "code",
      "source": [
        "print(text1)"
      ],
      "metadata": {
        "colab": {
          "base_uri": "https://localhost:8080/"
        },
        "id": "pIc_EZj68Ms2",
        "outputId": "d692b808-89a7-4ca5-94f9-c852754f66d7"
      },
      "execution_count": null,
      "outputs": [
        {
          "output_type": "stream",
          "name": "stdout",
          "text": [
            "Stat\n"
          ]
        }
      ]
    },
    {
      "cell_type": "code",
      "source": [
        "print(text1 + text2)"
      ],
      "metadata": {
        "colab": {
          "base_uri": "https://localhost:8080/"
        },
        "id": "GITQsnZS8UJo",
        "outputId": "05705aae-a55e-4839-b72f-9a748a78786d"
      },
      "execution_count": null,
      "outputs": [
        {
          "output_type": "stream",
          "name": "stdout",
          "text": [
            "StatKKU\n"
          ]
        }
      ]
    },
    {
      "cell_type": "code",
      "source": [
        "print(text1 + 5)"
      ],
      "metadata": {
        "colab": {
          "base_uri": "https://localhost:8080/",
          "height": 166
        },
        "id": "hU-N4YLP912u",
        "outputId": "3f7223e1-dd23-4174-f905-7f9b10c9e985"
      },
      "execution_count": null,
      "outputs": [
        {
          "output_type": "error",
          "ename": "TypeError",
          "evalue": "ignored",
          "traceback": [
            "\u001b[0;31m---------------------------------------------------------------------------\u001b[0m",
            "\u001b[0;31mTypeError\u001b[0m                                 Traceback (most recent call last)",
            "\u001b[0;32m<ipython-input-15-bc6446dfb353>\u001b[0m in \u001b[0;36m<cell line: 1>\u001b[0;34m()\u001b[0m\n\u001b[0;32m----> 1\u001b[0;31m \u001b[0mprint\u001b[0m\u001b[0;34m(\u001b[0m\u001b[0mtext1\u001b[0m \u001b[0;34m+\u001b[0m \u001b[0;36m5\u001b[0m\u001b[0;34m)\u001b[0m\u001b[0;34m\u001b[0m\u001b[0;34m\u001b[0m\u001b[0m\n\u001b[0m",
            "\u001b[0;31mTypeError\u001b[0m: can only concatenate str (not \"int\") to str"
          ]
        }
      ]
    },
    {
      "cell_type": "code",
      "source": [
        "print(5 + text1)"
      ],
      "metadata": {
        "colab": {
          "base_uri": "https://localhost:8080/",
          "height": 166
        },
        "id": "CUlzl1MR91Fh",
        "outputId": "d25ef3b3-af23-49a2-ec26-77083d417cfa"
      },
      "execution_count": null,
      "outputs": [
        {
          "output_type": "error",
          "ename": "TypeError",
          "evalue": "ignored",
          "traceback": [
            "\u001b[0;31m---------------------------------------------------------------------------\u001b[0m",
            "\u001b[0;31mTypeError\u001b[0m                                 Traceback (most recent call last)",
            "\u001b[0;32m<ipython-input-16-315351ee8dfd>\u001b[0m in \u001b[0;36m<cell line: 1>\u001b[0;34m()\u001b[0m\n\u001b[0;32m----> 1\u001b[0;31m \u001b[0mprint\u001b[0m\u001b[0;34m(\u001b[0m\u001b[0;36m5\u001b[0m \u001b[0;34m+\u001b[0m \u001b[0mtext1\u001b[0m\u001b[0;34m)\u001b[0m\u001b[0;34m\u001b[0m\u001b[0;34m\u001b[0m\u001b[0m\n\u001b[0m",
            "\u001b[0;31mTypeError\u001b[0m: unsupported operand type(s) for +: 'int' and 'str'"
          ]
        }
      ]
    },
    {
      "cell_type": "markdown",
      "source": [
        "## Variable"
      ],
      "metadata": {
        "id": "PfPxWnSq92WP"
      }
    },
    {
      "cell_type": "code",
      "source": [
        "a = 5 #int\n",
        "print(a)"
      ],
      "metadata": {
        "colab": {
          "base_uri": "https://localhost:8080/"
        },
        "id": "--dwS3TD98-J",
        "outputId": "f26dbb1e-c0ae-4ab8-a51a-2eb76620a659"
      },
      "execution_count": null,
      "outputs": [
        {
          "output_type": "stream",
          "name": "stdout",
          "text": [
            "5\n"
          ]
        }
      ]
    },
    {
      "cell_type": "code",
      "source": [
        "b = 5.7 #float\n",
        "print(b)"
      ],
      "metadata": {
        "colab": {
          "base_uri": "https://localhost:8080/"
        },
        "id": "O_o2lGbr-Cdn",
        "outputId": "533264f5-7369-4210-ad5e-e4ecc60d9f4f"
      },
      "execution_count": null,
      "outputs": [
        {
          "output_type": "stream",
          "name": "stdout",
          "text": [
            "5.7\n"
          ]
        }
      ]
    },
    {
      "cell_type": "code",
      "source": [
        "c = a-b\n",
        "print(c)"
      ],
      "metadata": {
        "colab": {
          "base_uri": "https://localhost:8080/"
        },
        "id": "MqdvSZu--H39",
        "outputId": "7316ff37-1987-4648-e387-287cb953c482"
      },
      "execution_count": null,
      "outputs": [
        {
          "output_type": "stream",
          "name": "stdout",
          "text": [
            "-0.7000000000000002\n"
          ]
        }
      ]
    },
    {
      "cell_type": "markdown",
      "source": [
        "## Variable Naming Rules\n",
        "\n",
        "\n",
        "1. try to use meaningful word\n",
        "2. do it in English\n",
        "3. you can use number in variable name but the name cannot start with number\n",
        "4. there should be no space in the name\n",
        "5. name is case-sensitive (Abc is not equal to ABC)\n",
        "\n"
      ],
      "metadata": {
        "id": "hcwI_OhI-igt"
      }
    },
    {
      "cell_type": "markdown",
      "source": [
        "## Advanced printing"
      ],
      "metadata": {
        "id": "Rfahtm4B_5-c"
      }
    },
    {
      "cell_type": "code",
      "source": [
        "print(f'six plus five = {6+5}')  # symbol {} means that inside the symbol is a python code"
      ],
      "metadata": {
        "id": "xNzQzNQs-TOr",
        "colab": {
          "base_uri": "https://localhost:8080/"
        },
        "outputId": "186a3082-780e-4105-efd6-2eb9b9704304"
      },
      "execution_count": null,
      "outputs": [
        {
          "output_type": "stream",
          "name": "stdout",
          "text": [
            "six plus five = 11\n"
          ]
        }
      ]
    },
    {
      "cell_type": "code",
      "source": [
        "print(f'six plus five = {6+5:.2f}%')  # .2f means we use float, and 2 means theres 2 number after comma"
      ],
      "metadata": {
        "colab": {
          "base_uri": "https://localhost:8080/"
        },
        "id": "5MWrG5D-AukK",
        "outputId": "a48326ae-fb73-45ea-f4ba-581bcd6e79c4"
      },
      "execution_count": null,
      "outputs": [
        {
          "output_type": "stream",
          "name": "stdout",
          "text": [
            "six plus five = 11.00%\n"
          ]
        }
      ]
    },
    {
      "cell_type": "code",
      "source": [
        "print(f'six plus five = {6+5:03d}')  #03d means we want to show 3 digits number"
      ],
      "metadata": {
        "colab": {
          "base_uri": "https://localhost:8080/"
        },
        "id": "6eDIWkQmBdar",
        "outputId": "dcc68e8d-8a3d-46c5-9136-2438c8f18b83"
      },
      "execution_count": null,
      "outputs": [
        {
          "output_type": "stream",
          "name": "stdout",
          "text": [
            "six plus five = 011\n"
          ]
        }
      ]
    },
    {
      "cell_type": "code",
      "source": [
        "st1 = f'six plus five = {6+5:03d}'"
      ],
      "metadata": {
        "id": "yKGHEyNECLX-"
      },
      "execution_count": null,
      "outputs": []
    },
    {
      "cell_type": "code",
      "source": [
        "st1"
      ],
      "metadata": {
        "colab": {
          "base_uri": "https://localhost:8080/",
          "height": 35
        },
        "id": "E1k4kgbqCTxc",
        "outputId": "2767c5b8-9ce6-4826-c387-46154424f736"
      },
      "execution_count": null,
      "outputs": [
        {
          "output_type": "execute_result",
          "data": {
            "text/plain": [
              "'six plus five = 011'"
            ],
            "application/vnd.google.colaboratory.intrinsic+json": {
              "type": "string"
            }
          },
          "metadata": {},
          "execution_count": 23
        }
      ]
    },
    {
      "cell_type": "markdown",
      "source": [
        "### Separator"
      ],
      "metadata": {
        "id": "w8yfNTDA9a_K"
      }
    },
    {
      "cell_type": "code",
      "source": [
        "print('stat')"
      ],
      "metadata": {
        "id": "POtM46Mx9R1q",
        "outputId": "be38771d-c66a-4ffa-a911-2699d9806944",
        "colab": {
          "base_uri": "https://localhost:8080/"
        }
      },
      "execution_count": 1,
      "outputs": [
        {
          "output_type": "stream",
          "name": "stdout",
          "text": [
            "stat\n"
          ]
        }
      ]
    },
    {
      "cell_type": "code",
      "source": [
        "print('stat','KKU') #we can have more than 1 objects, this one using default sep ' '"
      ],
      "metadata": {
        "id": "1uGMEouk9pqb",
        "outputId": "4904c5ec-2486-4ee5-b1d1-6e6d8db364ce",
        "colab": {
          "base_uri": "https://localhost:8080/"
        }
      },
      "execution_count": 3,
      "outputs": [
        {
          "output_type": "stream",
          "name": "stdout",
          "text": [
            "stat KKU\n"
          ]
        }
      ]
    },
    {
      "cell_type": "code",
      "source": [
        "print('stat','KKU',sep='/') #this one not using default sep, but we want to use / for sep"
      ],
      "metadata": {
        "id": "C2_ca3hF98Ei",
        "outputId": "40e79d40-842d-49cd-eed9-add57b254fd5",
        "colab": {
          "base_uri": "https://localhost:8080/"
        }
      },
      "execution_count": 5,
      "outputs": [
        {
          "output_type": "stream",
          "name": "stdout",
          "text": [
            "stat/KKU\n"
          ]
        }
      ]
    },
    {
      "cell_type": "markdown",
      "source": [
        "### End"
      ],
      "metadata": {
        "id": "rauOEK8e-obZ"
      }
    },
    {
      "cell_type": "code",
      "source": [
        "print('stat') #this one using default end = \\n or new line\n",
        "print('KKU')"
      ],
      "metadata": {
        "id": "MBGep_1v-ZJU",
        "outputId": "edf11d65-3bc0-4f27-e741-349d3a9c9cbe",
        "colab": {
          "base_uri": "https://localhost:8080/"
        }
      },
      "execution_count": 6,
      "outputs": [
        {
          "output_type": "stream",
          "name": "stdout",
          "text": [
            "stat\n",
            "KKU\n"
          ]
        }
      ]
    },
    {
      "cell_type": "code",
      "source": [
        "print('stat',end='+-+') #this one we use end = +-+\n",
        "print('KKU')"
      ],
      "metadata": {
        "id": "C8sN8PJD-7AF",
        "outputId": "2f9cd1c1-4386-4baf-df2f-676e0bfc1e56",
        "colab": {
          "base_uri": "https://localhost:8080/"
        }
      },
      "execution_count": 7,
      "outputs": [
        {
          "output_type": "stream",
          "name": "stdout",
          "text": [
            "stat+-+KKU\n"
          ]
        }
      ]
    },
    {
      "cell_type": "markdown",
      "source": [
        "## Variable Types"
      ],
      "metadata": {
        "id": "d3DIO6kH_Xr3"
      }
    },
    {
      "cell_type": "markdown",
      "source": [
        "### char(arcter)"
      ],
      "metadata": {
        "id": "sCKzPsS5_eUT"
      }
    },
    {
      "cell_type": "markdown",
      "source": [
        "### ```string + string``` means concatenation"
      ],
      "metadata": {
        "id": "ErpKZalXAZ3U"
      }
    },
    {
      "cell_type": "code",
      "source": [
        "a='C'"
      ],
      "metadata": {
        "id": "2lK4T5TM_b1j"
      },
      "execution_count": 8,
      "outputs": []
    },
    {
      "cell_type": "code",
      "source": [
        "b='haracter'"
      ],
      "metadata": {
        "id": "hcPWoHJe_oeP"
      },
      "execution_count": 9,
      "outputs": []
    },
    {
      "cell_type": "code",
      "source": [
        "print(f'a={a} b={b}, then {a}+{b}={a+b}') #string + string means"
      ],
      "metadata": {
        "id": "zkQ5wmDQ_waI",
        "outputId": "6e83906a-15e4-48d2-8d29-96a8053ad90a",
        "colab": {
          "base_uri": "https://localhost:8080/"
        }
      },
      "execution_count": 10,
      "outputs": [
        {
          "output_type": "stream",
          "name": "stdout",
          "text": [
            "a=C b=haracter, then C+haracter=Character\n"
          ]
        }
      ]
    },
    {
      "cell_type": "code",
      "source": [
        "A='c'\n",
        "B='a'"
      ],
      "metadata": {
        "id": "bxxX-JhKAGqp"
      },
      "execution_count": 11,
      "outputs": []
    },
    {
      "cell_type": "code",
      "source": [
        "print(A+B)"
      ],
      "metadata": {
        "id": "fJboFydwAMrW",
        "outputId": "fa063416-f56f-4dd0-bae8-06748db518c3",
        "colab": {
          "base_uri": "https://localhost:8080/"
        }
      },
      "execution_count": 12,
      "outputs": [
        {
          "output_type": "stream",
          "name": "stdout",
          "text": [
            "ca\n"
          ]
        }
      ]
    },
    {
      "cell_type": "markdown",
      "source": [
        "# ```integer * char ``` mean multiple copies for char"
      ],
      "metadata": {
        "id": "E4sKf5HmAfVL"
      }
    },
    {
      "cell_type": "code",
      "source": [
        "print(5*'T') #this will show 5 copies of T (TTTTT)"
      ],
      "metadata": {
        "id": "7foQ6U0VBDHr",
        "outputId": "26d1c0e6-81e1-426f-868d-1e463276d8c4",
        "colab": {
          "base_uri": "https://localhost:8080/"
        }
      },
      "execution_count": 14,
      "outputs": [
        {
          "output_type": "stream",
          "name": "stdout",
          "text": [
            "TTTTT\n"
          ]
        }
      ]
    },
    {
      "cell_type": "markdown",
      "source": [
        "## Quiz 1\n",
        "print Ha for 100 times with one print function"
      ],
      "metadata": {
        "id": "AT9oWVyoBVgH"
      }
    },
    {
      "cell_type": "code",
      "source": [
        "print(100*'Ha')"
      ],
      "metadata": {
        "id": "TpKcsDx8BkRj",
        "outputId": "93f53487-50d1-4fa9-c0c0-36a06f1f02b5",
        "colab": {
          "base_uri": "https://localhost:8080/"
        }
      },
      "execution_count": 27,
      "outputs": [
        {
          "output_type": "stream",
          "name": "stdout",
          "text": [
            "HaHaHaHaHaHaHaHaHaHaHaHaHaHaHaHaHaHaHaHaHaHaHaHaHaHaHaHaHaHaHaHaHaHaHaHaHaHaHaHaHaHaHaHaHaHaHaHaHaHaHaHaHaHaHaHaHaHaHaHaHaHaHaHaHaHaHaHaHaHaHaHaHaHaHaHaHaHaHaHaHaHaHaHaHaHaHaHaHaHaHaHaHaHaHaHaHaHaHaHa\n"
          ]
        }
      ]
    }
  ]
}