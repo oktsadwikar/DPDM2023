{
  "nbformat": 4,
  "nbformat_minor": 0,
  "metadata": {
    "colab": {
      "provenance": [],
      "authorship_tag": "ABX9TyNEPlFo+eRmXMncHIvBu4ut",
      "include_colab_link": true
    },
    "kernelspec": {
      "name": "python3",
      "display_name": "Python 3"
    },
    "language_info": {
      "name": "python"
    }
  },
  "cells": [
    {
      "cell_type": "markdown",
      "metadata": {
        "id": "view-in-github",
        "colab_type": "text"
      },
      "source": [
        "<a href=\"https://colab.research.google.com/github/oktsadwikar/DPDM2023/blob/main/Data101_(Chapter2).ipynb\" target=\"_parent\"><img src=\"https://colab.research.google.com/assets/colab-badge.svg\" alt=\"Open In Colab\"/></a>"
      ]
    },
    {
      "cell_type": "markdown",
      "source": [
        "# CHAPTER 2"
      ],
      "metadata": {
        "id": "_IJaZqpv2YLb"
      }
    },
    {
      "cell_type": "markdown",
      "source": [
        "***pandas*** is a python package for manage table data.\n",
        "pandas sata structure for table is Dataframe"
      ],
      "metadata": {
        "id": "MJeRzpiV2dni"
      }
    },
    {
      "cell_type": "code",
      "execution_count": null,
      "metadata": {
        "id": "hHpEwIvO1Pcv"
      },
      "outputs": [],
      "source": [
        "import pandas  #we use import to pandas difine a package that we are using"
      ]
    },
    {
      "cell_type": "code",
      "source": [
        "import pandas as pd #we import package and name it as..."
      ],
      "metadata": {
        "id": "kePKtDmv2XvZ"
      },
      "execution_count": null,
      "outputs": []
    },
    {
      "cell_type": "markdown",
      "source": [
        "csv => comma separated values\n",
        "*   use comma (,) to separate values\n",
        "*   use new line (enter,\\n) to separate data points"
      ],
      "metadata": {
        "id": "8aSVIlRm3ghT"
      }
    },
    {
      "cell_type": "code",
      "source": [
        "data_df = pd.read_csv('/content/data.csv')"
      ],
      "metadata": {
        "id": "hdoWwloL3gPI"
      },
      "execution_count": null,
      "outputs": []
    },
    {
      "cell_type": "code",
      "source": [
        "data_df"
      ],
      "metadata": {
        "colab": {
          "base_uri": "https://localhost:8080/",
          "height": 143
        },
        "id": "SxOBI1r67Bhd",
        "outputId": "160e390c-d690-4ff5-b8c2-0a5c7d0b8838"
      },
      "execution_count": null,
      "outputs": [
        {
          "output_type": "execute_result",
          "data": {
            "text/plain": [
              "   Car_ID         Model   Year   Value   Pers_ID\n",
              "0     101       Bentley   1973  100000         0\n",
              "1     102   Rolls Royce   1965  330000         0\n",
              "2     103       Peugeot   1993     500         3"
            ],
            "text/html": [
              "\n",
              "\n",
              "  <div id=\"df-207d515a-724d-4da3-9d2a-c3034f242741\">\n",
              "    <div class=\"colab-df-container\">\n",
              "      <div>\n",
              "<style scoped>\n",
              "    .dataframe tbody tr th:only-of-type {\n",
              "        vertical-align: middle;\n",
              "    }\n",
              "\n",
              "    .dataframe tbody tr th {\n",
              "        vertical-align: top;\n",
              "    }\n",
              "\n",
              "    .dataframe thead th {\n",
              "        text-align: right;\n",
              "    }\n",
              "</style>\n",
              "<table border=\"1\" class=\"dataframe\">\n",
              "  <thead>\n",
              "    <tr style=\"text-align: right;\">\n",
              "      <th></th>\n",
              "      <th>Car_ID</th>\n",
              "      <th>Model</th>\n",
              "      <th>Year</th>\n",
              "      <th>Value</th>\n",
              "      <th>Pers_ID</th>\n",
              "    </tr>\n",
              "  </thead>\n",
              "  <tbody>\n",
              "    <tr>\n",
              "      <th>0</th>\n",
              "      <td>101</td>\n",
              "      <td>Bentley</td>\n",
              "      <td>1973</td>\n",
              "      <td>100000</td>\n",
              "      <td>0</td>\n",
              "    </tr>\n",
              "    <tr>\n",
              "      <th>1</th>\n",
              "      <td>102</td>\n",
              "      <td>Rolls Royce</td>\n",
              "      <td>1965</td>\n",
              "      <td>330000</td>\n",
              "      <td>0</td>\n",
              "    </tr>\n",
              "    <tr>\n",
              "      <th>2</th>\n",
              "      <td>103</td>\n",
              "      <td>Peugeot</td>\n",
              "      <td>1993</td>\n",
              "      <td>500</td>\n",
              "      <td>3</td>\n",
              "    </tr>\n",
              "  </tbody>\n",
              "</table>\n",
              "</div>\n",
              "      <button class=\"colab-df-convert\" onclick=\"convertToInteractive('df-207d515a-724d-4da3-9d2a-c3034f242741')\"\n",
              "              title=\"Convert this dataframe to an interactive table.\"\n",
              "              style=\"display:none;\">\n",
              "\n",
              "  <svg xmlns=\"http://www.w3.org/2000/svg\" height=\"24px\"viewBox=\"0 0 24 24\"\n",
              "       width=\"24px\">\n",
              "    <path d=\"M0 0h24v24H0V0z\" fill=\"none\"/>\n",
              "    <path d=\"M18.56 5.44l.94 2.06.94-2.06 2.06-.94-2.06-.94-.94-2.06-.94 2.06-2.06.94zm-11 1L8.5 8.5l.94-2.06 2.06-.94-2.06-.94L8.5 2.5l-.94 2.06-2.06.94zm10 10l.94 2.06.94-2.06 2.06-.94-2.06-.94-.94-2.06-.94 2.06-2.06.94z\"/><path d=\"M17.41 7.96l-1.37-1.37c-.4-.4-.92-.59-1.43-.59-.52 0-1.04.2-1.43.59L10.3 9.45l-7.72 7.72c-.78.78-.78 2.05 0 2.83L4 21.41c.39.39.9.59 1.41.59.51 0 1.02-.2 1.41-.59l7.78-7.78 2.81-2.81c.8-.78.8-2.07 0-2.86zM5.41 20L4 18.59l7.72-7.72 1.47 1.35L5.41 20z\"/>\n",
              "  </svg>\n",
              "      </button>\n",
              "\n",
              "\n",
              "\n",
              "    <div id=\"df-cbfee50e-d2c8-4e48-bded-ad398bd47c26\">\n",
              "      <button class=\"colab-df-quickchart\" onclick=\"quickchart('df-cbfee50e-d2c8-4e48-bded-ad398bd47c26')\"\n",
              "              title=\"Suggest charts.\"\n",
              "              style=\"display:none;\">\n",
              "\n",
              "<svg xmlns=\"http://www.w3.org/2000/svg\" height=\"24px\"viewBox=\"0 0 24 24\"\n",
              "     width=\"24px\">\n",
              "    <g>\n",
              "        <path d=\"M19 3H5c-1.1 0-2 .9-2 2v14c0 1.1.9 2 2 2h14c1.1 0 2-.9 2-2V5c0-1.1-.9-2-2-2zM9 17H7v-7h2v7zm4 0h-2V7h2v10zm4 0h-2v-4h2v4z\"/>\n",
              "    </g>\n",
              "</svg>\n",
              "      </button>\n",
              "    </div>\n",
              "\n",
              "<style>\n",
              "  .colab-df-quickchart {\n",
              "    background-color: #E8F0FE;\n",
              "    border: none;\n",
              "    border-radius: 50%;\n",
              "    cursor: pointer;\n",
              "    display: none;\n",
              "    fill: #1967D2;\n",
              "    height: 32px;\n",
              "    padding: 0 0 0 0;\n",
              "    width: 32px;\n",
              "  }\n",
              "\n",
              "  .colab-df-quickchart:hover {\n",
              "    background-color: #E2EBFA;\n",
              "    box-shadow: 0px 1px 2px rgba(60, 64, 67, 0.3), 0px 1px 3px 1px rgba(60, 64, 67, 0.15);\n",
              "    fill: #174EA6;\n",
              "  }\n",
              "\n",
              "  [theme=dark] .colab-df-quickchart {\n",
              "    background-color: #3B4455;\n",
              "    fill: #D2E3FC;\n",
              "  }\n",
              "\n",
              "  [theme=dark] .colab-df-quickchart:hover {\n",
              "    background-color: #434B5C;\n",
              "    box-shadow: 0px 1px 3px 1px rgba(0, 0, 0, 0.15);\n",
              "    filter: drop-shadow(0px 1px 2px rgba(0, 0, 0, 0.3));\n",
              "    fill: #FFFFFF;\n",
              "  }\n",
              "</style>\n",
              "\n",
              "    <script>\n",
              "      async function quickchart(key) {\n",
              "        const containerElement = document.querySelector('#' + key);\n",
              "        const charts = await google.colab.kernel.invokeFunction(\n",
              "            'suggestCharts', [key], {});\n",
              "      }\n",
              "    </script>\n",
              "\n",
              "      <script>\n",
              "\n",
              "function displayQuickchartButton(domScope) {\n",
              "  let quickchartButtonEl =\n",
              "    domScope.querySelector('#df-cbfee50e-d2c8-4e48-bded-ad398bd47c26 button.colab-df-quickchart');\n",
              "  quickchartButtonEl.style.display =\n",
              "    google.colab.kernel.accessAllowed ? 'block' : 'none';\n",
              "}\n",
              "\n",
              "        displayQuickchartButton(document);\n",
              "      </script>\n",
              "      <style>\n",
              "    .colab-df-container {\n",
              "      display:flex;\n",
              "      flex-wrap:wrap;\n",
              "      gap: 12px;\n",
              "    }\n",
              "\n",
              "    .colab-df-convert {\n",
              "      background-color: #E8F0FE;\n",
              "      border: none;\n",
              "      border-radius: 50%;\n",
              "      cursor: pointer;\n",
              "      display: none;\n",
              "      fill: #1967D2;\n",
              "      height: 32px;\n",
              "      padding: 0 0 0 0;\n",
              "      width: 32px;\n",
              "    }\n",
              "\n",
              "    .colab-df-convert:hover {\n",
              "      background-color: #E2EBFA;\n",
              "      box-shadow: 0px 1px 2px rgba(60, 64, 67, 0.3), 0px 1px 3px 1px rgba(60, 64, 67, 0.15);\n",
              "      fill: #174EA6;\n",
              "    }\n",
              "\n",
              "    [theme=dark] .colab-df-convert {\n",
              "      background-color: #3B4455;\n",
              "      fill: #D2E3FC;\n",
              "    }\n",
              "\n",
              "    [theme=dark] .colab-df-convert:hover {\n",
              "      background-color: #434B5C;\n",
              "      box-shadow: 0px 1px 3px 1px rgba(0, 0, 0, 0.15);\n",
              "      filter: drop-shadow(0px 1px 2px rgba(0, 0, 0, 0.3));\n",
              "      fill: #FFFFFF;\n",
              "    }\n",
              "  </style>\n",
              "\n",
              "      <script>\n",
              "        const buttonEl =\n",
              "          document.querySelector('#df-207d515a-724d-4da3-9d2a-c3034f242741 button.colab-df-convert');\n",
              "        buttonEl.style.display =\n",
              "          google.colab.kernel.accessAllowed ? 'block' : 'none';\n",
              "\n",
              "        async function convertToInteractive(key) {\n",
              "          const element = document.querySelector('#df-207d515a-724d-4da3-9d2a-c3034f242741');\n",
              "          const dataTable =\n",
              "            await google.colab.kernel.invokeFunction('convertToInteractive',\n",
              "                                                     [key], {});\n",
              "          if (!dataTable) return;\n",
              "\n",
              "          const docLinkHtml = 'Like what you see? Visit the ' +\n",
              "            '<a target=\"_blank\" href=https://colab.research.google.com/notebooks/data_table.ipynb>data table notebook</a>'\n",
              "            + ' to learn more about interactive tables.';\n",
              "          element.innerHTML = '';\n",
              "          dataTable['output_type'] = 'display_data';\n",
              "          await google.colab.output.renderOutput(dataTable, element);\n",
              "          const docLink = document.createElement('div');\n",
              "          docLink.innerHTML = docLinkHtml;\n",
              "          element.appendChild(docLink);\n",
              "        }\n",
              "      </script>\n",
              "    </div>\n",
              "  </div>\n"
            ]
          },
          "metadata": {},
          "execution_count": 7
        }
      ]
    },
    {
      "cell_type": "markdown",
      "source": [
        "## ***Data Structure***"
      ],
      "metadata": {
        "id": "_bLFtZbZ6_eP"
      }
    },
    {
      "cell_type": "markdown",
      "source": [
        "### List\n",
        "- List is a container to keep everything\n",
        "- It gives attention to order of the thing in the container"
      ],
      "metadata": {
        "id": "s7jw5kJc9EfD"
      }
    },
    {
      "cell_type": "code",
      "source": [
        "list_a = [1,2,3,0.9,'aaz', data_df] ## [] (square brackets), we keep int 1,2,3; float 0.9; str aaz; and dataframe data_df"
      ],
      "metadata": {
        "id": "JOdql60C9Co7"
      },
      "execution_count": null,
      "outputs": []
    },
    {
      "cell_type": "code",
      "source": [
        "list_a"
      ],
      "metadata": {
        "colab": {
          "base_uri": "https://localhost:8080/"
        },
        "id": "iN1xrXm090vO",
        "outputId": "10692d49-149b-4756-9010-259130d7c424"
      },
      "execution_count": null,
      "outputs": [
        {
          "output_type": "execute_result",
          "data": {
            "text/plain": [
              "[1,\n",
              " 2,\n",
              " 3,\n",
              " 0.9,\n",
              " 'aaz',\n",
              "    Car_ID         Model   Year   Value   Pers_ID\n",
              " 0     101       Bentley   1973  100000         0\n",
              " 1     102   Rolls Royce   1965  330000         0\n",
              " 2     103       Peugeot   1993     500         3]"
            ]
          },
          "metadata": {},
          "execution_count": 9
        }
      ]
    },
    {
      "cell_type": "markdown",
      "source": [
        "***Indexing*** = to choose the value that you want to get. Index start\n",
        "\n",
        "from 0"
      ],
      "metadata": {
        "id": "hRN_d9bN98aA"
      }
    },
    {
      "cell_type": "code",
      "source": [
        "list_a[0]"
      ],
      "metadata": {
        "colab": {
          "base_uri": "https://localhost:8080/"
        },
        "id": "dQodHeQO-Gib",
        "outputId": "1cd8be24-855e-4d52-e603-8a34b9490386"
      },
      "execution_count": null,
      "outputs": [
        {
          "output_type": "execute_result",
          "data": {
            "text/plain": [
              "1"
            ]
          },
          "metadata": {},
          "execution_count": 10
        }
      ]
    },
    {
      "cell_type": "code",
      "source": [
        "list_a[5]"
      ],
      "metadata": {
        "colab": {
          "base_uri": "https://localhost:8080/",
          "height": 143
        },
        "id": "i7nqgamm-R4e",
        "outputId": "fc087e32-1649-4c18-c4c8-d3e746877a21"
      },
      "execution_count": null,
      "outputs": [
        {
          "output_type": "execute_result",
          "data": {
            "text/plain": [
              "   Car_ID         Model   Year   Value   Pers_ID\n",
              "0     101       Bentley   1973  100000         0\n",
              "1     102   Rolls Royce   1965  330000         0\n",
              "2     103       Peugeot   1993     500         3"
            ],
            "text/html": [
              "\n",
              "\n",
              "  <div id=\"df-85e36570-0cc7-401f-ad65-99b9b21f9178\">\n",
              "    <div class=\"colab-df-container\">\n",
              "      <div>\n",
              "<style scoped>\n",
              "    .dataframe tbody tr th:only-of-type {\n",
              "        vertical-align: middle;\n",
              "    }\n",
              "\n",
              "    .dataframe tbody tr th {\n",
              "        vertical-align: top;\n",
              "    }\n",
              "\n",
              "    .dataframe thead th {\n",
              "        text-align: right;\n",
              "    }\n",
              "</style>\n",
              "<table border=\"1\" class=\"dataframe\">\n",
              "  <thead>\n",
              "    <tr style=\"text-align: right;\">\n",
              "      <th></th>\n",
              "      <th>Car_ID</th>\n",
              "      <th>Model</th>\n",
              "      <th>Year</th>\n",
              "      <th>Value</th>\n",
              "      <th>Pers_ID</th>\n",
              "    </tr>\n",
              "  </thead>\n",
              "  <tbody>\n",
              "    <tr>\n",
              "      <th>0</th>\n",
              "      <td>101</td>\n",
              "      <td>Bentley</td>\n",
              "      <td>1973</td>\n",
              "      <td>100000</td>\n",
              "      <td>0</td>\n",
              "    </tr>\n",
              "    <tr>\n",
              "      <th>1</th>\n",
              "      <td>102</td>\n",
              "      <td>Rolls Royce</td>\n",
              "      <td>1965</td>\n",
              "      <td>330000</td>\n",
              "      <td>0</td>\n",
              "    </tr>\n",
              "    <tr>\n",
              "      <th>2</th>\n",
              "      <td>103</td>\n",
              "      <td>Peugeot</td>\n",
              "      <td>1993</td>\n",
              "      <td>500</td>\n",
              "      <td>3</td>\n",
              "    </tr>\n",
              "  </tbody>\n",
              "</table>\n",
              "</div>\n",
              "      <button class=\"colab-df-convert\" onclick=\"convertToInteractive('df-85e36570-0cc7-401f-ad65-99b9b21f9178')\"\n",
              "              title=\"Convert this dataframe to an interactive table.\"\n",
              "              style=\"display:none;\">\n",
              "\n",
              "  <svg xmlns=\"http://www.w3.org/2000/svg\" height=\"24px\"viewBox=\"0 0 24 24\"\n",
              "       width=\"24px\">\n",
              "    <path d=\"M0 0h24v24H0V0z\" fill=\"none\"/>\n",
              "    <path d=\"M18.56 5.44l.94 2.06.94-2.06 2.06-.94-2.06-.94-.94-2.06-.94 2.06-2.06.94zm-11 1L8.5 8.5l.94-2.06 2.06-.94-2.06-.94L8.5 2.5l-.94 2.06-2.06.94zm10 10l.94 2.06.94-2.06 2.06-.94-2.06-.94-.94-2.06-.94 2.06-2.06.94z\"/><path d=\"M17.41 7.96l-1.37-1.37c-.4-.4-.92-.59-1.43-.59-.52 0-1.04.2-1.43.59L10.3 9.45l-7.72 7.72c-.78.78-.78 2.05 0 2.83L4 21.41c.39.39.9.59 1.41.59.51 0 1.02-.2 1.41-.59l7.78-7.78 2.81-2.81c.8-.78.8-2.07 0-2.86zM5.41 20L4 18.59l7.72-7.72 1.47 1.35L5.41 20z\"/>\n",
              "  </svg>\n",
              "      </button>\n",
              "\n",
              "\n",
              "\n",
              "    <div id=\"df-49b78bee-c761-43aa-bdf4-d520443d2315\">\n",
              "      <button class=\"colab-df-quickchart\" onclick=\"quickchart('df-49b78bee-c761-43aa-bdf4-d520443d2315')\"\n",
              "              title=\"Suggest charts.\"\n",
              "              style=\"display:none;\">\n",
              "\n",
              "<svg xmlns=\"http://www.w3.org/2000/svg\" height=\"24px\"viewBox=\"0 0 24 24\"\n",
              "     width=\"24px\">\n",
              "    <g>\n",
              "        <path d=\"M19 3H5c-1.1 0-2 .9-2 2v14c0 1.1.9 2 2 2h14c1.1 0 2-.9 2-2V5c0-1.1-.9-2-2-2zM9 17H7v-7h2v7zm4 0h-2V7h2v10zm4 0h-2v-4h2v4z\"/>\n",
              "    </g>\n",
              "</svg>\n",
              "      </button>\n",
              "    </div>\n",
              "\n",
              "<style>\n",
              "  .colab-df-quickchart {\n",
              "    background-color: #E8F0FE;\n",
              "    border: none;\n",
              "    border-radius: 50%;\n",
              "    cursor: pointer;\n",
              "    display: none;\n",
              "    fill: #1967D2;\n",
              "    height: 32px;\n",
              "    padding: 0 0 0 0;\n",
              "    width: 32px;\n",
              "  }\n",
              "\n",
              "  .colab-df-quickchart:hover {\n",
              "    background-color: #E2EBFA;\n",
              "    box-shadow: 0px 1px 2px rgba(60, 64, 67, 0.3), 0px 1px 3px 1px rgba(60, 64, 67, 0.15);\n",
              "    fill: #174EA6;\n",
              "  }\n",
              "\n",
              "  [theme=dark] .colab-df-quickchart {\n",
              "    background-color: #3B4455;\n",
              "    fill: #D2E3FC;\n",
              "  }\n",
              "\n",
              "  [theme=dark] .colab-df-quickchart:hover {\n",
              "    background-color: #434B5C;\n",
              "    box-shadow: 0px 1px 3px 1px rgba(0, 0, 0, 0.15);\n",
              "    filter: drop-shadow(0px 1px 2px rgba(0, 0, 0, 0.3));\n",
              "    fill: #FFFFFF;\n",
              "  }\n",
              "</style>\n",
              "\n",
              "    <script>\n",
              "      async function quickchart(key) {\n",
              "        const containerElement = document.querySelector('#' + key);\n",
              "        const charts = await google.colab.kernel.invokeFunction(\n",
              "            'suggestCharts', [key], {});\n",
              "      }\n",
              "    </script>\n",
              "\n",
              "      <script>\n",
              "\n",
              "function displayQuickchartButton(domScope) {\n",
              "  let quickchartButtonEl =\n",
              "    domScope.querySelector('#df-49b78bee-c761-43aa-bdf4-d520443d2315 button.colab-df-quickchart');\n",
              "  quickchartButtonEl.style.display =\n",
              "    google.colab.kernel.accessAllowed ? 'block' : 'none';\n",
              "}\n",
              "\n",
              "        displayQuickchartButton(document);\n",
              "      </script>\n",
              "      <style>\n",
              "    .colab-df-container {\n",
              "      display:flex;\n",
              "      flex-wrap:wrap;\n",
              "      gap: 12px;\n",
              "    }\n",
              "\n",
              "    .colab-df-convert {\n",
              "      background-color: #E8F0FE;\n",
              "      border: none;\n",
              "      border-radius: 50%;\n",
              "      cursor: pointer;\n",
              "      display: none;\n",
              "      fill: #1967D2;\n",
              "      height: 32px;\n",
              "      padding: 0 0 0 0;\n",
              "      width: 32px;\n",
              "    }\n",
              "\n",
              "    .colab-df-convert:hover {\n",
              "      background-color: #E2EBFA;\n",
              "      box-shadow: 0px 1px 2px rgba(60, 64, 67, 0.3), 0px 1px 3px 1px rgba(60, 64, 67, 0.15);\n",
              "      fill: #174EA6;\n",
              "    }\n",
              "\n",
              "    [theme=dark] .colab-df-convert {\n",
              "      background-color: #3B4455;\n",
              "      fill: #D2E3FC;\n",
              "    }\n",
              "\n",
              "    [theme=dark] .colab-df-convert:hover {\n",
              "      background-color: #434B5C;\n",
              "      box-shadow: 0px 1px 3px 1px rgba(0, 0, 0, 0.15);\n",
              "      filter: drop-shadow(0px 1px 2px rgba(0, 0, 0, 0.3));\n",
              "      fill: #FFFFFF;\n",
              "    }\n",
              "  </style>\n",
              "\n",
              "      <script>\n",
              "        const buttonEl =\n",
              "          document.querySelector('#df-85e36570-0cc7-401f-ad65-99b9b21f9178 button.colab-df-convert');\n",
              "        buttonEl.style.display =\n",
              "          google.colab.kernel.accessAllowed ? 'block' : 'none';\n",
              "\n",
              "        async function convertToInteractive(key) {\n",
              "          const element = document.querySelector('#df-85e36570-0cc7-401f-ad65-99b9b21f9178');\n",
              "          const dataTable =\n",
              "            await google.colab.kernel.invokeFunction('convertToInteractive',\n",
              "                                                     [key], {});\n",
              "          if (!dataTable) return;\n",
              "\n",
              "          const docLinkHtml = 'Like what you see? Visit the ' +\n",
              "            '<a target=\"_blank\" href=https://colab.research.google.com/notebooks/data_table.ipynb>data table notebook</a>'\n",
              "            + ' to learn more about interactive tables.';\n",
              "          element.innerHTML = '';\n",
              "          dataTable['output_type'] = 'display_data';\n",
              "          await google.colab.output.renderOutput(dataTable, element);\n",
              "          const docLink = document.createElement('div');\n",
              "          docLink.innerHTML = docLinkHtml;\n",
              "          element.appendChild(docLink);\n",
              "        }\n",
              "      </script>\n",
              "    </div>\n",
              "  </div>\n"
            ]
          },
          "metadata": {},
          "execution_count": 11
        }
      ]
    },
    {
      "cell_type": "markdown",
      "source": [
        "***Negative*** index => get data from the last one"
      ],
      "metadata": {
        "id": "LyrNDhBN-VVy"
      }
    },
    {
      "cell_type": "code",
      "source": [
        "list_a[-1] ## Negative index"
      ],
      "metadata": {
        "colab": {
          "base_uri": "https://localhost:8080/",
          "height": 143
        },
        "id": "f1cKn2wy-wC9",
        "outputId": "772631a4-2f75-4b83-8d8e-4de86f83d5ec"
      },
      "execution_count": null,
      "outputs": [
        {
          "output_type": "execute_result",
          "data": {
            "text/plain": [
              "   Car_ID         Model   Year   Value   Pers_ID\n",
              "0     101       Bentley   1973  100000         0\n",
              "1     102   Rolls Royce   1965  330000         0\n",
              "2     103       Peugeot   1993     500         3"
            ],
            "text/html": [
              "\n",
              "\n",
              "  <div id=\"df-9a970f07-5543-4b29-827e-544127c34d1e\">\n",
              "    <div class=\"colab-df-container\">\n",
              "      <div>\n",
              "<style scoped>\n",
              "    .dataframe tbody tr th:only-of-type {\n",
              "        vertical-align: middle;\n",
              "    }\n",
              "\n",
              "    .dataframe tbody tr th {\n",
              "        vertical-align: top;\n",
              "    }\n",
              "\n",
              "    .dataframe thead th {\n",
              "        text-align: right;\n",
              "    }\n",
              "</style>\n",
              "<table border=\"1\" class=\"dataframe\">\n",
              "  <thead>\n",
              "    <tr style=\"text-align: right;\">\n",
              "      <th></th>\n",
              "      <th>Car_ID</th>\n",
              "      <th>Model</th>\n",
              "      <th>Year</th>\n",
              "      <th>Value</th>\n",
              "      <th>Pers_ID</th>\n",
              "    </tr>\n",
              "  </thead>\n",
              "  <tbody>\n",
              "    <tr>\n",
              "      <th>0</th>\n",
              "      <td>101</td>\n",
              "      <td>Bentley</td>\n",
              "      <td>1973</td>\n",
              "      <td>100000</td>\n",
              "      <td>0</td>\n",
              "    </tr>\n",
              "    <tr>\n",
              "      <th>1</th>\n",
              "      <td>102</td>\n",
              "      <td>Rolls Royce</td>\n",
              "      <td>1965</td>\n",
              "      <td>330000</td>\n",
              "      <td>0</td>\n",
              "    </tr>\n",
              "    <tr>\n",
              "      <th>2</th>\n",
              "      <td>103</td>\n",
              "      <td>Peugeot</td>\n",
              "      <td>1993</td>\n",
              "      <td>500</td>\n",
              "      <td>3</td>\n",
              "    </tr>\n",
              "  </tbody>\n",
              "</table>\n",
              "</div>\n",
              "      <button class=\"colab-df-convert\" onclick=\"convertToInteractive('df-9a970f07-5543-4b29-827e-544127c34d1e')\"\n",
              "              title=\"Convert this dataframe to an interactive table.\"\n",
              "              style=\"display:none;\">\n",
              "\n",
              "  <svg xmlns=\"http://www.w3.org/2000/svg\" height=\"24px\"viewBox=\"0 0 24 24\"\n",
              "       width=\"24px\">\n",
              "    <path d=\"M0 0h24v24H0V0z\" fill=\"none\"/>\n",
              "    <path d=\"M18.56 5.44l.94 2.06.94-2.06 2.06-.94-2.06-.94-.94-2.06-.94 2.06-2.06.94zm-11 1L8.5 8.5l.94-2.06 2.06-.94-2.06-.94L8.5 2.5l-.94 2.06-2.06.94zm10 10l.94 2.06.94-2.06 2.06-.94-2.06-.94-.94-2.06-.94 2.06-2.06.94z\"/><path d=\"M17.41 7.96l-1.37-1.37c-.4-.4-.92-.59-1.43-.59-.52 0-1.04.2-1.43.59L10.3 9.45l-7.72 7.72c-.78.78-.78 2.05 0 2.83L4 21.41c.39.39.9.59 1.41.59.51 0 1.02-.2 1.41-.59l7.78-7.78 2.81-2.81c.8-.78.8-2.07 0-2.86zM5.41 20L4 18.59l7.72-7.72 1.47 1.35L5.41 20z\"/>\n",
              "  </svg>\n",
              "      </button>\n",
              "\n",
              "\n",
              "\n",
              "    <div id=\"df-04c3ef5f-7d7f-4b8f-b3dd-a14311d048ee\">\n",
              "      <button class=\"colab-df-quickchart\" onclick=\"quickchart('df-04c3ef5f-7d7f-4b8f-b3dd-a14311d048ee')\"\n",
              "              title=\"Suggest charts.\"\n",
              "              style=\"display:none;\">\n",
              "\n",
              "<svg xmlns=\"http://www.w3.org/2000/svg\" height=\"24px\"viewBox=\"0 0 24 24\"\n",
              "     width=\"24px\">\n",
              "    <g>\n",
              "        <path d=\"M19 3H5c-1.1 0-2 .9-2 2v14c0 1.1.9 2 2 2h14c1.1 0 2-.9 2-2V5c0-1.1-.9-2-2-2zM9 17H7v-7h2v7zm4 0h-2V7h2v10zm4 0h-2v-4h2v4z\"/>\n",
              "    </g>\n",
              "</svg>\n",
              "      </button>\n",
              "    </div>\n",
              "\n",
              "<style>\n",
              "  .colab-df-quickchart {\n",
              "    background-color: #E8F0FE;\n",
              "    border: none;\n",
              "    border-radius: 50%;\n",
              "    cursor: pointer;\n",
              "    display: none;\n",
              "    fill: #1967D2;\n",
              "    height: 32px;\n",
              "    padding: 0 0 0 0;\n",
              "    width: 32px;\n",
              "  }\n",
              "\n",
              "  .colab-df-quickchart:hover {\n",
              "    background-color: #E2EBFA;\n",
              "    box-shadow: 0px 1px 2px rgba(60, 64, 67, 0.3), 0px 1px 3px 1px rgba(60, 64, 67, 0.15);\n",
              "    fill: #174EA6;\n",
              "  }\n",
              "\n",
              "  [theme=dark] .colab-df-quickchart {\n",
              "    background-color: #3B4455;\n",
              "    fill: #D2E3FC;\n",
              "  }\n",
              "\n",
              "  [theme=dark] .colab-df-quickchart:hover {\n",
              "    background-color: #434B5C;\n",
              "    box-shadow: 0px 1px 3px 1px rgba(0, 0, 0, 0.15);\n",
              "    filter: drop-shadow(0px 1px 2px rgba(0, 0, 0, 0.3));\n",
              "    fill: #FFFFFF;\n",
              "  }\n",
              "</style>\n",
              "\n",
              "    <script>\n",
              "      async function quickchart(key) {\n",
              "        const containerElement = document.querySelector('#' + key);\n",
              "        const charts = await google.colab.kernel.invokeFunction(\n",
              "            'suggestCharts', [key], {});\n",
              "      }\n",
              "    </script>\n",
              "\n",
              "      <script>\n",
              "\n",
              "function displayQuickchartButton(domScope) {\n",
              "  let quickchartButtonEl =\n",
              "    domScope.querySelector('#df-04c3ef5f-7d7f-4b8f-b3dd-a14311d048ee button.colab-df-quickchart');\n",
              "  quickchartButtonEl.style.display =\n",
              "    google.colab.kernel.accessAllowed ? 'block' : 'none';\n",
              "}\n",
              "\n",
              "        displayQuickchartButton(document);\n",
              "      </script>\n",
              "      <style>\n",
              "    .colab-df-container {\n",
              "      display:flex;\n",
              "      flex-wrap:wrap;\n",
              "      gap: 12px;\n",
              "    }\n",
              "\n",
              "    .colab-df-convert {\n",
              "      background-color: #E8F0FE;\n",
              "      border: none;\n",
              "      border-radius: 50%;\n",
              "      cursor: pointer;\n",
              "      display: none;\n",
              "      fill: #1967D2;\n",
              "      height: 32px;\n",
              "      padding: 0 0 0 0;\n",
              "      width: 32px;\n",
              "    }\n",
              "\n",
              "    .colab-df-convert:hover {\n",
              "      background-color: #E2EBFA;\n",
              "      box-shadow: 0px 1px 2px rgba(60, 64, 67, 0.3), 0px 1px 3px 1px rgba(60, 64, 67, 0.15);\n",
              "      fill: #174EA6;\n",
              "    }\n",
              "\n",
              "    [theme=dark] .colab-df-convert {\n",
              "      background-color: #3B4455;\n",
              "      fill: #D2E3FC;\n",
              "    }\n",
              "\n",
              "    [theme=dark] .colab-df-convert:hover {\n",
              "      background-color: #434B5C;\n",
              "      box-shadow: 0px 1px 3px 1px rgba(0, 0, 0, 0.15);\n",
              "      filter: drop-shadow(0px 1px 2px rgba(0, 0, 0, 0.3));\n",
              "      fill: #FFFFFF;\n",
              "    }\n",
              "  </style>\n",
              "\n",
              "      <script>\n",
              "        const buttonEl =\n",
              "          document.querySelector('#df-9a970f07-5543-4b29-827e-544127c34d1e button.colab-df-convert');\n",
              "        buttonEl.style.display =\n",
              "          google.colab.kernel.accessAllowed ? 'block' : 'none';\n",
              "\n",
              "        async function convertToInteractive(key) {\n",
              "          const element = document.querySelector('#df-9a970f07-5543-4b29-827e-544127c34d1e');\n",
              "          const dataTable =\n",
              "            await google.colab.kernel.invokeFunction('convertToInteractive',\n",
              "                                                     [key], {});\n",
              "          if (!dataTable) return;\n",
              "\n",
              "          const docLinkHtml = 'Like what you see? Visit the ' +\n",
              "            '<a target=\"_blank\" href=https://colab.research.google.com/notebooks/data_table.ipynb>data table notebook</a>'\n",
              "            + ' to learn more about interactive tables.';\n",
              "          element.innerHTML = '';\n",
              "          dataTable['output_type'] = 'display_data';\n",
              "          await google.colab.output.renderOutput(dataTable, element);\n",
              "          const docLink = document.createElement('div');\n",
              "          docLink.innerHTML = docLinkHtml;\n",
              "          element.appendChild(docLink);\n",
              "        }\n",
              "      </script>\n",
              "    </div>\n",
              "  </div>\n"
            ]
          },
          "metadata": {},
          "execution_count": 12
        }
      ]
    },
    {
      "cell_type": "code",
      "source": [
        "list_b = ['pizza', list_a, 9]  # we can keep list inside a list\n",
        "list_b"
      ],
      "metadata": {
        "colab": {
          "base_uri": "https://localhost:8080/"
        },
        "id": "yggkSU5a-5EY",
        "outputId": "32630046-d02a-41d6-9edd-205394035f95"
      },
      "execution_count": null,
      "outputs": [
        {
          "output_type": "execute_result",
          "data": {
            "text/plain": [
              "['pizza',\n",
              " [1,\n",
              "  2,\n",
              "  3,\n",
              "  0.9,\n",
              "  'aaz',\n",
              "     Car_ID         Model   Year   Value   Pers_ID\n",
              "  0     101       Bentley   1973  100000         0\n",
              "  1     102   Rolls Royce   1965  330000         0\n",
              "  2     103       Peugeot   1993     500         3],\n",
              " 9]"
            ]
          },
          "metadata": {},
          "execution_count": 15
        }
      ]
    },
    {
      "cell_type": "code",
      "source": [
        "list_b[1][0] #double index, we choose index no 1 (list_a) from list b, and choose member no 0 from index 1 (list_a)"
      ],
      "metadata": {
        "colab": {
          "base_uri": "https://localhost:8080/"
        },
        "id": "eT3m20f__ZBm",
        "outputId": "49c1ca8a-0446-4358-e023-5e83a944b5d3"
      },
      "execution_count": null,
      "outputs": [
        {
          "output_type": "execute_result",
          "data": {
            "text/plain": [
              "1"
            ]
          },
          "metadata": {},
          "execution_count": 16
        }
      ]
    },
    {
      "cell_type": "markdown",
      "source": [
        "### String is a list characters"
      ],
      "metadata": {
        "id": "TRaHeZz3AGaM"
      }
    },
    {
      "cell_type": "code",
      "source": [
        "x = 'shabu'\n",
        "x[-2]  #choose 2nd characters from behind, it will show b"
      ],
      "metadata": {
        "colab": {
          "base_uri": "https://localhost:8080/",
          "height": 35
        },
        "id": "xDpf9qVHALj-",
        "outputId": "594a9888-e974-465d-99b7-ec07b9a7d668"
      },
      "execution_count": null,
      "outputs": [
        {
          "output_type": "execute_result",
          "data": {
            "text/plain": [
              "'b'"
            ],
            "application/vnd.google.colaboratory.intrinsic+json": {
              "type": "string"
            }
          },
          "metadata": {},
          "execution_count": 18
        }
      ]
    },
    {
      "cell_type": "code",
      "source": [
        "print(list_a)\n",
        "print(list_b)"
      ],
      "metadata": {
        "colab": {
          "base_uri": "https://localhost:8080/"
        },
        "id": "NCFyF6tDAcLF",
        "outputId": "64495d6b-7848-4ae3-f6e6-54ac5e0c89c7"
      },
      "execution_count": null,
      "outputs": [
        {
          "output_type": "stream",
          "name": "stdout",
          "text": [
            "[1, 2, 3, 0.9, 'aaz',    Car_ID         Model   Year   Value   Pers_ID\n",
            "0     101       Bentley   1973  100000         0\n",
            "1     102   Rolls Royce   1965  330000         0\n",
            "2     103       Peugeot   1993     500         3]\n",
            "['pizza', [1, 2, 3, 0.9, 'aaz',    Car_ID         Model   Year   Value   Pers_ID\n",
            "0     101       Bentley   1973  100000         0\n",
            "1     102   Rolls Royce   1965  330000         0\n",
            "2     103       Peugeot   1993     500         3], 9]\n"
          ]
        }
      ]
    },
    {
      "cell_type": "code",
      "source": [
        "list_a + list_b"
      ],
      "metadata": {
        "colab": {
          "base_uri": "https://localhost:8080/"
        },
        "id": "Tou8ks6CAl0e",
        "outputId": "795f1cf4-28b9-4b02-de58-68902613f984"
      },
      "execution_count": null,
      "outputs": [
        {
          "output_type": "execute_result",
          "data": {
            "text/plain": [
              "[1,\n",
              " 2,\n",
              " 3,\n",
              " 0.9,\n",
              " 'aaz',\n",
              "    Car_ID         Model   Year   Value   Pers_ID\n",
              " 0     101       Bentley   1973  100000         0\n",
              " 1     102   Rolls Royce   1965  330000         0\n",
              " 2     103       Peugeot   1993     500         3,\n",
              " 'pizza',\n",
              " [1,\n",
              "  2,\n",
              "  3,\n",
              "  0.9,\n",
              "  'aaz',\n",
              "     Car_ID         Model   Year   Value   Pers_ID\n",
              "  0     101       Bentley   1973  100000         0\n",
              "  1     102   Rolls Royce   1965  330000         0\n",
              "  2     103       Peugeot   1993     500         3],\n",
              " 9]"
            ]
          },
          "metadata": {},
          "execution_count": 20
        }
      ]
    },
    {
      "cell_type": "markdown",
      "source": [
        "### Creating a list\n",
        "- create an empty list\n",
        "- add member to the list\n",
        "- then you can indexing the list"
      ],
      "metadata": {
        "id": "qHtOxRWNArY8"
      }
    },
    {
      "cell_type": "markdown",
      "source": [
        "1. Creating an empty list"
      ],
      "metadata": {
        "id": "wcnr2uDSAJet"
      }
    },
    {
      "cell_type": "code",
      "source": [
        "list_aa = []\n",
        "list_aa"
      ],
      "metadata": {
        "colab": {
          "base_uri": "https://localhost:8080/"
        },
        "id": "7Zi1uzxRA3b7",
        "outputId": "6f38a14f-a9a7-407b-abeb-198e29316206"
      },
      "execution_count": null,
      "outputs": [
        {
          "output_type": "execute_result",
          "data": {
            "text/plain": [
              "[]"
            ]
          },
          "metadata": {},
          "execution_count": 21
        }
      ]
    },
    {
      "cell_type": "code",
      "source": [
        "list_bb = list () #using function list\n",
        "print(list_bb)"
      ],
      "metadata": {
        "colab": {
          "base_uri": "https://localhost:8080/"
        },
        "id": "EfvvnZpjBHs-",
        "outputId": "4066a399-5485-47ce-eb5c-4ee11fd46d84"
      },
      "execution_count": null,
      "outputs": [
        {
          "output_type": "stream",
          "name": "stdout",
          "text": [
            "[]\n"
          ]
        }
      ]
    },
    {
      "cell_type": "markdown",
      "source": [
        "2. Adding a member to the list (.append())"
      ],
      "metadata": {
        "id": "O_PjK-nNBQTp"
      }
    },
    {
      "cell_type": "code",
      "source": [
        "list_aa.append('chicken')\n",
        "list_aa.append('water')\n",
        "list_aa.append('vegetable')"
      ],
      "metadata": {
        "id": "Ayf7fWKQBXOl"
      },
      "execution_count": null,
      "outputs": []
    },
    {
      "cell_type": "code",
      "source": [
        "list_aa"
      ],
      "metadata": {
        "colab": {
          "base_uri": "https://localhost:8080/"
        },
        "id": "mT6c9FriBvNT",
        "outputId": "1887748e-fca0-43db-e51e-9e3db63dd811"
      },
      "execution_count": null,
      "outputs": [
        {
          "output_type": "execute_result",
          "data": {
            "text/plain": [
              "['chicken', 'water', 'vegetable']"
            ]
          },
          "metadata": {},
          "execution_count": 24
        }
      ]
    },
    {
      "cell_type": "code",
      "source": [
        "list_aa.append('rice')"
      ],
      "metadata": {
        "id": "nXM31cNXBw74"
      },
      "execution_count": null,
      "outputs": []
    },
    {
      "cell_type": "code",
      "source": [
        "list_aa"
      ],
      "metadata": {
        "colab": {
          "base_uri": "https://localhost:8080/"
        },
        "id": "KuZ-uRV1BzeY",
        "outputId": "0a94066e-4828-4939-cce0-06f4d3525cf6"
      },
      "execution_count": null,
      "outputs": [
        {
          "output_type": "execute_result",
          "data": {
            "text/plain": [
              "['chicken', 'water', 'vegetable', 'rice']"
            ]
          },
          "metadata": {},
          "execution_count": 26
        }
      ]
    },
    {
      "cell_type": "code",
      "source": [
        "list_aa[-1] #indexing"
      ],
      "metadata": {
        "colab": {
          "base_uri": "https://localhost:8080/",
          "height": 35
        },
        "id": "yBXS8FZDB2vt",
        "outputId": "b23626d9-7ffe-4ee0-a6d1-cae78886ee10"
      },
      "execution_count": null,
      "outputs": [
        {
          "output_type": "execute_result",
          "data": {
            "text/plain": [
              "'rice'"
            ],
            "application/vnd.google.colaboratory.intrinsic+json": {
              "type": "string"
            }
          },
          "metadata": {},
          "execution_count": 27
        }
      ]
    },
    {
      "cell_type": "code",
      "source": [
        "list_aa[2]"
      ],
      "metadata": {
        "colab": {
          "base_uri": "https://localhost:8080/",
          "height": 35
        },
        "id": "3vuC6XHqB7RO",
        "outputId": "49980ffa-b733-490c-acb5-29fa39716e4c"
      },
      "execution_count": null,
      "outputs": [
        {
          "output_type": "execute_result",
          "data": {
            "text/plain": [
              "'vegetable'"
            ],
            "application/vnd.google.colaboratory.intrinsic+json": {
              "type": "string"
            }
          },
          "metadata": {},
          "execution_count": 28
        }
      ]
    },
    {
      "cell_type": "code",
      "source": [
        "list_aa.append('plate')\n",
        "#list_aa\n",
        "list_aa[-2]"
      ],
      "metadata": {
        "colab": {
          "base_uri": "https://localhost:8080/",
          "height": 35
        },
        "id": "_zzBGXO0CBBi",
        "outputId": "09f52282-f5ee-43a9-c7a6-f352c6b42e08"
      },
      "execution_count": null,
      "outputs": [
        {
          "output_type": "execute_result",
          "data": {
            "text/plain": [
              "'rice'"
            ],
            "application/vnd.google.colaboratory.intrinsic+json": {
              "type": "string"
            }
          },
          "metadata": {},
          "execution_count": 29
        }
      ]
    },
    {
      "cell_type": "markdown",
      "source": [
        "### List Slicing"
      ],
      "metadata": {
        "id": "VDGCkOCoCOK1"
      }
    },
    {
      "cell_type": "markdown",
      "source": [
        "we cut part of the list using : (colon)\n",
        "\n",
        "```\n",
        "list_name[start:end:step]\n",
        "\n"
      ],
      "metadata": {
        "id": "BtfktayHE1iO"
      }
    },
    {
      "cell_type": "code",
      "source": [
        "list_aa.append('spoon')\n",
        "list_aa.append('fork')\n",
        "list_aa.append('knife')\n",
        "list_aa.append('apple')"
      ],
      "metadata": {
        "id": "GSL-8hBuG8j3"
      },
      "execution_count": null,
      "outputs": []
    },
    {
      "cell_type": "code",
      "source": [
        "list_aa"
      ],
      "metadata": {
        "colab": {
          "base_uri": "https://localhost:8080/"
        },
        "id": "qPof7DXEHPOk",
        "outputId": "dd453684-b488-4609-acae-8c0ef49d99df"
      },
      "execution_count": null,
      "outputs": [
        {
          "output_type": "execute_result",
          "data": {
            "text/plain": [
              "['chicken',\n",
              " 'water',\n",
              " 'vegetable',\n",
              " 'rice',\n",
              " 'plate',\n",
              " 'spoon',\n",
              " 'fork',\n",
              " 'knife',\n",
              " 'apple']"
            ]
          },
          "metadata": {},
          "execution_count": 31
        }
      ]
    },
    {
      "cell_type": "code",
      "source": [
        "list_aa[2:7:1]  #we want index number 2 until 6, we can't type 6 because the end is exclusive, and the jump is 1"
      ],
      "metadata": {
        "colab": {
          "base_uri": "https://localhost:8080/"
        },
        "id": "Ij0VBzVMHUPN",
        "outputId": "36d0fcec-04c6-4afa-d071-2529e6556ebc"
      },
      "execution_count": null,
      "outputs": [
        {
          "output_type": "execute_result",
          "data": {
            "text/plain": [
              "['vegetable', 'rice', 'plate', 'spoon', 'fork']"
            ]
          },
          "metadata": {},
          "execution_count": 32
        }
      ]
    },
    {
      "cell_type": "code",
      "source": [
        "list_aa[2:7]"
      ],
      "metadata": {
        "colab": {
          "base_uri": "https://localhost:8080/"
        },
        "id": "HphUc5q2Hnom",
        "outputId": "4cc6dc38-d0bb-4bbc-a320-eb7fec967955"
      },
      "execution_count": null,
      "outputs": [
        {
          "output_type": "execute_result",
          "data": {
            "text/plain": [
              "['vegetable', 'rice', 'plate', 'spoon', 'fork']"
            ]
          },
          "metadata": {},
          "execution_count": 33
        }
      ]
    },
    {
      "cell_type": "code",
      "source": [
        "list_aa[2:] #we want index no 2 until the end"
      ],
      "metadata": {
        "colab": {
          "base_uri": "https://localhost:8080/"
        },
        "id": "53FHRYW6H8Yk",
        "outputId": "2c74b0d3-3338-4596-b36a-45ad969e1b51"
      },
      "execution_count": null,
      "outputs": [
        {
          "output_type": "execute_result",
          "data": {
            "text/plain": [
              "['vegetable', 'rice', 'plate', 'spoon', 'fork', 'knife', 'apple']"
            ]
          },
          "metadata": {},
          "execution_count": 34
        }
      ]
    },
    {
      "cell_type": "code",
      "source": [
        "list_aa[:5] #we want index from the start until no 5"
      ],
      "metadata": {
        "colab": {
          "base_uri": "https://localhost:8080/"
        },
        "id": "8URrlwJ3INEZ",
        "outputId": "3b37efd6-1637-45b0-fef1-5e8cfefd0eb1"
      },
      "execution_count": null,
      "outputs": [
        {
          "output_type": "execute_result",
          "data": {
            "text/plain": [
              "['chicken', 'water', 'vegetable', 'rice', 'plate']"
            ]
          },
          "metadata": {},
          "execution_count": 35
        }
      ]
    },
    {
      "cell_type": "code",
      "source": [
        "list_aa[:5:2] #index from start until no 5, with jump is 2"
      ],
      "metadata": {
        "colab": {
          "base_uri": "https://localhost:8080/"
        },
        "id": "GvUZqLoCIUZs",
        "outputId": "68715a72-26dc-4195-b5b7-462341509677"
      },
      "execution_count": null,
      "outputs": [
        {
          "output_type": "execute_result",
          "data": {
            "text/plain": [
              "['chicken', 'vegetable', 'plate']"
            ]
          },
          "metadata": {},
          "execution_count": 36
        }
      ]
    },
    {
      "cell_type": "code",
      "source": [
        "list_aa[::-1] #want from the start until the end, but going backward"
      ],
      "metadata": {
        "colab": {
          "base_uri": "https://localhost:8080/"
        },
        "id": "puG55Ju_Io8b",
        "outputId": "ff858d75-d37e-40c5-dea0-7713c0b38c0a"
      },
      "execution_count": null,
      "outputs": [
        {
          "output_type": "execute_result",
          "data": {
            "text/plain": [
              "['apple',\n",
              " 'knife',\n",
              " 'fork',\n",
              " 'spoon',\n",
              " 'plate',\n",
              " 'rice',\n",
              " 'vegetable',\n",
              " 'water',\n",
              " 'chicken']"
            ]
          },
          "metadata": {},
          "execution_count": 37
        }
      ]
    },
    {
      "cell_type": "markdown",
      "source": [
        "#### QUIZ 1\n",
        "Cut the following parts from list_aa\n",
        "1. 'icken'\n",
        "2. 'get'\n",
        "3. 'tab'"
      ],
      "metadata": {
        "id": "77s2cRkmI6qi"
      }
    },
    {
      "cell_type": "code",
      "source": [
        "list_aa[0][2:]"
      ],
      "metadata": {
        "colab": {
          "base_uri": "https://localhost:8080/",
          "height": 35
        },
        "id": "3jUKjNs-JUrm",
        "outputId": "c6e29ed2-8e6c-471a-e024-280fd0d662d7"
      },
      "execution_count": null,
      "outputs": [
        {
          "output_type": "execute_result",
          "data": {
            "text/plain": [
              "'icken'"
            ],
            "application/vnd.google.colaboratory.intrinsic+json": {
              "type": "string"
            }
          },
          "metadata": {},
          "execution_count": 38
        }
      ]
    },
    {
      "cell_type": "code",
      "source": [
        "list_aa[2][2:5]"
      ],
      "metadata": {
        "colab": {
          "base_uri": "https://localhost:8080/",
          "height": 35
        },
        "id": "DAKUHOWNJh5V",
        "outputId": "7fa2d9a1-3918-4ead-c237-4df95dcddbd5"
      },
      "execution_count": null,
      "outputs": [
        {
          "output_type": "execute_result",
          "data": {
            "text/plain": [
              "'get'"
            ],
            "application/vnd.google.colaboratory.intrinsic+json": {
              "type": "string"
            }
          },
          "metadata": {},
          "execution_count": 39
        }
      ]
    },
    {
      "cell_type": "code",
      "source": [
        "list_aa[2][4:7]"
      ],
      "metadata": {
        "colab": {
          "base_uri": "https://localhost:8080/",
          "height": 35
        },
        "id": "NyIha9nnKRXp",
        "outputId": "d7150d7e-cbf7-4abc-e29f-09042bdb5852"
      },
      "execution_count": null,
      "outputs": [
        {
          "output_type": "execute_result",
          "data": {
            "text/plain": [
              "'tab'"
            ],
            "application/vnd.google.colaboratory.intrinsic+json": {
              "type": "string"
            }
          },
          "metadata": {},
          "execution_count": 40
        }
      ]
    },
    {
      "cell_type": "markdown",
      "source": [
        "## Looping\n",
        "to make the code to repetitive works\n",
        "\n",
        "[indent]\n",
        "``` python\n",
        "for each_member_of_the_list in the_list_we_want_to_loop :\n",
        "    do something\n",
        "    do another thing\n",
        "\n",
        "this is outside the loop\n",
        "\n",
        "```\n",
        "\n"
      ],
      "metadata": {
        "id": "vopCWwrZJljc"
      }
    },
    {
      "cell_type": "code",
      "source": [
        "for each in list_aa:\n",
        "    print(each)"
      ],
      "metadata": {
        "colab": {
          "base_uri": "https://localhost:8080/"
        },
        "id": "2-gla-dmKPFf",
        "outputId": "ecc8c92e-73cc-4699-f8bb-7f98ec937048"
      },
      "execution_count": null,
      "outputs": [
        {
          "output_type": "stream",
          "name": "stdout",
          "text": [
            "chicken\n",
            "water\n",
            "vegetable\n",
            "rice\n",
            "plate\n",
            "spoon\n",
            "fork\n",
            "knife\n",
            "apple\n"
          ]
        }
      ]
    },
    {
      "cell_type": "code",
      "source": [
        "for i in [1,2,3]:\n",
        "    print(i, end='')\n",
        "    print('xx')"
      ],
      "metadata": {
        "colab": {
          "base_uri": "https://localhost:8080/"
        },
        "id": "oPXzQF47KxFT",
        "outputId": "b46802de-7056-4bec-8528-ffbb8cd7039c"
      },
      "execution_count": null,
      "outputs": [
        {
          "output_type": "stream",
          "name": "stdout",
          "text": [
            "1xx\n",
            "2xx\n",
            "3xx\n"
          ]
        }
      ]
    },
    {
      "cell_type": "code",
      "source": [
        "for i in list_aa:\n",
        "    print(f'now i is {i}')\n",
        "    print(f'I like to ear {i} \\n/////////////')"
      ],
      "metadata": {
        "colab": {
          "base_uri": "https://localhost:8080/"
        },
        "id": "FL8fO2JRLTww",
        "outputId": "1c501816-0946-4edc-dc70-0aab1b9e5eda"
      },
      "execution_count": null,
      "outputs": [
        {
          "output_type": "stream",
          "name": "stdout",
          "text": [
            "now i is chicken\n",
            "I like to ear chicken \n",
            "/////////////\n",
            "now i is water\n",
            "I like to ear water \n",
            "/////////////\n",
            "now i is vegetable\n",
            "I like to ear vegetable \n",
            "/////////////\n",
            "now i is rice\n",
            "I like to ear rice \n",
            "/////////////\n",
            "now i is plate\n",
            "I like to ear plate \n",
            "/////////////\n",
            "now i is spoon\n",
            "I like to ear spoon \n",
            "/////////////\n",
            "now i is fork\n",
            "I like to ear fork \n",
            "/////////////\n",
            "now i is knife\n",
            "I like to ear knife \n",
            "/////////////\n",
            "now i is apple\n",
            "I like to ear apple \n",
            "/////////////\n"
          ]
        }
      ]
    },
    {
      "cell_type": "code",
      "source": [
        "list(range(10)) #generate 10 number but start from 0"
      ],
      "metadata": {
        "colab": {
          "base_uri": "https://localhost:8080/"
        },
        "id": "bLFyFEjpMYwM",
        "outputId": "2faeb6f7-8662-4312-cf89-43c06e16632c"
      },
      "execution_count": null,
      "outputs": [
        {
          "output_type": "execute_result",
          "data": {
            "text/plain": [
              "[0, 1, 2, 3, 4, 5, 6, 7, 8, 9]"
            ]
          },
          "metadata": {},
          "execution_count": 44
        }
      ]
    },
    {
      "cell_type": "code",
      "source": [
        "list(range(10,20,2))  #start from 10, end 19 (because exclusive), jump 2"
      ],
      "metadata": {
        "colab": {
          "base_uri": "https://localhost:8080/"
        },
        "id": "t3_jrTvsM4B4",
        "outputId": "f148ac5a-5a1c-47d8-c4ba-69985c025e71"
      },
      "execution_count": null,
      "outputs": [
        {
          "output_type": "execute_result",
          "data": {
            "text/plain": [
              "[10, 12, 14, 16, 18]"
            ]
          },
          "metadata": {},
          "execution_count": 45
        }
      ]
    },
    {
      "cell_type": "code",
      "source": [
        "for i in range(100):\n",
        "    print(f'Ha{i}',end='')"
      ],
      "metadata": {
        "colab": {
          "base_uri": "https://localhost:8080/"
        },
        "id": "OzJ8eZZaMobm",
        "outputId": "2eebbbd7-f8dd-4b99-fc7c-46844026e138"
      },
      "execution_count": null,
      "outputs": [
        {
          "output_type": "stream",
          "name": "stdout",
          "text": [
            "Ha0Ha1Ha2Ha3Ha4Ha5Ha6Ha7Ha8Ha9Ha10Ha11Ha12Ha13Ha14Ha15Ha16Ha17Ha18Ha19Ha20Ha21Ha22Ha23Ha24Ha25Ha26Ha27Ha28Ha29Ha30Ha31Ha32Ha33Ha34Ha35Ha36Ha37Ha38Ha39Ha40Ha41Ha42Ha43Ha44Ha45Ha46Ha47Ha48Ha49Ha50Ha51Ha52Ha53Ha54Ha55Ha56Ha57Ha58Ha59Ha60Ha61Ha62Ha63Ha64Ha65Ha66Ha67Ha68Ha69Ha70Ha71Ha72Ha73Ha74Ha75Ha76Ha77Ha78Ha79Ha80Ha81Ha82Ha83Ha84Ha85Ha86Ha87Ha88Ha89Ha90Ha91Ha92Ha93Ha94Ha95Ha96Ha97Ha98Ha99"
          ]
        }
      ]
    },
    {
      "cell_type": "markdown",
      "source": [
        "finished 18 july 2023"
      ],
      "metadata": {
        "id": "uo4asHOpNZ2Q"
      }
    },
    {
      "cell_type": "markdown",
      "source": [
        "### Nested Loop\n",
        "\n",
        "\n",
        "*   There is loop inside loop\n",
        "\n"
      ],
      "metadata": {
        "id": "zgtEuzUZroAn"
      }
    },
    {
      "cell_type": "code",
      "source": [
        "for i in range(3):\n",
        "    print(f'i = {i} (outer loop)')\n",
        "    for j in range(2):\n",
        "        print(f'i = {i}, j = {j} , i+j = {i+j} (inner loop)')"
      ],
      "metadata": {
        "colab": {
          "base_uri": "https://localhost:8080/"
        },
        "id": "sy2RTixOr5h9",
        "outputId": "ff21ca2e-e3d4-48ac-bbb6-ad9c29460ef9"
      },
      "execution_count": 1,
      "outputs": [
        {
          "output_type": "stream",
          "name": "stdout",
          "text": [
            "i = 0 (outer loop)\n",
            "i = 0, j = 0 , i+j = 0 (inner loop)\n",
            "i = 0, j = 1 , i+j = 1 (inner loop)\n",
            "i = 1 (outer loop)\n",
            "i = 1, j = 0 , i+j = 1 (inner loop)\n",
            "i = 1, j = 1 , i+j = 2 (inner loop)\n",
            "i = 2 (outer loop)\n",
            "i = 2, j = 0 , i+j = 2 (inner loop)\n",
            "i = 2, j = 1 , i+j = 3 (inner loop)\n"
          ]
        }
      ]
    },
    {
      "cell_type": "markdown",
      "source": [
        "So, we loop 1st outer loop, and then loop the inner loop in range until done. when inner loop has done, then we loop the 2nd outer loop."
      ],
      "metadata": {
        "id": "7ODGQLfis6g-"
      }
    },
    {
      "cell_type": "markdown",
      "source": [
        "Example of looping\n",
        "\n",
        "create a list [[1],[1,1],...,[1,1,1,1,1,1,1,1,1,1]] with for loop"
      ],
      "metadata": {
        "id": "nytztJ-vtJjN"
      }
    },
    {
      "cell_type": "code",
      "source": [
        "list_A = []\n",
        "for i in range(10):\n",
        "  AA = []\n",
        "  for j in range(i+1):\n",
        "      A=1\n",
        "      AA.append(A)\n",
        "  list_A.append(AA)"
      ],
      "metadata": {
        "id": "bDo_ajKktomb"
      },
      "execution_count": 2,
      "outputs": []
    },
    {
      "cell_type": "code",
      "source": [
        "list_A"
      ],
      "metadata": {
        "colab": {
          "base_uri": "https://localhost:8080/"
        },
        "id": "e8MwlA7SuC11",
        "outputId": "55993224-a177-41e3-cd8f-432a040020d8"
      },
      "execution_count": 3,
      "outputs": [
        {
          "output_type": "execute_result",
          "data": {
            "text/plain": [
              "[[1],\n",
              " [1, 1],\n",
              " [1, 1, 1],\n",
              " [1, 1, 1, 1],\n",
              " [1, 1, 1, 1, 1],\n",
              " [1, 1, 1, 1, 1, 1],\n",
              " [1, 1, 1, 1, 1, 1, 1],\n",
              " [1, 1, 1, 1, 1, 1, 1, 1],\n",
              " [1, 1, 1, 1, 1, 1, 1, 1, 1],\n",
              " [1, 1, 1, 1, 1, 1, 1, 1, 1, 1]]"
            ]
          },
          "metadata": {},
          "execution_count": 3
        }
      ]
    },
    {
      "cell_type": "code",
      "source": [
        "## Answer\n",
        "list_ans = []\n",
        "print(f'list_ans = {list_ans} \\n ------------')\n",
        "for i in range(1, 11): #from 1 until 11 because we want to start at number 1, but we want 10 member so its 11.\n",
        "    temp = []\n",
        "    #print(f'temp = {temp}')\n",
        "    for j in range(i):\n",
        "        temp.append(1)\n",
        "    print(f'i = {i} j = {j} : temp = {temp}')\n",
        "    list_ans.append(temp)\n",
        "    print(f'list_ans = {list_ans} \\n --------------------------')\n",
        "\n",
        "print(list_ans)"
      ],
      "metadata": {
        "colab": {
          "base_uri": "https://localhost:8080/"
        },
        "id": "OtEJtTWguqW3",
        "outputId": "796d1aea-42ae-4951-e3b5-b004f4b177fd"
      },
      "execution_count": 6,
      "outputs": [
        {
          "output_type": "stream",
          "name": "stdout",
          "text": [
            "list_ans = [] \n",
            " ------------\n",
            "i = 1 j = 0 : temp = [1]\n",
            "list_ans = [[1]] \n",
            " --------------------------\n",
            "i = 2 j = 1 : temp = [1, 1]\n",
            "list_ans = [[1], [1, 1]] \n",
            " --------------------------\n",
            "i = 3 j = 2 : temp = [1, 1, 1]\n",
            "list_ans = [[1], [1, 1], [1, 1, 1]] \n",
            " --------------------------\n",
            "i = 4 j = 3 : temp = [1, 1, 1, 1]\n",
            "list_ans = [[1], [1, 1], [1, 1, 1], [1, 1, 1, 1]] \n",
            " --------------------------\n",
            "i = 5 j = 4 : temp = [1, 1, 1, 1, 1]\n",
            "list_ans = [[1], [1, 1], [1, 1, 1], [1, 1, 1, 1], [1, 1, 1, 1, 1]] \n",
            " --------------------------\n",
            "i = 6 j = 5 : temp = [1, 1, 1, 1, 1, 1]\n",
            "list_ans = [[1], [1, 1], [1, 1, 1], [1, 1, 1, 1], [1, 1, 1, 1, 1], [1, 1, 1, 1, 1, 1]] \n",
            " --------------------------\n",
            "i = 7 j = 6 : temp = [1, 1, 1, 1, 1, 1, 1]\n",
            "list_ans = [[1], [1, 1], [1, 1, 1], [1, 1, 1, 1], [1, 1, 1, 1, 1], [1, 1, 1, 1, 1, 1], [1, 1, 1, 1, 1, 1, 1]] \n",
            " --------------------------\n",
            "i = 8 j = 7 : temp = [1, 1, 1, 1, 1, 1, 1, 1]\n",
            "list_ans = [[1], [1, 1], [1, 1, 1], [1, 1, 1, 1], [1, 1, 1, 1, 1], [1, 1, 1, 1, 1, 1], [1, 1, 1, 1, 1, 1, 1], [1, 1, 1, 1, 1, 1, 1, 1]] \n",
            " --------------------------\n",
            "i = 9 j = 8 : temp = [1, 1, 1, 1, 1, 1, 1, 1, 1]\n",
            "list_ans = [[1], [1, 1], [1, 1, 1], [1, 1, 1, 1], [1, 1, 1, 1, 1], [1, 1, 1, 1, 1, 1], [1, 1, 1, 1, 1, 1, 1], [1, 1, 1, 1, 1, 1, 1, 1], [1, 1, 1, 1, 1, 1, 1, 1, 1]] \n",
            " --------------------------\n",
            "i = 10 j = 9 : temp = [1, 1, 1, 1, 1, 1, 1, 1, 1, 1]\n",
            "list_ans = [[1], [1, 1], [1, 1, 1], [1, 1, 1, 1], [1, 1, 1, 1, 1], [1, 1, 1, 1, 1, 1], [1, 1, 1, 1, 1, 1, 1], [1, 1, 1, 1, 1, 1, 1, 1], [1, 1, 1, 1, 1, 1, 1, 1, 1], [1, 1, 1, 1, 1, 1, 1, 1, 1, 1]] \n",
            " --------------------------\n",
            "[[1], [1, 1], [1, 1, 1], [1, 1, 1, 1], [1, 1, 1, 1, 1], [1, 1, 1, 1, 1, 1], [1, 1, 1, 1, 1, 1, 1], [1, 1, 1, 1, 1, 1, 1, 1], [1, 1, 1, 1, 1, 1, 1, 1, 1], [1, 1, 1, 1, 1, 1, 1, 1, 1, 1]]\n"
          ]
        }
      ]
    },
    {
      "cell_type": "markdown",
      "source": [
        "example 2\n",
        "creating list [[1],[1,2], [1,2,3],...,[1,2,3,4,5,6,7,8,9,10] with for loop"
      ],
      "metadata": {
        "id": "u2jAIxntwc9Y"
      }
    },
    {
      "cell_type": "code",
      "source": [
        "list_A = []\n",
        "for i in range(10):\n",
        "   AA = []\n",
        "   for j in range(i+1):\n",
        "      AA.append(j+1)\n",
        "   list_A.append(AA)"
      ],
      "metadata": {
        "id": "aoq3s4FLwwQM"
      },
      "execution_count": 7,
      "outputs": []
    },
    {
      "cell_type": "code",
      "source": [
        "list_A"
      ],
      "metadata": {
        "colab": {
          "base_uri": "https://localhost:8080/"
        },
        "id": "n94MVZmyw13y",
        "outputId": "2de33ff2-2838-40c5-f537-d70cb71f1e4d"
      },
      "execution_count": 8,
      "outputs": [
        {
          "output_type": "execute_result",
          "data": {
            "text/plain": [
              "[[1],\n",
              " [1, 2],\n",
              " [1, 2, 3],\n",
              " [1, 2, 3, 4],\n",
              " [1, 2, 3, 4, 5],\n",
              " [1, 2, 3, 4, 5, 6],\n",
              " [1, 2, 3, 4, 5, 6, 7],\n",
              " [1, 2, 3, 4, 5, 6, 7, 8],\n",
              " [1, 2, 3, 4, 5, 6, 7, 8, 9],\n",
              " [1, 2, 3, 4, 5, 6, 7, 8, 9, 10]]"
            ]
          },
          "metadata": {},
          "execution_count": 8
        }
      ]
    },
    {
      "cell_type": "markdown",
      "source": [
        "### QUIZ 2\n",
        "\n",
        "create a list [[a],[a,b],...,[a,b,c,d,e,f,g,h,i,j]] with for loop"
      ],
      "metadata": {
        "id": "hXqZnb1zwJMi"
      }
    },
    {
      "cell_type": "code",
      "source": [
        "alpha=['a','b','c','d','e','f','g','h','i','j']\n",
        "list_B = []\n",
        "alpha[0]\n",
        "for i in range(10):\n",
        "   BB = []\n",
        "   for j in range(i):\n",
        "      BB.append(alpha[0:j])\n",
        "   list_B.append(BB)"
      ],
      "metadata": {
        "id": "hgnjDniJuv0n"
      },
      "execution_count": 23,
      "outputs": []
    },
    {
      "cell_type": "code",
      "source": [
        "list_B"
      ],
      "metadata": {
        "colab": {
          "base_uri": "https://localhost:8080/"
        },
        "id": "bQ0uEo9iwcKf",
        "outputId": "6562abe3-5727-4260-e1ab-48e6d344d13d"
      },
      "execution_count": 24,
      "outputs": [
        {
          "output_type": "execute_result",
          "data": {
            "text/plain": [
              "[[],\n",
              " [[]],\n",
              " [[], ['a']],\n",
              " [[], ['a'], ['a', 'b']],\n",
              " [[], ['a'], ['a', 'b'], ['a', 'b', 'c']],\n",
              " [[], ['a'], ['a', 'b'], ['a', 'b', 'c'], ['a', 'b', 'c', 'd']],\n",
              " [[],\n",
              "  ['a'],\n",
              "  ['a', 'b'],\n",
              "  ['a', 'b', 'c'],\n",
              "  ['a', 'b', 'c', 'd'],\n",
              "  ['a', 'b', 'c', 'd', 'e']],\n",
              " [[],\n",
              "  ['a'],\n",
              "  ['a', 'b'],\n",
              "  ['a', 'b', 'c'],\n",
              "  ['a', 'b', 'c', 'd'],\n",
              "  ['a', 'b', 'c', 'd', 'e'],\n",
              "  ['a', 'b', 'c', 'd', 'e', 'f']],\n",
              " [[],\n",
              "  ['a'],\n",
              "  ['a', 'b'],\n",
              "  ['a', 'b', 'c'],\n",
              "  ['a', 'b', 'c', 'd'],\n",
              "  ['a', 'b', 'c', 'd', 'e'],\n",
              "  ['a', 'b', 'c', 'd', 'e', 'f'],\n",
              "  ['a', 'b', 'c', 'd', 'e', 'f', 'g']],\n",
              " [[],\n",
              "  ['a'],\n",
              "  ['a', 'b'],\n",
              "  ['a', 'b', 'c'],\n",
              "  ['a', 'b', 'c', 'd'],\n",
              "  ['a', 'b', 'c', 'd', 'e'],\n",
              "  ['a', 'b', 'c', 'd', 'e', 'f'],\n",
              "  ['a', 'b', 'c', 'd', 'e', 'f', 'g'],\n",
              "  ['a', 'b', 'c', 'd', 'e', 'f', 'g', 'h']]]"
            ]
          },
          "metadata": {},
          "execution_count": 24
        }
      ]
    },
    {
      "cell_type": "markdown",
      "source": [
        "**THE RIGHT ANSWER OF QUIZ 2 :**"
      ],
      "metadata": {
        "id": "0Gd0RWke1o5z"
      }
    },
    {
      "cell_type": "code",
      "source": [
        "listofletters = ['a','b','c','d','e','f','g','h','i','j']"
      ],
      "metadata": {
        "id": "9chpSq551oMP"
      },
      "execution_count": 83,
      "outputs": []
    },
    {
      "cell_type": "code",
      "source": [
        "q2 = [ ]\n",
        "str_q = ['a','b','c','d','e','f','g','h','i','j']\n",
        "for i in range (1,11) :\n",
        "   q2.append(str_q[:i])\n",
        "q2"
      ],
      "metadata": {
        "colab": {
          "base_uri": "https://localhost:8080/"
        },
        "id": "hcOHU0hZ2mz-",
        "outputId": "8256e6f1-5def-4ed0-86ac-4d7e0b4f98a3"
      },
      "execution_count": 85,
      "outputs": [
        {
          "output_type": "execute_result",
          "data": {
            "text/plain": [
              "[['a'],\n",
              " ['a', 'b'],\n",
              " ['a', 'b', 'c'],\n",
              " ['a', 'b', 'c', 'd'],\n",
              " ['a', 'b', 'c', 'd', 'e'],\n",
              " ['a', 'b', 'c', 'd', 'e', 'f'],\n",
              " ['a', 'b', 'c', 'd', 'e', 'f', 'g'],\n",
              " ['a', 'b', 'c', 'd', 'e', 'f', 'g', 'h'],\n",
              " ['a', 'b', 'c', 'd', 'e', 'f', 'g', 'h', 'i'],\n",
              " ['a', 'b', 'c', 'd', 'e', 'f', 'g', 'h', 'i', 'j']]"
            ]
          },
          "metadata": {},
          "execution_count": 85
        }
      ]
    },
    {
      "cell_type": "code",
      "source": [
        "list_AA=[]\n",
        "for i in range(10):\n",
        "    AA = []\n",
        "    for j in range(i+1):\n",
        "        AA.append(listofletters[j])\n",
        "    list_AA.append(AA)"
      ],
      "metadata": {
        "id": "3N6W8Tcx29Eq"
      },
      "execution_count": 29,
      "outputs": []
    },
    {
      "cell_type": "code",
      "source": [
        "list_AA"
      ],
      "metadata": {
        "colab": {
          "base_uri": "https://localhost:8080/"
        },
        "id": "BIZI0Rbp3UVA",
        "outputId": "253edfe6-4d35-473e-c11d-8cec03f55b6f"
      },
      "execution_count": 30,
      "outputs": [
        {
          "output_type": "execute_result",
          "data": {
            "text/plain": [
              "[['a'],\n",
              " ['a', 'b'],\n",
              " ['a', 'b', 'c'],\n",
              " ['a', 'b', 'c', 'd'],\n",
              " ['a', 'b', 'c', 'd', 'e'],\n",
              " ['a', 'b', 'c', 'd', 'e', 'f'],\n",
              " ['a', 'b', 'c', 'd', 'e', 'f', 'g'],\n",
              " ['a', 'b', 'c', 'd', 'e', 'f', 'g', 'h'],\n",
              " ['a', 'b', 'c', 'd', 'e', 'f', 'g', 'h', 'i'],\n",
              " ['a', 'b', 'c', 'd', 'e', 'f', 'g', 'h', 'i', 'j']]"
            ]
          },
          "metadata": {},
          "execution_count": 30
        }
      ]
    },
    {
      "cell_type": "markdown",
      "source": [
        "## Conditional Statement (if statement)\n",
        "\n",
        "``` python\n",
        "if condition (with these symbols ==, !=, <, >, <=, >=, in, is_null(),and, or, &, |) :\n",
        "    do this when the condition is True #1\n",
        "    do this when the condition is True #2\n",
        "```"
      ],
      "metadata": {
        "id": "JunmaYBZ3baW"
      }
    },
    {
      "cell_type": "code",
      "source": [
        "if 1<5:\n",
        "    print('yes')"
      ],
      "metadata": {
        "colab": {
          "base_uri": "https://localhost:8080/"
        },
        "id": "Ysm3phVB3zXh",
        "outputId": "99c962b4-5115-49ef-9c4a-9e4d48aae3ab"
      },
      "execution_count": 31,
      "outputs": [
        {
          "output_type": "stream",
          "name": "stdout",
          "text": [
            "yes\n"
          ]
        }
      ]
    },
    {
      "cell_type": "markdown",
      "source": [
        "``` python\n",
        "if conditional (with these symbols : ==, !=, <, >, <=, >=, in, is_null(), and, or, & , |):\n",
        "    do this when the condition1 is True #1\n",
        "    do this when the condition1 is True #2\n",
        "elif condition2:\n",
        "    do this when the condition 1 is False and condition 2 is True #1\n",
        "    do this when the condition 1 is False and condition 2 is True #2\n",
        "elif condition3:\n",
        "    do this when the condition 1 and 2 is False and condition 3 is True #1\n",
        "else: # if all above condition are False\n",
        "    do this when all conditions are False\n",
        "```"
      ],
      "metadata": {
        "id": "ycbAM1m335sm"
      }
    },
    {
      "cell_type": "code",
      "source": [
        "x = 12\n",
        "\n",
        "if x<5:\n",
        "   print('yes')\n",
        "else:\n",
        "   print('no')"
      ],
      "metadata": {
        "colab": {
          "base_uri": "https://localhost:8080/"
        },
        "id": "K1RrZDGa4x9I",
        "outputId": "2a0a87de-60ce-4096-e1a8-587fd282f0cd"
      },
      "execution_count": 32,
      "outputs": [
        {
          "output_type": "stream",
          "name": "stdout",
          "text": [
            "no\n"
          ]
        }
      ]
    },
    {
      "cell_type": "code",
      "source": [
        "list_ex = [1,5,9,-19,-2,0]"
      ],
      "metadata": {
        "id": "en3SDnxw5NHq"
      },
      "execution_count": 33,
      "outputs": []
    },
    {
      "cell_type": "markdown",
      "source": [
        "**Example**\n",
        "\n",
        "Find the smallest number in list_ex without using min() function (you can use only ```for``` and ```if```)"
      ],
      "metadata": {
        "id": "xEMuyNtZ44-G"
      }
    },
    {
      "cell_type": "code",
      "source": [
        "minimum = list_ex[0]\n",
        "for number in list_ex:\n",
        "    if minimum > number:\n",
        "       minimum = number\n",
        "print(minimum)"
      ],
      "metadata": {
        "colab": {
          "base_uri": "https://localhost:8080/"
        },
        "id": "CPeVIrMs44kh",
        "outputId": "40de1ba4-fe26-41e2-cdda-24ee025a43f3"
      },
      "execution_count": 34,
      "outputs": [
        {
          "output_type": "stream",
          "name": "stdout",
          "text": [
            "-19\n"
          ]
        }
      ]
    },
    {
      "cell_type": "code",
      "source": [
        "## commented answer\n",
        "min = 100000000\n",
        "print(list_ex)\n",
        "for i in list_ex:\n",
        "    print(f'now i = {i}, min = {min}')\n",
        "    print('start condition')\n",
        "    if i < min:\n",
        "        print(f'i < min, update min -> {i}')\n",
        "        min = i\n",
        "    else:\n",
        "        print('i >= min, not update')\n",
        "    print('end condition, go to next i \\n-------------')\n",
        "\n",
        "print(min)"
      ],
      "metadata": {
        "colab": {
          "base_uri": "https://localhost:8080/"
        },
        "id": "gcVu6ktM55ra",
        "outputId": "25c0bec3-a58f-4670-c5a3-e5a5b1bb6057"
      },
      "execution_count": 36,
      "outputs": [
        {
          "output_type": "stream",
          "name": "stdout",
          "text": [
            "[1, 5, 9, -19, -2, 0]\n",
            "now i = 1, min = 100000000\n",
            "start condition\n",
            "i < min, update min -> 1\n",
            "end condition, go to next i \n",
            "-------------\n",
            "now i = 5, min = 1\n",
            "start condition\n",
            "i >= min, not update\n",
            "end condition, go to next i \n",
            "-------------\n",
            "now i = 9, min = 1\n",
            "start condition\n",
            "i >= min, not update\n",
            "end condition, go to next i \n",
            "-------------\n",
            "now i = -19, min = 1\n",
            "start condition\n",
            "i < min, update min -> -19\n",
            "end condition, go to next i \n",
            "-------------\n",
            "now i = -2, min = -19\n",
            "start condition\n",
            "i >= min, not update\n",
            "end condition, go to next i \n",
            "-------------\n",
            "now i = 0, min = -19\n",
            "start condition\n",
            "i >= min, not update\n",
            "end condition, go to next i \n",
            "-------------\n",
            "-19\n"
          ]
        }
      ]
    },
    {
      "cell_type": "markdown",
      "source": [
        "**Example**\n",
        "\n",
        "list_ex = [1,5,9,-19,-2,0]\n",
        "Find the maximum number in list_ex without using max() function (you can use only for and if)\n",
        "\n"
      ],
      "metadata": {
        "id": "W5bn__Ae7B09"
      }
    },
    {
      "cell_type": "code",
      "source": [
        "maximum = list_ex[0]\n",
        "for number in list_ex:\n",
        "    if maximum < number:\n",
        "       maximum = number\n",
        "print(maximum)"
      ],
      "metadata": {
        "colab": {
          "base_uri": "https://localhost:8080/"
        },
        "id": "hQQlWzup7YB0",
        "outputId": "b3f8decd-d343-4940-9842-ab8fe63a0c1f"
      },
      "execution_count": 37,
      "outputs": [
        {
          "output_type": "stream",
          "name": "stdout",
          "text": [
            "9\n"
          ]
        }
      ]
    },
    {
      "cell_type": "markdown",
      "source": [
        "**HOMEWORK1**\n",
        "\n",
        "sort the number in ```list_ex``` without using sorting function (you can only ```for``` and ```if```)\n",
        "\n",
        "deadline => before **8 August 2023**"
      ],
      "metadata": {
        "id": "6THGmpMp7pfg"
      }
    },
    {
      "cell_type": "code",
      "source": [],
      "metadata": {
        "id": "xe_9Wijh77DL"
      },
      "execution_count": null,
      "outputs": []
    },
    {
      "cell_type": "markdown",
      "source": [
        "## Python Infinity\n",
        "\n",
        "Representing infinity as an integer in python"
      ],
      "metadata": {
        "id": "H6WEA-CV8z76"
      }
    },
    {
      "cell_type": "markdown",
      "source": [
        "1. Using float(‘inf’) and float(‘-inf’):"
      ],
      "metadata": {
        "id": "bs3uwE8c87Nq"
      }
    },
    {
      "cell_type": "code",
      "source": [
        "float('inf')"
      ],
      "metadata": {
        "colab": {
          "base_uri": "https://localhost:8080/"
        },
        "id": "FT1C7Zaa9C2-",
        "outputId": "fcceb30c-c2c2-4bfd-a878-bb6ae6768dac"
      },
      "execution_count": 38,
      "outputs": [
        {
          "output_type": "execute_result",
          "data": {
            "text/plain": [
              "inf"
            ]
          },
          "metadata": {},
          "execution_count": 38
        }
      ]
    },
    {
      "cell_type": "code",
      "source": [
        "float('-inf')"
      ],
      "metadata": {
        "colab": {
          "base_uri": "https://localhost:8080/"
        },
        "id": "hFyr1s7X9FoD",
        "outputId": "c2e1ea34-682a-4e55-f43c-8e053bf60ba2"
      },
      "execution_count": 39,
      "outputs": [
        {
          "output_type": "execute_result",
          "data": {
            "text/plain": [
              "-inf"
            ]
          },
          "metadata": {},
          "execution_count": 39
        }
      ]
    },
    {
      "cell_type": "markdown",
      "source": [
        "2. using Python’s math module:"
      ],
      "metadata": {
        "id": "a5RPCwTn9Iyb"
      }
    },
    {
      "cell_type": "code",
      "source": [
        "import math"
      ],
      "metadata": {
        "id": "aTSF5E9r9MI7"
      },
      "execution_count": 40,
      "outputs": []
    },
    {
      "cell_type": "code",
      "source": [
        "math.inf"
      ],
      "metadata": {
        "colab": {
          "base_uri": "https://localhost:8080/"
        },
        "id": "n6g2X0EE9OtY",
        "outputId": "9e2ca1e5-9d30-443f-e55e-446733495373"
      },
      "execution_count": 41,
      "outputs": [
        {
          "output_type": "execute_result",
          "data": {
            "text/plain": [
              "inf"
            ]
          },
          "metadata": {},
          "execution_count": 41
        }
      ]
    },
    {
      "cell_type": "code",
      "source": [
        "-math.inf"
      ],
      "metadata": {
        "colab": {
          "base_uri": "https://localhost:8080/"
        },
        "id": "umLVpFHS9Q_S",
        "outputId": "7e6190bf-990c-4ad3-a6bf-5842552bc0bf"
      },
      "execution_count": 42,
      "outputs": [
        {
          "output_type": "execute_result",
          "data": {
            "text/plain": [
              "-inf"
            ]
          },
          "metadata": {},
          "execution_count": 42
        }
      ]
    },
    {
      "cell_type": "markdown",
      "source": [
        "## Function\n",
        "\n",
        "``` python\n",
        "def function_name(input1,input2,....):\n",
        "    process #1\n",
        "    process #2\n",
        "    return output\n",
        "```\n",
        "\n",
        "![image.png](data:image/png;base64,iVBORw0KGgoAAAANSUhEUgAAAiwAAAEQCAIAAAAcRbj1AAAgAElEQVR4nO3df3xTZZ4v8CcF1Mss0tOA7KKDkJTdizDWwVNmh1faHZiliYVxnQVMUNcXd+mLkrDDXcBpaSrDi1EKjaj3MkN/cHVurws2pbKwSiOBO9S1kVUasVGRnWlP+DHKLpJQkBmuSGnuHw8+83iSpic/T5J+3q/+kZ6cH885SZ7vOc9PTSgUIgAAAGrIUzsBAAAwciEIAQCAahCEAABANQhCAACgGgQhAABQDYIQAACoBkEIAABUgyAEAACqQRACAADVIAgBAIBqEIQAAEA1CEIAAKAaBCEAAFANghAAAKgGQQgAAFQzWu0EgFyvq7vzZ3uGXe2+pQZD9ZI0pCfpdon/SF/M+/nj08uL1U0Mw1/2uT/921nm0qHW9NS/9km7h2TVR8Cf3Urv/1A3MQA8BCFIvv1PvnDxk3Mkw8KMct07O+4tmTlusjbVB0ruhWLRHWEGsgiCUOaaeN+UH7+yTu1UJF/mZ5E3rl33Nh2a9/PH1U5I0kwvL87GuwEYCVAnBPANYyeOHzP29l5Xd6+rW+20AOQ+BCGAb/jWxPHTFxYTQj54+YjaaQHIfSiOy3qsXiFiPflQtQ5Xzwf7Dp24+Mm5y6cvXD77OV04ZuztE2dOubv4z7/79wuGOtwHvzpy5q2P6D7pJvlTJ+VPnaT76we++v01WZOKzp/tCa8P/+BXR/5w8QohJDy1va7u37xx/PKZz69dvEKX5N97V/60SUVPzp90/7TwxHzc9vbFk7+7fOYCSw8hZOJ9UyaL0+9bMjfuSh1D9ZLzx397+eznnvrXYm16QK/P5TMXbly7ztIzceaUor+bx9IT3vYk4oW68OHpM299fN7bK7vasrNjDSUYVjnEl+h66l8jhHxr4vjwD1dJmpm4vzkAESEIjUQf/OpIT8v/ZTkOc+Pa9fPdvee7e3s7uh/6RaUsAzr79sn3/ue/sHyHbXLxk3MXPznX6+pWWInCYpgsfz/81Mtn3vpItvLls59fPvv5mbc+koXYs2+f7Nq6l8UqHk3PJ6955j/75L2lM5UkKdx3Vyzo/Nme3o7u6Q89GDH+hbt6PvjmT5pl14elp7eju3j1wiiN7sId276fD66Ev9pvektqHo3p7GigmnjfFD5OxJrm+L45AFEgCI1Ef7h4heYjYyeOn7nUMFksnHT/tKvng2e7Tn6y10Pz/X974UDZ9hX8ViwCjZ04/oHlP6R504UPT1889buLJ3/3WfdvWe13HI2+On+2h0agMWNvf2D5XxeaZo+brL3w4eneN9+nuecn7Z78qXexDPGr319jEajoyR/+6QM6miPTZ6nz3b03rl3v2rr33tLN8V2i6eXFn777215X97Ht+xU2D2G5ef69d933qIEm9ezbJz9qfYump3tnx8QZ3550/zSFF+pbd43Pn1o8cea3aVM9/gO6dvHKe//zX+gpG6qX0PAcR+s45Wmm68f3zQGIAnVCIxotnKFZzLjJ2lnm0r/atIy+deatj66eD7I1P/jVERaB/ublNSwYTLp/2ixz6byfP/7Em3Fm94SQCx+eZq0A5j/75Hf/fgG9lZ50/zRD9ZJi20L6Vk/LryNu/r01P2LPBNPLixc1rh47cTwh5NrFKx+3vR13qsRVprETx1/85JySnfDX56FfVLLrc2/pzEWNq6f+4DuEkBvXrvteOao8AWXbV8z7+eOzzKX0atAP6KFfVNKzu3z280TOLsE0K//mAESHIJS5Ln5ybpf4jxH/aPl+Kky6f9rE+6bQ1//Z42fLP+v+LX0xc6kh6YUtZ976mL6Y+oPvhBcxfffvF+Tfexch5NrFKwpbrNEMlBBy+Yy8oEm5cZO1Dyz/ISGke2fHsLlq9Ovz/XWP0Bfh5Y1xpCopZ0eSneahvjkA0SEIgSIXT96qnJgsFiZ/56du7ZzlYjITZ95LX1z46GzSjx7FLHPp5OLptNtQ9DWjX59xk7U0jhJC4m75ffbtk72u7qvng/lT75IdND5pSDPAsFAnlLkyqrMqq4tWWEsf287/cGvnf/Kn+RFXGPOt25N+UIWKreWuk029ru57/vLPo9RvDXt9xnzrjjiO/sGvjnzW/duLJ8+FtwVIXIrSDBATPAkBRDPp/mn3LTGQtHcbuno+uHdxXXdDB20gQGiz6fum0AohgJyBJ6Gs9627xl/8RO1E5LTvrfkR7awTR7ehuP3bCwdYu7XvrljAP4QpHOIWICvgSSjrpefWeMzYWwViFz48nfydf13a9vv/vBxxBVZep5bZFUZCSG9H91CnP+z1ufGHL2M6ImsO8NAvKlM07FvS0wwQBwShrDfmv9zKSiLm1H/4ujPNnfdMSOQoE2feajJw3tuXyH4i73zGrZ3L+mYyF0/eao8w6Tv3Jv3oStxbOvO+pYYb164f274/4grRr8/V80HWITTWiJK6jp+pSzOAcghCWW/qD2bRF2fe+lDWkvjjtrdpj86xE8cn2KDg7uI/py9OtnuS3guEO4WPzr59UvYu351Fxdyw6O/m0W5D54//Nvzd6Nfn3144QF+w1tXKhe+NNRHMnzop1r3xUpdmAOUQhLLepPunTS6eTgi5ce36mz9pppn4hQ9Pv7fjje6dHXSdmUsNCR6F76zz5k+aWTfJCx+e/rjt7c6f7dn90Ca2Msscf/PGcULI1fPB6G186SAC9PXRp1/54FdHaJ544cPTnvrXuhtunQXttaOWcZO13/vJIkJI+CA3ZOjrc/btkwetO9lgEEVPzue3inKhWNb/r884WWCmF4SNFHfPX/75N/b2dYvq93a8QVcOj+iJpxkgudAwIRf81UYLHX/l8tnP3ev+l+zdqT/4TlKGlfzef/8bOnLP5bOfH3vun489989DrXnfkrln3vqQjifGxpKJ/hAz7+eP37j25Zm3Prpx7Xp3QwcLPH/c51JDTAOvpcL08uLTRz8cqvPmQ7+oZJ9C+PUZM/b24tULZc+jUS7U99c9QkcIpWOyhR+u2LZQdknve9RAD+p75de+V35NCJl435To48vFkWaA5EIQygXjJmsf3WeXjYU8duL4/Kl3/cWP5iSrCOve0pn3ls58b8cb4eM601G02ZqT7p82/9kn6fhjdAm7SY+ibPuKWEfRTr/vr3vks+O/jdhrJ+KnQKKOSB3lQrG9yfoJ5d9718SZ9+r++oHw6EKDNB3D7dbKw5XXxZFmgOTShEIhtdMAAAAjFOqEAABANQhCAACgGgQhAABQDYIQAACoBkEIAABUgyAEAACqQRACAADVIAgBAIBqEIQAAEA1CEIAAKAaBCEAAFANghAAAKgGQQgAAFSDIAQAAKpBEAIAANUgCAEAgGoQhAAAQDUIQgAAoBoEIQAAUA2CEAAAqAZBCAAAVIMgBAAAqkEQAgAA1SAIAQCAahCEAABANQhCAACgGgQhAABQDYIQAACoBkEIAABUgyAEAACqQRDKTX6/v7m5ubi4WPO1wsJCp9MZZZNgMFhQUMDW9/v96UknO2JBQUEwGEzDQQEgcyAI5aDm5mZRFFetWuX1etlCSZLOnTsXZauXX365v7+fvq6vr9fpdKlNJSGEEJ1OV19fT1/39/dv3LgxDQcFgMyhCYVCaqcBksnhcFRXV0d8q76+vqqqKuJbwWBw+vTpLAgFAgGtVpuqJEY9tCRJ6Yl/AJAJ8CSUU/x+/1ARKDr+MchqtaYtAhFCtFrthg0b2L/bt29P26EznM/nczgcJpOJL1bVaDTFxcUWi6W5uTk9RaYAqRWCHGK1WvkP12q19vT0sHclSRpqQ0EQ2FZRVkuRQCDAji4IQiAQSHMCMkogEGhqatLr9Up+v0ajsaurS+0kA8QPQSin8LGktbVV4Vatra18ppbSFA6FD59NTU2qpCETNDU18R+iQvX19WonHCBOqBPKHR6Pp6SkhL7W6/V9fX0KNzSZTG63m75ubW21WCwpSV9UcSc+x2g0mvg2tNvtW7ZsSW5iANIAdUK549ixY+y12WxWuJXf72cRSBAEVSIQIcRgMLACKEmSfD6fKsnIKKIo1tfXd3V18QWkgUCgq6urqalJFEV+5bq6OpfLpVZSAeKGIJQ7rly5wl5PmTJF4VZHjhxhr9WKQFRZWRl7vXfvXhVTojpamdfd3V1VVWUwGPjmglqt1mAwVFZWdnd3d3V18WV3a9asUSOxAAlBEMod77//Pns9c+ZMhVu99NJL7PWiRYuSnKZY8Edva2tTMSUqMhqNPT09DQ0NRUVFw65sMBg6OztZHJIkKXp/ZIAMhCA0ogWDQdahVRCE8vJyFRPDH33ElsgdOnRISfhhioqK+AbuBw4cSEGiAFIIQWhE48vi+NIwtRiNRvb63XffVTElWYS/aPwYGQBZAUEoi3k8Hr4PI2tfQAgpKSnRhHE4HLI9vP322+z1vHnzohzL7/fzI8uF70rJVsPWOc2fP5+97uzsVHII4J+cJEmKuA7f3dVkMincs2zsQYzsB6mAIDSidXd3s9fRq5F0Ot3WrVvZv9XV1UqKy8xmMxuIQRCEnTt3Rl9/7ty57DVu6pOIr/lzu93Nzc3DblJbW8t/BC0tLekcRwNGEPW6KEGiurq6Yvqsw7s0xvpN4Et+9Hp99KEN2MiklMKO/fwmI3zoBIX4px9BEIZaTfZx8ENphJN9tdAZFlIHT0Ijl8fjYa9lnU6GsmfPHr4t1gsvvDDUmj6fjx/Fzm63GwwGJYfgU3Lq1Cklm4xwx48fZ6/nzJkz1GpVVVX8PURFRcVQawaDweXLl7N/RVEcatxbgMQhCGUxg8HA31DwWUzExw5ZVvLFF1+w1wpLWrRa7e7du9m/Q3WQDAaDixcvZv+Korhu3TqFJ8WPmXby5EmFW41kfMUeX6kWrqGhgd1DeL3e2traiKutXr2aPV0JgsAX5QEkHYLQyPXxxx+z19EzL155eTk/ztsTTzwRXl+9ceNGvozopZdeUl6dMHv2bPaa736bXA6HI7zhhnIK22WkQTAYbGxsZP/yNyLhdDpdQ0MD+7euro5/GqacTiffSWvr1q0xNRkHiBWCEMTsmWeeYc8r/f39jz/+OP+uy+Xis8X6+vqYcrHx48ez1ydOnEgspbnv5ZdfZq+NRuOwl9pisfBDOj388MP8PYTf77fZbPwOKysrk5dYgAgQhEYuPoufNWuW8g21Wm1LSwv7l29tFQwGn3jiCfaW0WiMtTqBb6R3+fLlmLYdaWTTR/EVOVHs3LmTFcr19/evXr2avWWz2fjWjHv27EleYgEiQxAaufgs/s4774xpW4PBYLfb2b+rVq2iLbYff/xxPhfjC38g6WRPLQqH/pNV7LW1tdF7CIfDwXc12717N9pkQzqkqxkepNywDRMSXD8c35JNFMWmpib+q6V8QiMe3zhYrcmNsoLsasf6CfL3EIIgdHR08HuzWq0pSjaADJ6EIH58uymv17tq1Sr2r9lsVndM7tzm8/lqamrYv8pbwDPr1q3jK/YWLlzI3tLr9c8880xS0gkwLAQhiF9RUZGsCySlZHAEiBttAc+KPUVRjGM6O1nFHg+DI0A6IQhBQmRdIClUJ6ROMBg0mUx8P564p70wGAzh9xBxPFQBJAJBaOTKz89nr/mOq7GSzaVmNpvVnRJCieztJ7Rx40Z+SLfOzk5+yrtYrVixgv9XEATMEQ5phiA0cvHdQvmOqzEJBoObNm3il7S1tYV3gVTu008/Za8TyV5zks1m4/tgtba2JtiTdOPGjfy//f39mdMPF0YIBCFIyAsvvBA+3PXy5cvjHvb/3Llz7PXUqVPjT1nOCY9ACTb9kHUrphSOjw6QLAhCIxffQfXo0aNx7MHlctXV1YUvlySJ7wIZkzNnzrDX/OgJIxmtB+IDRlNTU4IRyO/3892KeYsXL8bUQZA2CEIj1913381ex5HpyAZHkPUTamtrczqdcaTK7/ez19GnOEpEVVVVIj0b0jmqNI1AfDdSu92e+Gg6ssERWltb+fHRZcV0ACmUrA5HoLo4Op8m8k2QNYqj89Pw45IJgiBJUqy75feJ+YQCgYBslo34ugDLyBrFNTU1hcJ6v3Z0dCR+IIBhIQjljjiCEJ/BxdTlXpZh0VwsFAoFAgF+LgZRFGM6hZ6eHratXq+Padvc09PTw55OkhiB+ItMCDGbzeytxO8hAGKF4rgRrbi4mL1WPnmPrLs+P9ayrAuk1+uNqbUVP4udwnn2cpXT6Zw3bx5fYtbR0ZH4IBTBYJCfzk7WrVg2tik/Nh1AiiAIjWilpaXsdWdnp8KtKioqooy1LOsCWV1drbzFNj8/27x58xRulXtqa2uXLVvGX+TOzs6k9L6StWZ8/fXX+W7FWq329ddfZ/+63W602IaUU/tRDJImjuK4QCDANhEEQckm/MCXUQ7EJ0av1yus3eFLn2gl00gTCARklW2iKCarbkw2Sml9fX3E1WQ1RiPzg4C0QRDKHfGNis2Xeg1bF80PcU0IsdvtQ60pSRIfUfiKh6GgQkh20eIWceeBQIDfefTqOv5bofweAiAOKI4b6fgagoMHD0ZZMxgMPvzww+zf6ONm6nQ62aQ1w7bY3rt3L3vN15CPHOfPn2dFcEknm+op+ohzbW1taLENaaJ2FISkie9JiA2FSYYrkZM1nVJSSmO1WvlNore2Qlmc7EEziT/qOKZ6am1t5TdBi21IEQSh3BH3JHX8hkNlT/FNWCfr5hJlkjo+yxuZZXGhlAUhWZts5RPWye4hUCgHqaAJfbN7IIxATqdz2bJl9LXRaDx06FD608APCtDU1JT4iAAAkBUQhIAQQgoKCliFgSRJaR6+2u/3sy6ugiD09vZiOiKAEQINE4AQQjZs2MBeb9++Pc1H549otVoRgQBGDjwJASGEBIPB6dOnq/IwxD8GpfnQAKA6PAkBIYRotVq1Hob4Y9ntdkQggBEFT0JwiyoPQ6gNAhjhEIQAAEA1KI4DAADVIAgBAIBqEIQAAEA1CEJZ7LqrngxcVzsVAADxQxDKToM3v9z70xvH/mnwamD4lQEAMhWCUPYJfXXt//2fVQMfvkkICX1xQe3kAADEb7TaCYDYhH4f+H//tHrws5O3/r2WqulnAADSAEEomwxePP3lq2sGL55mS0J/uKxiegAAEoTiuGyiuX3s6O88pLlzEluS4cVxg/2f0WJDAICIEISyiebOSbfNt42aOpsQkifcTfJGhX6f0Q0Tbva+c/3ApsHgObUTAgAZCsVxWSb05dWBT44SQu74+19pRo0evOhXO0XR3PzNv4a+uvalc93Yyj1k9O1qJwcAMg6ehLLMQM8bZOD6KP3384S7NXdOGqX/vtopGtrA9Zunuwkhg//x79dff0bt1ABAJkIQyjI3utsJIWMe/Fu1EzK8m2dPhL66Rl/fOHHgxokD6qYHADIQglA2ufk73+CFXs1YYfR989VOy/AGet/h//3qYN3ghV61EgMAmQl1Qtlk4P1/JoSMnv03WVG/cvM3/6q5bWxo8CYZuD5m7t+NnjFfM/5P1U4UAGQWPAlljdBX12hz5zEPLlY7LYrc8diOb/3s+JgHFhFC8u4qHDWtWHPHOLUTBZFdP7Q9w5v7Q65CEMoaAz0HQ19dGzWtOG/iNLXToghNZ95dhYSQwf/8jdrJgWhu9r5zbccjN479Exm8qXZaYGRBEMoaN97fR7LnMYjJ+7P/SggZ/I9/VzshEI1mbH7oy6vXXfXXmh9jg0IBpAGCUHYY/I9/H/zspOaOcaNnLVA7LbG5FYTQJCGzacbfGoZj8LOT15ofu36wLvTlVXWTBCMEglB2uEGbJDzwo6xoksDT3DFOc+ek0JdXMW5CJtPccafaSYARCkEoGwxcH+h5gxAypnip2kmJxyj6MPQ5HoYyl2ZsPns9ZvYjty+yoxUJpAeCUBa48eGboS+vjvp2Ud6k6WqnJR402YP/gbYJmUtz5yTNbWPHGJaTvFE3ThzgR2oHSCkEoSxwq3tQdj4GEULy7r6PIAhltlHfvn/sP75xu+mpMXPMZPDm9QOb1E4RjBQIQplu8OLpm2dPaG4bO3pWmdppiVPeXdMJIYP/iQZymStv0nQ6Rchtf/0TzZ9MuHn2xEDPQbUTBSMCglCmoy2zRz+wSHPbWLXTEqe8idM0t40d7P8MDa4yn+aOcbebniKEXHfV4/OCNEAQymwD1wdO/AvJwu5BMpqJ0wgaameJ0Q8sGqX/fuha/1eHX1Q7LZD7EIQy2sAnR0PX+vPunpl390y105KQUXfPJISgF2S2uH2RneSNuuHdd/N3PrXTAjkOQSij3fggFx6DCBu85/M+tRMCiuRNnHZbaQUZvHn9YB0G8oGUQhDKXIP9n93s9WhuGzv6gUVqpyVRdNyEmxi8J3vc9oOVecLdg5+dvHG8Te20QC5DEMpcA93thJDRs8qyt0kCc6ur0IU+3FZnjdG337bITgj56v/+IvT7gNqpgZyFIJSpBm/SqUizt3sQT3PHuDzhbjJwffCiX+20gFKj/+KvRs/4YejLq9cPbVc7LZCzEIQy1ECvJ/T7QN6k6aO+XaR2WpIj70/pSKaoFsomt5VXaW4bO9Bz8Kb0b2qnBXITglCGGji+l2TtYHER5U0qJITcPI8GctkkT7h7zA9WEkLQQgFSBEEoE4W+uDDQ6yGjbx/9wI/UTkvS3Bq8B09C2eY2w3/Lmzht8OLpr95+Se20QA5CEMpEN7z7yODNMfc/lEsjGd8avAddhbJO3qjbH9lMCPnqrV2D/Z+pnRrINQhCmWjgg38hhIz+7t+onZBkytNO0dw2NnStP3StX+20QGxG3Tt79AOLyMD1rw7WqZ0WyDUIQhnnZq9nsP+zvInTRk0rVjstSXaroTYehrLQ7eXVmjvGDfzmXwdO/VrttEBOQRDKODe8/0xyYpSEcHTwIVQLZSPNWOG2srWEkK9cjtBX19RODuQOBKHMEvp9YODUr8no20fPzqmyOCpvwlSCBnJZa4y4eNS3iwb7P7vx1i610wK5A0Eoswz0HCSDN0ffN18zVlA7LcmHJ6HsljeKDmz6led/Y+pVSBYEocxCZw8a8+Dfqp2QlLhVJ3TRTwauq50WiEfe3TMx9SokF4JQBrl5unvw4uk84e5R+u+rnZaU0Nw2Nk87hQzexMNQ9sLUq5BcCEIZ5Eb3XpIrg8UNhQ7eg+G0sxemXoXkQhDKFKEvrw58cpTkjRoz+xG105JCeX/2FwQTC2U5TL0KSYQglCkGet4gA9dHz/ih5k8mqJ2WFKIjyKGrULbD1KuQLAhCmWLw/CeEkDFibjZJYGhxHOanyXZs6tWBk0fUTgtkN00oFFI7DXDL4GcnaSPm3Ba61p+TDdBHnIHrA72e0TN+qHY6ILshCAEAgGpQHAcAAKpBEAIAANUgCAEAgGoQhAAAQDUIQgAAoBoEIQAAUA2CEAAAqAZBCOLn8Xg0UZlMJraax+MZdlfR10k6n89nMpl8vj8OPFNbW1tbW5vONACMcGkKQi6Xq7CwkOVKETkcDo1Gk9zjajQah8OR3H0CYzAYQpz6+npCCL/k0KFDMe3KYDDEl5L4YtjVq1fdbvfVq38cCvr9999///3340tD7qE/ySiU/7hMJpPT6WT/Op3OKFlBzjCZTOqeZioy1aRLRxDy+/0LFy5cuXJl9FypqqoqkeEbsuJyA2QR+pNkjEaj0Wjkl1RVVSncldvtPnfuHPv33Llzbrc7NanONcojWZbec6cjCB05coQQovz7CgAAI0Q6gtCVK1fScBTIcM8++2xxcTEtxiksLJTdssnK04LBoM1mKygo4OuWhqLRaEpKSgghJSUlspU9Ho/JZKI7KS4u5kuElHC5XHyao2zu8/k0Go3L5ZJtLjsph8NBy6UjpifiPa/qRToAKZXaIERzlurqakLIsLmJrDxNeTYUfhQ+g2tvb2fZUEFBgc1mCwaD/ObBYLC2tpZmDXQFv98f/bx8Pl9tbS3bLU2erEJCVmkfnuP4fD6bzcbyOI1GY7FYHA6HyWRiZ11cXCzL1wghfr/fYrHQdWhuLjujzKTT6V588UVajNPS0rJt27YoRQePP/54d3e31+sNhUKBQGD58uVR9hwKhbq6ugghXV1dfJGvx+MpKSn58Y9/HAgEQqFQRUXFsmXLlJdXeDyehQsXVlRU0DTv27fvnnvuGWrloqIivV7/yiuv8AsPHjyo1+tZRZfJZGpvb29paaE73Lx5s81ms9lsCtOTyRL8TsZ0z2GxWIqLi2ULi4uL+a2cTqfsjodPT8Si+2HL8+ktBd+MhS7hf9fBYFCj0TQ3N7MlfX19/C/aYrHweyCE8NmILP+hSXK73W63m64wVK0n3QkhpLq6mq7Jv2uxWPhbn/AsJcF7tUSFUi+8vlrJakajURRFSZJCoVAgEGhtbY3jKIQQo9HY0dFBsyFJkkRRlJVr0wP19PSwFQRBoOtHPxbbbSAQaGpqIl9nghG1trYKglBfXy/bCdtEkiSr1UoIqa+vp2cdCoXCdxsIBARBsFqtdJ2uri5BEGRnpJahPmg+QjBNTU2CIAy1Dr0Oyg8d8RCiKFqtVlkK+Q83fCu+2kPh95Y/I0II2zn9pNhZtLa2EkLYJ8sngH73QpEqXYZaqIqhUqLkOyn7QBP5sdMryS5aKBSSJIkQwray2+2CILB/e3p6RFEURZF9NBE/WSUftyAIdrud/Wu32wkhZrNZljb2KRuNRr1e39rayk7NarVGyV4kSTKbzbIVlH8Bwn819KSamprY5QrPUuiXsKmpiR6UrhDTry9BmRuEYr0QQwUh2U56enr4b3BHR4csa5DlHcqPZTQa+a9jOPrbiLKTQCDA/5Yi7tZut+v1en6FiPmvKmIKQrL8V7aOXq8XRVH5SYUfIuLFlOVW0YMQzVDq6+uj35EMtXNZfmS1WkVRDN+K/4pmaRBS8p2MHoRi/bHLggF/byH7FCj6o25qaop49CgLZaxWK3+mer1eEAR+K7PZzNe38zUAAB0gSURBVH/KEa8Yn5Jw9HvLr5B4EJKtZjab+Sxl2Hu1VMvcfkJ6vb69vT3pHUeKiooIIe+++y7995133tHr9Tqdjq2g1WotFsuuXbvi2Pnly5ejvPvQQw/19/dHOSOtVksI4RsRhe/28OHDZWVl/LsGg0Gv17/66qtxJFh1fPNo3r59+yRJKikpKSwsrK2tHbaANNypU6cIIbICNPpBh1/hiCwWi9Vqra6unjBhgsViGbaMQqfTiaJ44MAB+u+BAwdEUWRfLb/fTz9fGaPRqCQxmSzx72SsP3aLxdLW1sb+3bVrl8VioZf3+PHjhJAFCxbw62u12jlz5uzfv1/h/oeyaNEiSZJoeZrP55MkaevWrYQQWsAVDAbb2toqKiqi72TOnDmdnZ1DvavVao1GY+JJjWL27NmHDx+mr4PBoNfrLS0t5VdYsmRJf38/bVCWBpkbhBLPhqJgbSXef//9wsJC2btTp06l91MJam5u5qt8aOV5grxe79SpU2ULCwsLk3t9VFdUVNTb29va2lpWVtbY2CiKoqwkXSHaVIEX0+YNDQ09PT20gHTZsmXD1t+sX7++ra0tGAzS/Gj9+vUxHS4/Pz+m9TNE4t/JWH/s4cFg0aJF9C16hxEe7+fPn68wMVGUl5cLgrB3715CyLvvvisIQmVlpV6vP3jwIPm6GbAs/kXE31bSumFWaUQrgRJPanT9/f30ReL3aonL3CCUrGxoWKzSj6FtHBJks9lqamo2b97MnjppGUXiWN1jOr+16UcfSRsaGrxeLyGE3nIqN27cODJEKWVMvQWKioqqqqq6u7vtdntjY2P0LyHNgI4cORKeH+l0uoh19fxnN3v27KxoYxIuwe9krD/28vJyvV5Pg8HevXv1en15ebnyw40fP175yjLsIWz//v30+c9sNtMHC9mzrxI+n2/evHmEENoGh0r/w3GC92oJytwgRBLOhpTIz88fqrw1wT03NjY2NDTE9NtQYqj6KuVjE2QdnU43Z86c6EWd4YqKigRBePPNN5OVjIceeogMXX5IabVas9n8/PPPt7S0WK1W/n68tLTU6/XK7vFpARTLdKZMmeL1emVxqK+v78c//nGyziIVkvKdjPXHbjabaTBoa2szm81s+ZQpUwgh4bH86NGj7PXMmTMjrqMEfQjzeDxut/uRRx4hhDz66KN0iZKyOBm3211QUNDQ0BBT6EqiZN2rJSKjgxATXzakxLx589xud3puP7/44gvy9acet7Kysvb29iSlKHOZTCbWkNTj8Rw/fvzBBx+Msv6MGTMEQTh58iThMpeGhoa6urrm5ma2xOPxKG8S3dzc7HA4aNgIBoOvvvqqIAiTJ0+OvtWTTz7p9XrdbjcrIKIsFosoimazmdV8uFyuhx9+2Gq10npKts7q1avpQf1+v81mu3Tp0pIlSxSmWRXJ/U4q/LHTrL+2tlaSpBUrVrDlc+bMIV+XjDHBYPD48eMsltMP8b333uPXOXPmDB/MhkJvK9euXUu+ftKltzu0F4GSsrhhBYPBtBXMJv1eLQ6ZG4RizYbmzp1LCKFP8cqDypIlS0RR5Eex9Pv9Tqcz8ZbyZrP56aefZjmOz+fbtGmT0WhkOU58ampqJEniOxP4fD6Hw5Giskq16HS6NWvW0JKB5cuXb9iwYcuWLVHW12q1u3fvfu655zQazerVq+lCi8XS1dXV2dk5YcIEuiuadyg0c+bMo0eP6vV6jUYzYcKES5cudXZ2DnvHSqsNBEEIfwg+dOjQ0qVLly9fThOzadOmhoaGhoYG2ToFBQWiKGo0GlEUCSFerzdii4bMkfh3MtYfOyGkqKhIFMW6ujpZCZhOp7Pb7Tabjf2E6TC1er2exXK6zqZNm+jPMxgMNjc3NzY2/sM//IOS1JrNZq/XazQa2edisVho745YH2iMRiMNpTTLoinxer18SubPn9/X18dWiL63EydODLuaTIL3akkwbPu5xMXXRJu2hqSJ1Ov1Slpw0paFhGvgSCI1/ZQtDAQC9fX17Fi0i0P0xsFDNdHmS/bobmk+QggRRVHW2Fdhm/LwBpq0RxE9U3pxzGazrAMKqEgURb4Bcc6I0lZ42O8kidpEO44fe+jrHi0Rmzu3traynx7dYXiDY/5XbzablfcHoI3v+ePSnh7hKVHS5r6rq4v2DaKZT3hKaO8imk6+d1S4np4eWrTLuoIobIxO08CCQnij7ZTShBKu/AAAhg7TIEmSWqX8I4fL5Vq4cGEgEMjwJ0WIDkEIIDmCweCVK1fMZrNer0/3wCcjkslk0ul0svJMyDqZWycEkF0ef/xxvV5fXFy8c+dOtdOSy2jVRXNzs9vtrqysVDs5kKjRaicAIEfkcCv5jHLq1KmSkhK9Xt/R0ZFgMx/IBCiOAwAA1aA4DgAAVIMgBAAAqkEQAgAA1SAIAQCAahCEIB3oZOdJnx0qiUwmU/RZpWOV+acMkAkQhCD5kp6hUynN1g8dOpRIG+sUnXIuCQaDNpuNjpunbmx2OBxpnq0AolAhCMX9XUz1raXD4aBTSzkcjhQdQmEy8AuB3LNx48bDhw/TAeUMBkN6Dhox06iqqlKxa4rqOUymUSEIKfwupvnW0ul0VldXv/7666E0TqSRgb8QgBRxOp0rV67EkHogo0IQyszv4oEDB4xGY9pu0HIVfYxzu91svlo+xD777LNsvvPCwkLZ/SANyUxxcTE/AhubH53OAhnlBsVkMhUWFvKj2dNURX+Glt30+Hw+i8VCU1JQUFBbW5uKUyaE+P1+i8VCH8HpClk6ueqw2JTSAN+QtvG6GRJpeoVw4aOg0+mxlY+4HpMow9SnTkrPSEVDfXZWq5WdbFdX11AzclKtra2yFRReLkmSBEFgkyn09PQQQoadW4FPcyAQEATBarXS8f8lSero6FC+OZ/a6KfMDkQLBugK6f8eplr4fNVdXV0RP03ZQjofitFoZJNEiKIYPmOCbDYWNhuC7KDswkafy4D/RGJKRkSySS7oBBNRppIRRbG1tVW2k66uLnYNw1fo6enhE59104gkOQjJrrhsboyI38XwndCvSPhq9AtqNBplM4XINo/+gSk5XH19/Qj5haSIwhuIpqYmNvFJRHa7nV9Becym87vQNekXJqY0x3FzEN8p2+12vV4/7Fa5QZb5KvmJ0X/r6+vZF76joyP83kUURVEU2VYdHR1shYhHkf3E6LeFzTnEMjE2eY/CZISj90PsBxsIBNixoiSebiK7Jk1NTTR5dBYltoc4bpgyTTKDEL3ibDKrQCBAr5csDJDEnoSi31pG/8CUH24k/EJSR2GOTBdGmacr4gVXmEHTKRXoxYw+FVh4miVJorcLyqcKjO+UI84eptfr0zmlWNrEHYTCfyB8IKdTzA31SSn5iUW84Eaj0Ww2K09GRHSyPtlC/jpETPywXxJ6aJoh5MBdSzLrhLZv315QUOB0Oml9j1arraysrK+vT+5MsY899hiruTEYDFu3bt22bRt7d+3atVartbKyks5zRROwbdu21JWzz507l9VvlZeXb9iwgU+P0+n0er1tbW0szeXl5TE1fFizZo3Vaq2qqqJnRCdQmTNnztatW5UnI5NdvXqVvW5ubmY1KKwSKD50PoXq6uqmpqZYx1rW6XStra1tbW10agZ+5uOkYKfs9XqnTp0qe7ewsJDNkw0R8dVLtDY37jpmv98vSdKiRYtky+fPn9/W1qY8GREdPnx45cqVUVZ4++23wycFp3mF2+0mhASDQa/XW1payq+wZMmS/v7+I0eOEEImT55MCPnlL3+Zvd+ZZAahw4cP83PEUnPnzu3v709du+qZM2f29/fT2eyH/cDSI1t+IZnGZrPV1NRs3ryZ3SLRu7y4Xbp0Ke5tLRaLJElNTU16vX7VqlUmkylF9zHV1dWab6K5Dyh0+fLlRDY/f/48IeTOO++ULZ87d24iu6XoI3UUfr8/4rSwrELh1KlThJB77rmHf5fmJ+fOnSOpv2FKg2QGIUmSxo8fL1uYnvZm9NZy2A8s/TL5F5JpGhsbGxoaysvLk7K31atXFxQU1NfXr1q1it6jxEqn01VWVjqdzo6ODq/X+9prryUlYbyhSk1HwtRE48aNUzsJWYO2COXx76bthilFcnDEhOgfmEL4hWSCL774gsT1WTQ3N7e1tbW0tFRVVRmNxoqKikR+ljQuXrlyJe49DKWsrKy9vT3pu80KtIyUfsSJyM/PT2RzWpwVnoxjx44lsltKFMXoXxudThfxm8mehumXP2KVD1+qn4YbptRJZhDS6/XhVzyd43Mo/MCUGAm/kNSZP39+X18f/XUpz/3NZvPTTz/NvjA+n2/Tpk1Go5HV6MyYMUMQhJMnT0bfrc/nq6mpsdvt9Cm8oaFBkqQXXnhBefo9Ho/NZmPPT83NzYSQWbNmRdkkvlOuqamRJMlms7ECfZ/P53A44nt0yzp6vf6dd97hl3z66aeCIMRUfPLII4+43e64a0R0Op1erz948KBs+dGjR8MrF2JVVlYWsdiclRiVlpZ6vV5Z4ulPgJbIFRUVCYLw5ptvKjxi6m6YUieZQSjiFT927Fis36q4xfqBRZfzv5DUWbFiRVlZ2YQJEzQazaeffqpwq507d65cuXLt2rX0+bWiomLp0qV79uxhK2i12t27dz/33HMajWb16tVD7aeioqKgoGDdunX0X51Ot3Xr1rq6OpfLpTAlkydPvnTp0rx582hKXnrppY6OjujlhPGdclFRkdfrJYSIokiPtXjx4hMnToyQB/EdO3Y0NjayLskul8tms23YsCGmnVgsFlEUzWYzu31xuVysU7CSGxeaDNZN2O/322y248eP19TUxHdezLp16y5dusRuMuieBUFYsGBBlMQ//PDDVquV3Xs1NDTU1dXxlT30Jol/HdMNU8ZJYku75DbRpn1raDPEKI0RZQtpk0fWRJuuoKTBa3gTW9rQmSU+vN2zktafoahNtGkbf9qnhyU4vibawyYDQF0Rf/gdHR2s2194rz6F3+2huuKxQ9C3WJPrWLviJfIT47tO0uxR1mFAYWdV/qaTb7QtSZLZbOb7CI7ofkKh4Tqr3jqksiAUCASsVivdD/3YlAShUNQPLIqIIybk/C8EAEBdmhDGygQAAJXkYOs4AADIFghCAACgGgQhAABQDYIQAACoBkEIAABUgyAEAACqQRACAADVIAhBlvF4PBqNJp1jEo4QTqezoKBAlQGYfT5fYWGhRqNhw+1ARA6HI5F5g5xOZwb+cBCEIMsYDIZQKJSe0QhlHA5HfIOyZ4Xnn3/earVGnN6GcjgcJpNpqHfpzUF8h168ePHKlStDsQ80nLjsuqGprq6m07vEp6WlhR/7OEPOHUEIAIjP5/N6vStWrGBLooeccPTmIL5DS5LEHzp1wrNdtW5okiLBKJIh544gBADE7XaHzzOdHnRGyihPYJDbEIQgy8jqhILBIL1nLygooLMh0EmOZVsFg0GbzcbWsVgs/Jw9EeuZ+IX0dXV1NSGE7iHHai+OHj1aVlbG/qUn63a76cmyK9PX12cymejCwsJC/jrLiuNcLldxcTFd02QyDVWTYTKZSkpKyDevavhnYTKZ2AX3+Xw2m43WIdFkhH8Wzc3NdIWCggKbzUa/JDR5dNJL9pAnOxaf7OLiYn7PSo4r4/F4LBYL24TukP+uWiwWvhKOP01qqOfRoU7H7/dbLBa6/2FTKDt3j8fDnzv/ls/ns1gs7C3ls6IogSAE2e3UqVPV1dXz58/3er10UN7NmzfX1NTIfn4mk+nSpUt0nUAgoNfr582bp3zuOFrWxI9Nnv7ai5Ryu93f+c532L/0ZNm48nyhzZo1a+jClpaWmpoaNhsQz+/3L1y4sKKigq65Zs2aoY576NAhOgy88qvqdru7u7v37dvHkrFt2zY+HNbW1tbU1LS0tIRCod7e3tLS0tdee62qqoqWFtLx5iNOoO5yuZ544on169fTPb/44ovt7e21tbUKjxvu2LFjkiQdPnyYblJRUcF/VwOBQEFBQUxlnsxQp1NWVlZQUNDb20tTyKc/Oo/HU1JSwj6yioqKkpISFocWL15cUFBAZ5N56aWX7rzzzjjSPBQEIcgFc+fOZUVJ5eXlGzZs2LZtG3vX4/F4vd6dO3fSdbRa7ZYtW+bMmRM9Bxlp7rnnnmHXKSwsZJP7GQwGq9Xa0tISvhqtPK+srKT/lpeXJ7egT6vVsjnfDAbDhg0b9u/fT/8NBoN1dXW7d++mgVOr1VosFpaS6NasWbNhwwaLxcL2/OKLL9bV1bHHuCjHjZJUdu6VlZV03hb2PXzqqae8Xm+yJtKltWsNDQ20bNNgMGzevLmurk5Ji8dXX33VbDazC1VZWWm1Wn/5y1/SfyVJeuyxx+hui4qKkluThCAEuam/v5+9phNrymod5s+f39jYmO5k5Zbx48e73e7w5ZMnTxYEwWQyOZ3ONLf5fu+998jXs1zHSpKkuXPn8ktobptIgzSZwsJC/l8ajWitWOLC90Ovw6lTp4bd1u/3z549m19SWlrKZsoWRXH58uXNzc2JNBAfCoIQ5L4rV66EL5RlN5BEOp2us7MzPz/fZrNNmDCB1sqk59Aff/wxm0ASlAsGg9XV1RrOsmXL2LuHDh0qKyt77rnn9Hq9yWRK1qMbhSAEQMaNG6d2EtT36aefJnFvRUVFTqfz0qVLra2tTqfz5ZdfTuLOIem0Wm3ECa/Zuw0NDX19fV1dXTRcJfHQCEIwQtEyOooW9H/xxRfqJUdlRqPxo48+SsWeLRbLhg0bjh49qnwTURT5T4cQ0tfXN2XKFCXbGo1GSZLiKzXS6/V8X05CCK2Znzx5chx7i8ODDz544sQJfsmZM2cSqU5Tnn6dTtfe3j7sarSeLGIZbNwQhGCE2r9/v9FoZP/q9fp33nmHX+HTTz8VBCETevOlwfz58w8fPswvmTJlyvHjx2kxWqyFaT6fj9UG+f3+9vb2mHLS9evX19TU0Aw0GAzS9l0LFixQsm1RUZHRaDSbzRGLjFiYiXhGO3bs2LZtG2vv5/F41q5da7fb09Z9asWKFW1tbay9jNPpbGxsjNKqIuLpsPbTPp9PefqfeuopSZIcDgf7xF0uF9sVGy4oGAy++uqryS3wRBCCkYJli7TXiNvtfvrpp9m7O3bsaGxsZBmQy+Wy2WwbNmzg90CrkWjupsoYa6ljNBq9Xi//AGGxWKxW64QJEzQaTawldePGjTtw4ADdVhTF4uLiZ555RvnmFotl69aty5cv12g0EyZMoK2clfdm3bNnz9KlSxcvXsyqN1h7/X379u3atUuj0axevTp8w/Ly8t27dz///PN0q7Vr1y5dunTLli3KU54gnU7X1dX10ksv0QQ8//zzXV1drD1euIins2nTJrr54sWLlaefVuOdOHGCfmoTJkzYsWMHa4p95swZURTp8kuXLu3bty/BM/2G8EJAgExGu5XQ7hHh/1J8hx72L3vuEQTBbDb39PTI9tzR0SGKIl1HFMXW1tbwo9fX1wuCQAhpampK9pmpTBRFu92udiogfnyPqyyiCcU13BNAFnE4HNXV1fiqR+d0Om02W29vL0bQyVK0w2nWfc8RhAAAckGWBiHUCQEAgGrwJAQAAKrBkxAAAKgGQQgAAFSDIAQAAKpBEAIAiBMbSiCdPB5PevpK04kKU32CCEIAMIyh5veMW/jcqVmquro6iRM9KFRSUqJkdgYlXC4Xmyo3fMZhg8EgimKqB59FEAKAb0h6yAkX+uZsrSmVMwEvFQ4ePLh8+XI6ZaokSXTGYf7RZ/369amedgtBCABghGpoaLBYLHSMDJ1Ot2XLFr1ef+TIEbbCnDlz+vv7UxrFEYQA4I80Gk11dbXb7ablMyz36evrY+U2hYWFspnRPR5PcXExfbe4uHjYPIvfs8/ns9lshYWFbOdsvFHK7/dbLJaCgoKI74Y/6JhMJrqOw+HQaDSEkJKSEo1GM9TjncVisdls/BKXy8XqQuhO+LQNVR9Da1CinCkhpLm5mZ2pxWLhnzlcLhe7hiaTKXpNzNq1a+maBQUF/JyBtbW1sslb6bkor0PSarX8JJA6nS58hovkQhACgD8KhUL19fVGo5EOLskXmq1Zs4YubGlpqamp4ac8KCkpqaiooO9WVFSUlJQov3d2u93d3d379u1jO9+2bRsf5MrKygoKCnp7e+m77e3tdHKHYVVVVdHO+HR820OHDkVc7ZFHHpFNQ37w4EGz2UxnQKA7YWnbtWvXxo0bFZ6ajMPhqKmpaWlpCYVCgUCgoKBAFEU24cXChQvZNVyzZk30XS1dupSWoXm9XkIIi6+PPvqoJEl8vc4rr7xiNpsVjgcYDAbdbrds6iZRFGWzHCVZyoZGBYCsxAehoZbY7Xa2xGq1ms1m/t3wJTKEG/g8+uF6enpk2VRHRwchhGbBsl1RRqORnyQ0fIVwgiCwQdMDgQAhpKOjI+Kara2tQx094iDW/Ap6vV42+DpbEtMA2LIzCgQCfPr50dDpuUQcDz4iOkg8Ozu2UPYBJReehAAgZuPHj2fTa/r9/tmzZ/PvlpaWtrW1JeVAV69elS0pLy8nhCSreRhlsVhaWlro6yNHjgiCQI8S7p577on76JIkzZw5k19SVla2f/9+QsjkyZMFQTCZTLJnMiW0Wu2cOXPOnTtH/62oqGAXn56LxWJRsh+fz7dt27atW7emeRh1BCEASEgwGKyurtZwli1bpnaiYlNZWel2u2k1TEtLi9VqZW/RKitaI6XRaEpKSuI7BA0ttHaKYQ3P6Jxy+fn5NpttwoQJfDVPrBYsWMBK5A4cOKAwAgWDwYqKirKysigTuaYIghAAJESr1fLFX4za6YpBUVGRKIpHjhzx+/1ut3vFihV0eTAYnDdvHiGE1kiFvi43iwN9vAgvGGQ1VUVFRU6n89KlS62trU6nM+7eOTqdThTFvXv3BoPBtra2RYsWDbtJMBiktUo7d+4Mf/fEiRP5+fnxJUYJBCEASIhOp2tvb0/b4WiTh8mTJ9N/RVE8efIkv0JfX5+sal2JioqK55577rXXXhNFkTZJIIScOnWqv7+/oaFBVkI1bty48D3MmDGDfD37O0UfrVhS9Xr9m2++OWxKLBbLhg0bjh49qjDltDXBrFmz2JL169e3tbUdOXJEr9cPVa7Ib04j0KFDhyIWxEmSJCtuTS4EIQD4hilTphw/fpwWBykpFHrqqackSWJtl4PBoMvlcrlcSUwS25vP51u7dq3dbmdxYv369TU1NTQyBYNB2nBuwYIFbFvWwjj6uSxZskSSpG3btq1fv54tnDFjhiAItbW17NReffVVvV5fVFQUvgetVmu1WisqKmjs8fv9NpuNtbIjhOzYsaOxsZG1KvT7/U6nkwYtn8/HaoP8fn97ezvbKpzVal27di07yurVq0VR5IMNLZF7+umnzWZzlFOmx/3e975Hho5AwWDQ6/XOnTs3+n4Skro2DwCQpex2O80fenp6QkM0YONzj56eHj6/MxqN0RukEcWt42jxlyiKdM96vT686K+pqUmv19MVzGazJEn8uz09PfTd6A32QqEQPQVZ2zB6aoIgEEIEQbBarfz+SVhDNbvdzla22+2yvXV0dLBzEQSBpVaSJHYB6VFkG/ICgYDVauWTFL4y3Rv9+KIwGo0R4wK7yE1NTYIgRN9JgjCpHQBkriydslp1Dodj165dfX19Ce6nsLDQbDZv2bIlKamKCMVxAAC5pr29/ac//WmCO/F4PJIksWYaKTI6pXsHAIA0czgckiQtWbIkwf0YDIY0PIMiCAEA5A6NRqPX6zs7O9Pc5zRuqBMCAADVoE4IAABUgyAEAACqQRACAADVIAgBAIBqEIQAAEA1CEIAAKAaBCEAAFANghAAAKgGQQgAAFSDIAQAAKpBEAIAANUgCAEAgGoQhAAAQDUIQgAAoBoEIQAAUA2CEAAAqAZBCAAAVPP/AZJg61Q5CFJeAAAAAElFTkSuQmCC)"
      ],
      "metadata": {
        "id": "zZDvz0Ei9W1O"
      }
    },
    {
      "cell_type": "markdown",
      "source": [
        "**four important parts of a function**\n",
        "\n",
        "*   function name (needed)\n",
        "*   input\n",
        "*   process (needed)\n",
        "*   output\n",
        "\n",
        "\n",
        "\n"
      ],
      "metadata": {
        "id": "J8jslYsk-TR6"
      }
    },
    {
      "cell_type": "markdown",
      "source": [
        "### Example 1"
      ],
      "metadata": {
        "id": "3ildW1Fv-prQ"
      }
    },
    {
      "cell_type": "code",
      "source": [
        "def find_min(list_ex):\n",
        "    min = 100000000\n",
        "    for x in list_ex:\n",
        "        if x < min:\n",
        "            min = x\n",
        "\n",
        "    return min"
      ],
      "metadata": {
        "id": "OVMj_mql-ozB"
      },
      "execution_count": 43,
      "outputs": []
    },
    {
      "cell_type": "code",
      "source": [
        "list_A = [1,5,9,-19,-2,0]\n",
        "XXX = find_min(list_A)\n",
        "print(XXX)"
      ],
      "metadata": {
        "colab": {
          "base_uri": "https://localhost:8080/"
        },
        "id": "uLDTGHuC_CtT",
        "outputId": "384bc630-9db4-4b65-dd59-88da7223aaab"
      },
      "execution_count": 44,
      "outputs": [
        {
          "output_type": "stream",
          "name": "stdout",
          "text": [
            "-19\n"
          ]
        }
      ]
    },
    {
      "cell_type": "code",
      "source": [
        "find_min([-9,99,0,-34])"
      ],
      "metadata": {
        "colab": {
          "base_uri": "https://localhost:8080/"
        },
        "id": "IFejB44I_Yb2",
        "outputId": "40c1124b-b88e-4f95-b5db-ed146d9bc302"
      },
      "execution_count": 45,
      "outputs": [
        {
          "output_type": "execute_result",
          "data": {
            "text/plain": [
              "-34"
            ]
          },
          "metadata": {},
          "execution_count": 45
        }
      ]
    },
    {
      "cell_type": "markdown",
      "source": [
        "### Example 2\n",
        "\n",
        "Function without Output\n",
        "*   cannot set a value to a variable\n",
        "\n"
      ],
      "metadata": {
        "id": "e9LxjSCT-9YJ"
      }
    },
    {
      "cell_type": "code",
      "source": [
        "def find_min2(list_ex): ## no return\n",
        "    min = 100000000\n",
        "    for x in list_ex:\n",
        "        if x < min:\n",
        "            min = x\n",
        "    print(min)"
      ],
      "metadata": {
        "id": "FyyLVMqy_3HA"
      },
      "execution_count": 46,
      "outputs": []
    },
    {
      "cell_type": "code",
      "source": [
        "find_min2(list_A)"
      ],
      "metadata": {
        "colab": {
          "base_uri": "https://localhost:8080/"
        },
        "id": "lOUekaQwACEE",
        "outputId": "615c5451-8e5d-461a-d25d-edffe5244ca5"
      },
      "execution_count": 47,
      "outputs": [
        {
          "output_type": "stream",
          "name": "stdout",
          "text": [
            "-19\n"
          ]
        }
      ]
    },
    {
      "cell_type": "code",
      "source": [
        "YYY = find_min2(list_A)"
      ],
      "metadata": {
        "colab": {
          "base_uri": "https://localhost:8080/"
        },
        "id": "Irx8JduIAJbM",
        "outputId": "e7490b3c-c6fe-4067-fed1-cc84637eeddd"
      },
      "execution_count": 48,
      "outputs": [
        {
          "output_type": "stream",
          "name": "stdout",
          "text": [
            "-19\n"
          ]
        }
      ]
    },
    {
      "cell_type": "code",
      "source": [
        "YYY"
      ],
      "metadata": {
        "id": "24_lyNXbAPbt"
      },
      "execution_count": 49,
      "outputs": []
    },
    {
      "cell_type": "markdown",
      "source": [
        "### Example 3\n",
        "\n",
        "Function without input"
      ],
      "metadata": {
        "id": "4Eu53v_NAeee"
      }
    },
    {
      "cell_type": "code",
      "source": [
        "def Pi_val():\n",
        "    return 3.1416"
      ],
      "metadata": {
        "id": "NJuivVSmAlYc"
      },
      "execution_count": 50,
      "outputs": []
    },
    {
      "cell_type": "code",
      "source": [
        "r = 10\n",
        "print(f'The area of ​​a circle with a diameter equal to {r} is {Pi_val()*r*r}')"
      ],
      "metadata": {
        "colab": {
          "base_uri": "https://localhost:8080/"
        },
        "id": "GX0sDOjUAsVc",
        "outputId": "d243feaa-bf42-48f6-ae67-9509f809173f"
      },
      "execution_count": 51,
      "outputs": [
        {
          "output_type": "stream",
          "name": "stdout",
          "text": [
            "The area of ​​a circle with a diameter equal to 10 is 314.16\n"
          ]
        }
      ]
    },
    {
      "cell_type": "markdown",
      "source": [
        "### Example 4\n",
        "\n",
        "Function that contains only processes"
      ],
      "metadata": {
        "id": "TCxdcrwjA_F4"
      }
    },
    {
      "cell_type": "code",
      "source": [
        "def draw_rectangle():\n",
        "    print('======')\n",
        "    print('|    |')\n",
        "    print('======')"
      ],
      "metadata": {
        "id": "1HFTVsJOBFFo"
      },
      "execution_count": 52,
      "outputs": []
    },
    {
      "cell_type": "code",
      "source": [
        "draw_rectangle()"
      ],
      "metadata": {
        "colab": {
          "base_uri": "https://localhost:8080/"
        },
        "id": "sLSMz3onBHZI",
        "outputId": "d234f15e-6bf2-424b-dbca-f5108e7785da"
      },
      "execution_count": 53,
      "outputs": [
        {
          "output_type": "stream",
          "name": "stdout",
          "text": [
            "======\n",
            "|    |\n",
            "======\n"
          ]
        }
      ]
    },
    {
      "cell_type": "code",
      "source": [
        "def draw_hello():\n",
        "    print('============')\n",
        "    print('|  Hello  |')\n",
        "    print('============')"
      ],
      "metadata": {
        "id": "JFMS4nA4BJOc"
      },
      "execution_count": 54,
      "outputs": []
    },
    {
      "cell_type": "code",
      "source": [
        "draw_hello()"
      ],
      "metadata": {
        "colab": {
          "base_uri": "https://localhost:8080/"
        },
        "id": "5c33PVypBLU8",
        "outputId": "39b7bfb9-6cd0-4a68-a189-2db439434fbd"
      },
      "execution_count": 55,
      "outputs": [
        {
          "output_type": "stream",
          "name": "stdout",
          "text": [
            "============\n",
            "|  Hello  |\n",
            "============\n"
          ]
        }
      ]
    },
    {
      "cell_type": "markdown",
      "source": [
        "**Function without process means error**"
      ],
      "metadata": {
        "id": "FT3MgN-NBS2I"
      }
    },
    {
      "cell_type": "code",
      "source": [
        "def draw_rectangle():"
      ],
      "metadata": {
        "colab": {
          "base_uri": "https://localhost:8080/",
          "height": 131
        },
        "id": "Bkie3GS-BbKf",
        "outputId": "1f2843df-96b0-4b04-d7f4-594d3c1dc621"
      },
      "execution_count": 56,
      "outputs": [
        {
          "output_type": "error",
          "ename": "SyntaxError",
          "evalue": "ignored",
          "traceback": [
            "\u001b[0;36m  File \u001b[0;32m\"<ipython-input-56-96ff03789653>\"\u001b[0;36m, line \u001b[0;32m1\u001b[0m\n\u001b[0;31m    def draw_rectangle():\u001b[0m\n\u001b[0m                         ^\u001b[0m\n\u001b[0;31mSyntaxError\u001b[0m\u001b[0;31m:\u001b[0m incomplete input\n"
          ]
        }
      ]
    },
    {
      "cell_type": "markdown",
      "source": [
        "**type of inputs (paremeters or arguments)**\n",
        "\n",
        "- non-default argument: you need to give input to this argument\n",
        "\n",
        "- default argument : you can ignore it because it has a default value"
      ],
      "metadata": {
        "id": "KV42rrkVBrjF"
      }
    },
    {
      "cell_type": "code",
      "source": [
        "def draw_rectangle(dbbound=True): ## this is an example of default argument: set default to True\n",
        "    if dbbound:\n",
        "        print('========')\n",
        "        print('||    ||')\n",
        "        print('========')\n",
        "    else:\n",
        "        print('________')\n",
        "        print('|      |')\n",
        "        print('--------')"
      ],
      "metadata": {
        "id": "ThuYoehYCIus"
      },
      "execution_count": 59,
      "outputs": []
    },
    {
      "cell_type": "code",
      "source": [
        "draw_rectangle()"
      ],
      "metadata": {
        "colab": {
          "base_uri": "https://localhost:8080/"
        },
        "id": "2AlVOZp1CcwY",
        "outputId": "5d650815-071e-4c01-cd35-4a6294871e8a"
      },
      "execution_count": 60,
      "outputs": [
        {
          "output_type": "stream",
          "name": "stdout",
          "text": [
            "========\n",
            "||    ||\n",
            "========\n"
          ]
        }
      ]
    },
    {
      "cell_type": "code",
      "source": [
        "draw_rectangle(True)"
      ],
      "metadata": {
        "colab": {
          "base_uri": "https://localhost:8080/"
        },
        "id": "0HUfqK1SCjld",
        "outputId": "744887f9-8d38-47ef-f8e7-6b5f34dd183b"
      },
      "execution_count": 61,
      "outputs": [
        {
          "output_type": "stream",
          "name": "stdout",
          "text": [
            "========\n",
            "||    ||\n",
            "========\n"
          ]
        }
      ]
    },
    {
      "cell_type": "code",
      "source": [
        "draw_rectangle(False)"
      ],
      "metadata": {
        "colab": {
          "base_uri": "https://localhost:8080/"
        },
        "id": "nzm6qv19CnLv",
        "outputId": "6b6700fe-9e8c-448a-e923-a7adcf7d6ef5"
      },
      "execution_count": 62,
      "outputs": [
        {
          "output_type": "stream",
          "name": "stdout",
          "text": [
            "________\n",
            "|      |\n",
            "--------\n"
          ]
        }
      ]
    },
    {
      "cell_type": "markdown",
      "source": [
        "when you call a function that require non-default argument without input, it will return error"
      ],
      "metadata": {
        "id": "eZ79pAOLDEWM"
      }
    },
    {
      "cell_type": "code",
      "source": [
        "find_min2()"
      ],
      "metadata": {
        "colab": {
          "base_uri": "https://localhost:8080/",
          "height": 166
        },
        "id": "5WMEzAhNDN_4",
        "outputId": "78dd8fd9-0f6e-4e1f-b564-53a8260b247f"
      },
      "execution_count": 63,
      "outputs": [
        {
          "output_type": "error",
          "ename": "TypeError",
          "evalue": "ignored",
          "traceback": [
            "\u001b[0;31m---------------------------------------------------------------------------\u001b[0m",
            "\u001b[0;31mTypeError\u001b[0m                                 Traceback (most recent call last)",
            "\u001b[0;32m<ipython-input-63-99c508e7a45c>\u001b[0m in \u001b[0;36m<cell line: 1>\u001b[0;34m()\u001b[0m\n\u001b[0;32m----> 1\u001b[0;31m \u001b[0mfind_min2\u001b[0m\u001b[0;34m(\u001b[0m\u001b[0;34m)\u001b[0m\u001b[0;34m\u001b[0m\u001b[0;34m\u001b[0m\u001b[0m\n\u001b[0m",
            "\u001b[0;31mTypeError\u001b[0m: find_min2() missing 1 required positional argument: 'list_ex'"
          ]
        }
      ]
    },
    {
      "cell_type": "markdown",
      "source": [
        "when define a function, you have to put non-default argument first"
      ],
      "metadata": {
        "id": "Rfcyz02bD9Lk"
      }
    },
    {
      "cell_type": "code",
      "source": [
        "def draw_rectangle(size,dbbound=True): ## size is non-default argument (we cannot put dbbound before size)\n",
        "    if dbbound:\n",
        "        up = '='\n",
        "        space = ' '\n",
        "        print(f'{(size+4)*up}')\n",
        "        print(f'||{size*space}||')\n",
        "        print(f'{(size+4)*up}')\n",
        "    else:\n",
        "        up = '-'\n",
        "        space = ' '\n",
        "        print(f'{(size+4)*up}')\n",
        "        print(f'|{size*space}|')\n",
        "        print(f'{(size+4)*up}')"
      ],
      "metadata": {
        "id": "Sfn-w8i4DaEc"
      },
      "execution_count": 64,
      "outputs": []
    },
    {
      "cell_type": "code",
      "source": [
        "draw_rectangle()"
      ],
      "metadata": {
        "colab": {
          "base_uri": "https://localhost:8080/",
          "height": 166
        },
        "id": "M-nor1UkEC3E",
        "outputId": "b939c1ed-55a4-43aa-8119-2527c42fa3fd"
      },
      "execution_count": 65,
      "outputs": [
        {
          "output_type": "error",
          "ename": "TypeError",
          "evalue": "ignored",
          "traceback": [
            "\u001b[0;31m---------------------------------------------------------------------------\u001b[0m",
            "\u001b[0;31mTypeError\u001b[0m                                 Traceback (most recent call last)",
            "\u001b[0;32m<ipython-input-65-58aa09896f8d>\u001b[0m in \u001b[0;36m<cell line: 1>\u001b[0;34m()\u001b[0m\n\u001b[0;32m----> 1\u001b[0;31m \u001b[0mdraw_rectangle\u001b[0m\u001b[0;34m(\u001b[0m\u001b[0;34m)\u001b[0m\u001b[0;34m\u001b[0m\u001b[0;34m\u001b[0m\u001b[0m\n\u001b[0m",
            "\u001b[0;31mTypeError\u001b[0m: draw_rectangle() missing 1 required positional argument: 'size'"
          ]
        }
      ]
    },
    {
      "cell_type": "code",
      "source": [
        "draw_rectangle(20,False)"
      ],
      "metadata": {
        "colab": {
          "base_uri": "https://localhost:8080/"
        },
        "id": "iqkc-_ROEOug",
        "outputId": "9a09d4b7-8463-4c0d-d034-21aaa3cbcb74"
      },
      "execution_count": 67,
      "outputs": [
        {
          "output_type": "stream",
          "name": "stdout",
          "text": [
            "------------------------\n",
            "|                    |\n",
            "------------------------\n"
          ]
        }
      ]
    },
    {
      "cell_type": "markdown",
      "source": [
        "you don't have to follow the order or the arguments if you specify what argument are what"
      ],
      "metadata": {
        "id": "Dyi0OevKEf_j"
      }
    },
    {
      "cell_type": "code",
      "source": [
        "draw_rectangle(dbbound=False,size=25)"
      ],
      "metadata": {
        "colab": {
          "base_uri": "https://localhost:8080/"
        },
        "id": "p8XGs_r8Eq5L",
        "outputId": "103a119d-2cc1-4cad-cd18-b06e6567c6bc"
      },
      "execution_count": 69,
      "outputs": [
        {
          "output_type": "stream",
          "name": "stdout",
          "text": [
            "-----------------------------\n",
            "|                         |\n",
            "-----------------------------\n"
          ]
        }
      ]
    },
    {
      "cell_type": "code",
      "source": [
        "draw_rectangle(size=7)"
      ],
      "metadata": {
        "colab": {
          "base_uri": "https://localhost:8080/"
        },
        "id": "v4SQ4NvPE5Tu",
        "outputId": "1aca6e30-9079-4bcc-8e4a-b6b672785911"
      },
      "execution_count": 70,
      "outputs": [
        {
          "output_type": "stream",
          "name": "stdout",
          "text": [
            "===========\n",
            "||       ||\n",
            "===========\n"
          ]
        }
      ]
    },
    {
      "cell_type": "markdown",
      "source": [
        "#### Example\n",
        "\n",
        "create a function that:\n",
        "\n",
        "- draw a rectangle that you can specify width and height of it\n",
        "- but when user input only one argumet draw square\n",
        "\n",
        "Print the width x length of the rectangle.\n",
        "\n",
        "\n",
        "(Please print the width x length of the rectangle)\n",
        "\n",
        "**example**\n",
        "\n",
        "rext(3,5)\n",
        "> 3 x 5\n",
        "\n",
        "rext(7)\n",
        "\n",
        "> 7 x 7"
      ],
      "metadata": {
        "id": "hPeDtBQFE_m_"
      }
    },
    {
      "cell_type": "code",
      "source": [
        "def draw_rectagle(W, H): #เติมค่่า ตัวหนึ่งได้เเต่ใช้สองตัว\n",
        "    print(f'{W} x {H}')\n",
        "draw_rectagle(3, 5)"
      ],
      "metadata": {
        "colab": {
          "base_uri": "https://localhost:8080/"
        },
        "id": "3GwHf-M5F_oC",
        "outputId": "06d1f46a-d2ed-42d9-efe3-4d0b1b3d5f5e"
      },
      "execution_count": 71,
      "outputs": [
        {
          "output_type": "stream",
          "name": "stdout",
          "text": [
            "3 x 5\n"
          ]
        }
      ]
    },
    {
      "cell_type": "code",
      "source": [
        "def draw_rectagle(W, H=True): #เติมค่่า ตัวหนึ่งได้เเต่ใช้สองตัว\n",
        "    if H == True: #เช็ค if parameter 1 ตัว\n",
        "        H=W\n",
        "    print(f'{W} x {H}')"
      ],
      "metadata": {
        "id": "iTBRTDrBGGmm"
      },
      "execution_count": 72,
      "outputs": []
    },
    {
      "cell_type": "code",
      "source": [
        "draw_rectagle(3)"
      ],
      "metadata": {
        "colab": {
          "base_uri": "https://localhost:8080/"
        },
        "id": "0HsBygOrGIlv",
        "outputId": "ba33519c-da0a-4604-f809-2bbdef90078c"
      },
      "execution_count": 73,
      "outputs": [
        {
          "output_type": "stream",
          "name": "stdout",
          "text": [
            "3 x 3\n"
          ]
        }
      ]
    },
    {
      "cell_type": "code",
      "source": [
        "draw_rectagle(3,5)"
      ],
      "metadata": {
        "colab": {
          "base_uri": "https://localhost:8080/"
        },
        "id": "lM4nsp-DGKaw",
        "outputId": "ad81e293-fd4c-4682-cb7a-6ee75e1c9c75"
      },
      "execution_count": 74,
      "outputs": [
        {
          "output_type": "stream",
          "name": "stdout",
          "text": [
            "3 x 5\n"
          ]
        }
      ]
    },
    {
      "cell_type": "code",
      "source": [
        "def draw_rectagle(W, H=True):\n",
        "    if H ==True:\n",
        "       up = '-'\n",
        "       side = '|'\n",
        "       space = W-1\n",
        "       print(f'{W*up}')\n",
        "       for i in range(W):\n",
        "           print(f'{side}{space*\" \"}{side}')\n",
        "       print(f'{W*up}')\n",
        "       print((f'{W} x {W}'))\n",
        "    else:\n",
        "        up = '-'\n",
        "        side = '|'\n",
        "        space = W-1\n",
        "        print(f'{W*up}')\n",
        "        for i in range(H):\n",
        "            print(f'{side}{space*\" \"}{side}')\n",
        "        print(f'{W*up}')\n",
        "        print((f'{W} x {H}'))"
      ],
      "metadata": {
        "id": "O9URrFq_GpDo"
      },
      "execution_count": 75,
      "outputs": []
    },
    {
      "cell_type": "code",
      "source": [
        "draw_rectagle(W=5)"
      ],
      "metadata": {
        "colab": {
          "base_uri": "https://localhost:8080/"
        },
        "id": "u82qTZ-MGp0c",
        "outputId": "cbef0775-f840-4446-e039-667f3679a080"
      },
      "execution_count": 76,
      "outputs": [
        {
          "output_type": "stream",
          "name": "stdout",
          "text": [
            "-----\n",
            "|    |\n",
            "|    |\n",
            "|    |\n",
            "|    |\n",
            "|    |\n",
            "-----\n",
            "5 x 5\n"
          ]
        }
      ]
    },
    {
      "cell_type": "code",
      "source": [
        "draw_rectagle(W=5,H=10)"
      ],
      "metadata": {
        "colab": {
          "base_uri": "https://localhost:8080/"
        },
        "id": "IZpQO4h3GsvY",
        "outputId": "dff88839-38ee-439a-94a8-7806964b0b9b"
      },
      "execution_count": 77,
      "outputs": [
        {
          "output_type": "stream",
          "name": "stdout",
          "text": [
            "-----\n",
            "|    |\n",
            "|    |\n",
            "|    |\n",
            "|    |\n",
            "|    |\n",
            "|    |\n",
            "|    |\n",
            "|    |\n",
            "|    |\n",
            "|    |\n",
            "-----\n",
            "5 x 10\n"
          ]
        }
      ]
    },
    {
      "cell_type": "code",
      "source": [
        "draw_rectagle(W=10,H=10)"
      ],
      "metadata": {
        "colab": {
          "base_uri": "https://localhost:8080/"
        },
        "id": "JkgQWPalGuS3",
        "outputId": "cb597dae-1568-436c-850f-24b82befd675"
      },
      "execution_count": 78,
      "outputs": [
        {
          "output_type": "stream",
          "name": "stdout",
          "text": [
            "----------\n",
            "|         |\n",
            "|         |\n",
            "|         |\n",
            "|         |\n",
            "|         |\n",
            "|         |\n",
            "|         |\n",
            "|         |\n",
            "|         |\n",
            "|         |\n",
            "----------\n",
            "10 x 10\n"
          ]
        }
      ]
    },
    {
      "cell_type": "code",
      "source": [
        "draw_rectagle(W=5,H=5)"
      ],
      "metadata": {
        "colab": {
          "base_uri": "https://localhost:8080/"
        },
        "id": "a2AL-ELCGwDn",
        "outputId": "cf353165-76b2-4d16-8851-54db6b11b896"
      },
      "execution_count": 79,
      "outputs": [
        {
          "output_type": "stream",
          "name": "stdout",
          "text": [
            "-----\n",
            "|    |\n",
            "|    |\n",
            "|    |\n",
            "|    |\n",
            "|    |\n",
            "-----\n",
            "5 x 5\n"
          ]
        }
      ]
    },
    {
      "cell_type": "markdown",
      "source": [
        "**HOMEWORK 2**\n",
        "\n",
        "create a function that\n",
        "1. sort a list\n",
        "2. can specify to the function that to sort it ascending or descending with the ascending as default\n",
        "3. have 2 argument one default and one non-default\n",
        "\n",
        "(continue form Homework 1)"
      ],
      "metadata": {
        "id": "G-SQS_xGGK1U"
      }
    },
    {
      "cell_type": "markdown",
      "source": [],
      "metadata": {
        "id": "ziV8hIZdGjc8"
      }
    }
  ]
}