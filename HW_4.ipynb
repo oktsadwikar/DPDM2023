{
  "nbformat": 4,
  "nbformat_minor": 0,
  "metadata": {
    "colab": {
      "provenance": [],
      "authorship_tag": "ABX9TyMBZ2g+SMjnio3BUQt/Bgv5",
      "include_colab_link": true
    },
    "kernelspec": {
      "name": "python3",
      "display_name": "Python 3"
    },
    "language_info": {
      "name": "python"
    }
  },
  "cells": [
    {
      "cell_type": "markdown",
      "metadata": {
        "id": "view-in-github",
        "colab_type": "text"
      },
      "source": [
        "<a href=\"https://colab.research.google.com/github/oktsadwikar/DPDM2023/blob/main/HW_4.ipynb\" target=\"_parent\"><img src=\"https://colab.research.google.com/assets/colab-badge.svg\" alt=\"Open In Colab\"/></a>"
      ]
    },
    {
      "cell_type": "markdown",
      "source": [
        "From data iris, separate the data iris to test and train, and make the code for KNN using train data"
      ],
      "metadata": {
        "id": "AFiaCmHIZK7_"
      }
    },
    {
      "cell_type": "code",
      "source": [
        "import numpy as np"
      ],
      "metadata": {
        "id": "Vdvns7baaFjF"
      },
      "execution_count": 62,
      "outputs": []
    },
    {
      "cell_type": "code",
      "execution_count": 63,
      "metadata": {
        "id": "c3il88uZYzny"
      },
      "outputs": [],
      "source": [
        "from sklearn import datasets\n",
        "iris = datasets.load_iris()"
      ]
    },
    {
      "cell_type": "code",
      "source": [
        "iris"
      ],
      "metadata": {
        "colab": {
          "base_uri": "https://localhost:8080/"
        },
        "id": "MdN5P67rZJkw",
        "outputId": "e2622d67-0da9-475d-97c1-f2b46b30870a"
      },
      "execution_count": 64,
      "outputs": [
        {
          "output_type": "execute_result",
          "data": {
            "text/plain": [
              "{'data': array([[5.1, 3.5, 1.4, 0.2],\n",
              "        [4.9, 3. , 1.4, 0.2],\n",
              "        [4.7, 3.2, 1.3, 0.2],\n",
              "        [4.6, 3.1, 1.5, 0.2],\n",
              "        [5. , 3.6, 1.4, 0.2],\n",
              "        [5.4, 3.9, 1.7, 0.4],\n",
              "        [4.6, 3.4, 1.4, 0.3],\n",
              "        [5. , 3.4, 1.5, 0.2],\n",
              "        [4.4, 2.9, 1.4, 0.2],\n",
              "        [4.9, 3.1, 1.5, 0.1],\n",
              "        [5.4, 3.7, 1.5, 0.2],\n",
              "        [4.8, 3.4, 1.6, 0.2],\n",
              "        [4.8, 3. , 1.4, 0.1],\n",
              "        [4.3, 3. , 1.1, 0.1],\n",
              "        [5.8, 4. , 1.2, 0.2],\n",
              "        [5.7, 4.4, 1.5, 0.4],\n",
              "        [5.4, 3.9, 1.3, 0.4],\n",
              "        [5.1, 3.5, 1.4, 0.3],\n",
              "        [5.7, 3.8, 1.7, 0.3],\n",
              "        [5.1, 3.8, 1.5, 0.3],\n",
              "        [5.4, 3.4, 1.7, 0.2],\n",
              "        [5.1, 3.7, 1.5, 0.4],\n",
              "        [4.6, 3.6, 1. , 0.2],\n",
              "        [5.1, 3.3, 1.7, 0.5],\n",
              "        [4.8, 3.4, 1.9, 0.2],\n",
              "        [5. , 3. , 1.6, 0.2],\n",
              "        [5. , 3.4, 1.6, 0.4],\n",
              "        [5.2, 3.5, 1.5, 0.2],\n",
              "        [5.2, 3.4, 1.4, 0.2],\n",
              "        [4.7, 3.2, 1.6, 0.2],\n",
              "        [4.8, 3.1, 1.6, 0.2],\n",
              "        [5.4, 3.4, 1.5, 0.4],\n",
              "        [5.2, 4.1, 1.5, 0.1],\n",
              "        [5.5, 4.2, 1.4, 0.2],\n",
              "        [4.9, 3.1, 1.5, 0.2],\n",
              "        [5. , 3.2, 1.2, 0.2],\n",
              "        [5.5, 3.5, 1.3, 0.2],\n",
              "        [4.9, 3.6, 1.4, 0.1],\n",
              "        [4.4, 3. , 1.3, 0.2],\n",
              "        [5.1, 3.4, 1.5, 0.2],\n",
              "        [5. , 3.5, 1.3, 0.3],\n",
              "        [4.5, 2.3, 1.3, 0.3],\n",
              "        [4.4, 3.2, 1.3, 0.2],\n",
              "        [5. , 3.5, 1.6, 0.6],\n",
              "        [5.1, 3.8, 1.9, 0.4],\n",
              "        [4.8, 3. , 1.4, 0.3],\n",
              "        [5.1, 3.8, 1.6, 0.2],\n",
              "        [4.6, 3.2, 1.4, 0.2],\n",
              "        [5.3, 3.7, 1.5, 0.2],\n",
              "        [5. , 3.3, 1.4, 0.2],\n",
              "        [7. , 3.2, 4.7, 1.4],\n",
              "        [6.4, 3.2, 4.5, 1.5],\n",
              "        [6.9, 3.1, 4.9, 1.5],\n",
              "        [5.5, 2.3, 4. , 1.3],\n",
              "        [6.5, 2.8, 4.6, 1.5],\n",
              "        [5.7, 2.8, 4.5, 1.3],\n",
              "        [6.3, 3.3, 4.7, 1.6],\n",
              "        [4.9, 2.4, 3.3, 1. ],\n",
              "        [6.6, 2.9, 4.6, 1.3],\n",
              "        [5.2, 2.7, 3.9, 1.4],\n",
              "        [5. , 2. , 3.5, 1. ],\n",
              "        [5.9, 3. , 4.2, 1.5],\n",
              "        [6. , 2.2, 4. , 1. ],\n",
              "        [6.1, 2.9, 4.7, 1.4],\n",
              "        [5.6, 2.9, 3.6, 1.3],\n",
              "        [6.7, 3.1, 4.4, 1.4],\n",
              "        [5.6, 3. , 4.5, 1.5],\n",
              "        [5.8, 2.7, 4.1, 1. ],\n",
              "        [6.2, 2.2, 4.5, 1.5],\n",
              "        [5.6, 2.5, 3.9, 1.1],\n",
              "        [5.9, 3.2, 4.8, 1.8],\n",
              "        [6.1, 2.8, 4. , 1.3],\n",
              "        [6.3, 2.5, 4.9, 1.5],\n",
              "        [6.1, 2.8, 4.7, 1.2],\n",
              "        [6.4, 2.9, 4.3, 1.3],\n",
              "        [6.6, 3. , 4.4, 1.4],\n",
              "        [6.8, 2.8, 4.8, 1.4],\n",
              "        [6.7, 3. , 5. , 1.7],\n",
              "        [6. , 2.9, 4.5, 1.5],\n",
              "        [5.7, 2.6, 3.5, 1. ],\n",
              "        [5.5, 2.4, 3.8, 1.1],\n",
              "        [5.5, 2.4, 3.7, 1. ],\n",
              "        [5.8, 2.7, 3.9, 1.2],\n",
              "        [6. , 2.7, 5.1, 1.6],\n",
              "        [5.4, 3. , 4.5, 1.5],\n",
              "        [6. , 3.4, 4.5, 1.6],\n",
              "        [6.7, 3.1, 4.7, 1.5],\n",
              "        [6.3, 2.3, 4.4, 1.3],\n",
              "        [5.6, 3. , 4.1, 1.3],\n",
              "        [5.5, 2.5, 4. , 1.3],\n",
              "        [5.5, 2.6, 4.4, 1.2],\n",
              "        [6.1, 3. , 4.6, 1.4],\n",
              "        [5.8, 2.6, 4. , 1.2],\n",
              "        [5. , 2.3, 3.3, 1. ],\n",
              "        [5.6, 2.7, 4.2, 1.3],\n",
              "        [5.7, 3. , 4.2, 1.2],\n",
              "        [5.7, 2.9, 4.2, 1.3],\n",
              "        [6.2, 2.9, 4.3, 1.3],\n",
              "        [5.1, 2.5, 3. , 1.1],\n",
              "        [5.7, 2.8, 4.1, 1.3],\n",
              "        [6.3, 3.3, 6. , 2.5],\n",
              "        [5.8, 2.7, 5.1, 1.9],\n",
              "        [7.1, 3. , 5.9, 2.1],\n",
              "        [6.3, 2.9, 5.6, 1.8],\n",
              "        [6.5, 3. , 5.8, 2.2],\n",
              "        [7.6, 3. , 6.6, 2.1],\n",
              "        [4.9, 2.5, 4.5, 1.7],\n",
              "        [7.3, 2.9, 6.3, 1.8],\n",
              "        [6.7, 2.5, 5.8, 1.8],\n",
              "        [7.2, 3.6, 6.1, 2.5],\n",
              "        [6.5, 3.2, 5.1, 2. ],\n",
              "        [6.4, 2.7, 5.3, 1.9],\n",
              "        [6.8, 3. , 5.5, 2.1],\n",
              "        [5.7, 2.5, 5. , 2. ],\n",
              "        [5.8, 2.8, 5.1, 2.4],\n",
              "        [6.4, 3.2, 5.3, 2.3],\n",
              "        [6.5, 3. , 5.5, 1.8],\n",
              "        [7.7, 3.8, 6.7, 2.2],\n",
              "        [7.7, 2.6, 6.9, 2.3],\n",
              "        [6. , 2.2, 5. , 1.5],\n",
              "        [6.9, 3.2, 5.7, 2.3],\n",
              "        [5.6, 2.8, 4.9, 2. ],\n",
              "        [7.7, 2.8, 6.7, 2. ],\n",
              "        [6.3, 2.7, 4.9, 1.8],\n",
              "        [6.7, 3.3, 5.7, 2.1],\n",
              "        [7.2, 3.2, 6. , 1.8],\n",
              "        [6.2, 2.8, 4.8, 1.8],\n",
              "        [6.1, 3. , 4.9, 1.8],\n",
              "        [6.4, 2.8, 5.6, 2.1],\n",
              "        [7.2, 3. , 5.8, 1.6],\n",
              "        [7.4, 2.8, 6.1, 1.9],\n",
              "        [7.9, 3.8, 6.4, 2. ],\n",
              "        [6.4, 2.8, 5.6, 2.2],\n",
              "        [6.3, 2.8, 5.1, 1.5],\n",
              "        [6.1, 2.6, 5.6, 1.4],\n",
              "        [7.7, 3. , 6.1, 2.3],\n",
              "        [6.3, 3.4, 5.6, 2.4],\n",
              "        [6.4, 3.1, 5.5, 1.8],\n",
              "        [6. , 3. , 4.8, 1.8],\n",
              "        [6.9, 3.1, 5.4, 2.1],\n",
              "        [6.7, 3.1, 5.6, 2.4],\n",
              "        [6.9, 3.1, 5.1, 2.3],\n",
              "        [5.8, 2.7, 5.1, 1.9],\n",
              "        [6.8, 3.2, 5.9, 2.3],\n",
              "        [6.7, 3.3, 5.7, 2.5],\n",
              "        [6.7, 3. , 5.2, 2.3],\n",
              "        [6.3, 2.5, 5. , 1.9],\n",
              "        [6.5, 3. , 5.2, 2. ],\n",
              "        [6.2, 3.4, 5.4, 2.3],\n",
              "        [5.9, 3. , 5.1, 1.8]]),\n",
              " 'target': array([0, 0, 0, 0, 0, 0, 0, 0, 0, 0, 0, 0, 0, 0, 0, 0, 0, 0, 0, 0, 0, 0,\n",
              "        0, 0, 0, 0, 0, 0, 0, 0, 0, 0, 0, 0, 0, 0, 0, 0, 0, 0, 0, 0, 0, 0,\n",
              "        0, 0, 0, 0, 0, 0, 1, 1, 1, 1, 1, 1, 1, 1, 1, 1, 1, 1, 1, 1, 1, 1,\n",
              "        1, 1, 1, 1, 1, 1, 1, 1, 1, 1, 1, 1, 1, 1, 1, 1, 1, 1, 1, 1, 1, 1,\n",
              "        1, 1, 1, 1, 1, 1, 1, 1, 1, 1, 1, 1, 2, 2, 2, 2, 2, 2, 2, 2, 2, 2,\n",
              "        2, 2, 2, 2, 2, 2, 2, 2, 2, 2, 2, 2, 2, 2, 2, 2, 2, 2, 2, 2, 2, 2,\n",
              "        2, 2, 2, 2, 2, 2, 2, 2, 2, 2, 2, 2, 2, 2, 2, 2, 2, 2]),\n",
              " 'frame': None,\n",
              " 'target_names': array(['setosa', 'versicolor', 'virginica'], dtype='<U10'),\n",
              " 'DESCR': '.. _iris_dataset:\\n\\nIris plants dataset\\n--------------------\\n\\n**Data Set Characteristics:**\\n\\n    :Number of Instances: 150 (50 in each of three classes)\\n    :Number of Attributes: 4 numeric, predictive attributes and the class\\n    :Attribute Information:\\n        - sepal length in cm\\n        - sepal width in cm\\n        - petal length in cm\\n        - petal width in cm\\n        - class:\\n                - Iris-Setosa\\n                - Iris-Versicolour\\n                - Iris-Virginica\\n                \\n    :Summary Statistics:\\n\\n    ============== ==== ==== ======= ===== ====================\\n                    Min  Max   Mean    SD   Class Correlation\\n    ============== ==== ==== ======= ===== ====================\\n    sepal length:   4.3  7.9   5.84   0.83    0.7826\\n    sepal width:    2.0  4.4   3.05   0.43   -0.4194\\n    petal length:   1.0  6.9   3.76   1.76    0.9490  (high!)\\n    petal width:    0.1  2.5   1.20   0.76    0.9565  (high!)\\n    ============== ==== ==== ======= ===== ====================\\n\\n    :Missing Attribute Values: None\\n    :Class Distribution: 33.3% for each of 3 classes.\\n    :Creator: R.A. Fisher\\n    :Donor: Michael Marshall (MARSHALL%PLU@io.arc.nasa.gov)\\n    :Date: July, 1988\\n\\nThe famous Iris database, first used by Sir R.A. Fisher. The dataset is taken\\nfrom Fisher\\'s paper. Note that it\\'s the same as in R, but not as in the UCI\\nMachine Learning Repository, which has two wrong data points.\\n\\nThis is perhaps the best known database to be found in the\\npattern recognition literature.  Fisher\\'s paper is a classic in the field and\\nis referenced frequently to this day.  (See Duda & Hart, for example.)  The\\ndata set contains 3 classes of 50 instances each, where each class refers to a\\ntype of iris plant.  One class is linearly separable from the other 2; the\\nlatter are NOT linearly separable from each other.\\n\\n.. topic:: References\\n\\n   - Fisher, R.A. \"The use of multiple measurements in taxonomic problems\"\\n     Annual Eugenics, 7, Part II, 179-188 (1936); also in \"Contributions to\\n     Mathematical Statistics\" (John Wiley, NY, 1950).\\n   - Duda, R.O., & Hart, P.E. (1973) Pattern Classification and Scene Analysis.\\n     (Q327.D83) John Wiley & Sons.  ISBN 0-471-22361-1.  See page 218.\\n   - Dasarathy, B.V. (1980) \"Nosing Around the Neighborhood: A New System\\n     Structure and Classification Rule for Recognition in Partially Exposed\\n     Environments\".  IEEE Transactions on Pattern Analysis and Machine\\n     Intelligence, Vol. PAMI-2, No. 1, 67-71.\\n   - Gates, G.W. (1972) \"The Reduced Nearest Neighbor Rule\".  IEEE Transactions\\n     on Information Theory, May 1972, 431-433.\\n   - See also: 1988 MLC Proceedings, 54-64.  Cheeseman et al\"s AUTOCLASS II\\n     conceptual clustering system finds 3 classes in the data.\\n   - Many, many more ...',\n",
              " 'feature_names': ['sepal length (cm)',\n",
              "  'sepal width (cm)',\n",
              "  'petal length (cm)',\n",
              "  'petal width (cm)'],\n",
              " 'filename': 'iris.csv',\n",
              " 'data_module': 'sklearn.datasets.data'}"
            ]
          },
          "metadata": {},
          "execution_count": 64
        }
      ]
    },
    {
      "cell_type": "code",
      "source": [
        "test_data_0 = iris['data'][:5,:]\n",
        "test_data_1 = iris['data'][50:55,:]\n",
        "test_data_2 = iris['data'][100:105,:]\n",
        "\n",
        "train_data_0 = iris['data'][5:50,:]\n",
        "train_data_1 = iris['data'][55:100,:]\n",
        "train_data_2 = iris['data'][105:,:]"
      ],
      "metadata": {
        "id": "fRXmwzB-ZmC6"
      },
      "execution_count": 65,
      "outputs": []
    },
    {
      "cell_type": "code",
      "source": [
        "test_data_0"
      ],
      "metadata": {
        "id": "i96C3ne5Pubk",
        "outputId": "02330a36-b989-439b-fc71-bdad8cd0b1b9",
        "colab": {
          "base_uri": "https://localhost:8080/"
        }
      },
      "execution_count": 66,
      "outputs": [
        {
          "output_type": "execute_result",
          "data": {
            "text/plain": [
              "array([[5.1, 3.5, 1.4, 0.2],\n",
              "       [4.9, 3. , 1.4, 0.2],\n",
              "       [4.7, 3.2, 1.3, 0.2],\n",
              "       [4.6, 3.1, 1.5, 0.2],\n",
              "       [5. , 3.6, 1.4, 0.2]])"
            ]
          },
          "metadata": {},
          "execution_count": 66
        }
      ]
    },
    {
      "cell_type": "code",
      "source": [
        "test_data_1"
      ],
      "metadata": {
        "id": "MiRUX3g7Pzoo",
        "outputId": "0d38cc41-d80b-40be-eb78-1ff204220c57",
        "colab": {
          "base_uri": "https://localhost:8080/"
        }
      },
      "execution_count": 67,
      "outputs": [
        {
          "output_type": "execute_result",
          "data": {
            "text/plain": [
              "array([[7. , 3.2, 4.7, 1.4],\n",
              "       [6.4, 3.2, 4.5, 1.5],\n",
              "       [6.9, 3.1, 4.9, 1.5],\n",
              "       [5.5, 2.3, 4. , 1.3],\n",
              "       [6.5, 2.8, 4.6, 1.5]])"
            ]
          },
          "metadata": {},
          "execution_count": 67
        }
      ]
    },
    {
      "cell_type": "code",
      "source": [
        "test_data_2"
      ],
      "metadata": {
        "id": "QnF6weteP2Id",
        "outputId": "f0f2d1b3-2d16-48f2-dea8-5cb4b1528161",
        "colab": {
          "base_uri": "https://localhost:8080/"
        }
      },
      "execution_count": 68,
      "outputs": [
        {
          "output_type": "execute_result",
          "data": {
            "text/plain": [
              "array([[6.3, 3.3, 6. , 2.5],\n",
              "       [5.8, 2.7, 5.1, 1.9],\n",
              "       [7.1, 3. , 5.9, 2.1],\n",
              "       [6.3, 2.9, 5.6, 1.8],\n",
              "       [6.5, 3. , 5.8, 2.2]])"
            ]
          },
          "metadata": {},
          "execution_count": 68
        }
      ]
    },
    {
      "cell_type": "code",
      "source": [
        "test_data = np.concatenate([test_data_0,test_data_1,test_data_2])\n",
        "train_data = np.concatenate([train_data_0,train_data_1,train_data_2])"
      ],
      "metadata": {
        "id": "tmITsnaIakmm"
      },
      "execution_count": 69,
      "outputs": []
    },
    {
      "cell_type": "code",
      "source": [
        "test_label_0 = iris['target'][:5]\n",
        "test_label_1 = iris['target'][50:55]\n",
        "test_label_2 = iris['target'][100:105]\n",
        "\n",
        "train_label_0 = iris['target'][5:50]\n",
        "train_label_1 = iris['target'][55:100]\n",
        "train_label_2 = iris['target'][105:]"
      ],
      "metadata": {
        "id": "V9ISLQTqbXfE"
      },
      "execution_count": 70,
      "outputs": []
    },
    {
      "cell_type": "markdown",
      "source": [
        "**HOMEWORK 4**"
      ],
      "metadata": {
        "id": "BCsFUdSDa-9H"
      }
    },
    {
      "cell_type": "markdown",
      "source": [
        "write your own KNN algorithm using sorting function from HW 2, The function should take 3 parameters:\n",
        "\n",
        "- training data\n",
        "- test data\n",
        "- K"
      ],
      "metadata": {
        "id": "60QXN5f0bD4r"
      }
    },
    {
      "cell_type": "markdown",
      "source": [
        "**Answer**"
      ],
      "metadata": {
        "id": "UYmO22WzIZbB"
      }
    },
    {
      "cell_type": "markdown",
      "source": [
        "1. Create Function to calculate Euclidean Distance\n",
        "\n",
        "![KNN_similarity.png](data:image/png;base64,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)"
      ],
      "metadata": {
        "id": "eSPnXnhlIjqr"
      }
    },
    {
      "cell_type": "code",
      "source": [
        "def euclidean_distance(point1, point2):\n",
        "    # Calculate the Euclidean distance between two data points\n",
        "    distance = 0\n",
        "    for i in range(len(point1)):\n",
        "        distance += (point1[i] - point2[i]) ** 2\n",
        "    return distance ** 0.5"
      ],
      "metadata": {
        "id": "eVYpVyU0IYqa"
      },
      "execution_count": 71,
      "outputs": []
    },
    {
      "cell_type": "markdown",
      "source": [
        "Try with train point and test point"
      ],
      "metadata": {
        "id": "kpo6XDCeKB6d"
      }
    },
    {
      "cell_type": "code",
      "source": [
        "test_data[0]"
      ],
      "metadata": {
        "id": "M5fN35OYKaMP",
        "outputId": "5b89b34d-2f6d-4374-e8db-6a6cc8a0a8b0",
        "colab": {
          "base_uri": "https://localhost:8080/"
        }
      },
      "execution_count": 72,
      "outputs": [
        {
          "output_type": "execute_result",
          "data": {
            "text/plain": [
              "array([5.1, 3.5, 1.4, 0.2])"
            ]
          },
          "metadata": {},
          "execution_count": 72
        }
      ]
    },
    {
      "cell_type": "code",
      "source": [
        "train_data[0]"
      ],
      "metadata": {
        "id": "L1Tn3EMGKdCN",
        "outputId": "0f2bc40f-1a37-4b02-d308-dd06555efcca",
        "colab": {
          "base_uri": "https://localhost:8080/"
        }
      },
      "execution_count": 73,
      "outputs": [
        {
          "output_type": "execute_result",
          "data": {
            "text/plain": [
              "array([5.4, 3.9, 1.7, 0.4])"
            ]
          },
          "metadata": {},
          "execution_count": 73
        }
      ]
    },
    {
      "cell_type": "code",
      "source": [
        "ED = euclidean_distance(test_data[0],train_data[0])\n",
        "ED"
      ],
      "metadata": {
        "id": "iyFajwnZKINQ",
        "outputId": "cb2ee4b2-8f0f-4c24-bc74-9816a6c35f66",
        "colab": {
          "base_uri": "https://localhost:8080/"
        }
      },
      "execution_count": 74,
      "outputs": [
        {
          "output_type": "execute_result",
          "data": {
            "text/plain": [
              "0.6164414002968979"
            ]
          },
          "metadata": {},
          "execution_count": 74
        }
      ]
    },
    {
      "cell_type": "markdown",
      "source": [
        "2. Create KNN Function"
      ],
      "metadata": {
        "id": "H4JnIDMEK0Vp"
      }
    },
    {
      "cell_type": "code",
      "source": [
        "def knn(training_data, test_data, k):\n",
        "    predictions = []\n",
        "\n",
        "    # Outer looping: calculate each test point [i]\n",
        "    for test_point in test_data:\n",
        "        # Calculate distances between test_point and all training data points\n",
        "        distances = []\n",
        "        for train_point in training_data:\n",
        "            # Using euclidean_distance function\n",
        "            distance = euclidean_distance(test_point, train_point[:-1])\n",
        "            distances.append((train_point, distance))\n",
        "\n",
        "        # Sort distances using Bubble Sort\n",
        "        for i in range(len(distances) - 1):\n",
        "            for j in range(len(distances) - 1 - i):\n",
        "                if distances[j][1] > distances[j + 1][1]:\n",
        "                    distances[j], distances[j + 1] = distances[j + 1], distances[j]\n",
        "\n",
        "        # Get the K nearest neighbors\n",
        "        k_neighbors = distances[:k]\n",
        "\n",
        "        # Count the class occurrences in the KNN\n",
        "        class_count = {}\n",
        "        for neighbor in k_neighbors:\n",
        "            label = neighbor[0][-1]\n",
        "            if label in class_count:\n",
        "                class_count[label] += 1\n",
        "            else:\n",
        "                class_count[label] = 1\n",
        "\n",
        "        # Predict the class label with the highest count\n",
        "        prediction = max(class_count, key=class_count.get)\n",
        "        predictions.append(prediction)\n",
        "\n",
        "    return predictions"
      ],
      "metadata": {
        "id": "J5UlLKvnK7EU"
      },
      "execution_count": 75,
      "outputs": []
    },
    {
      "cell_type": "markdown",
      "source": [
        "Try the function with iris dataset"
      ],
      "metadata": {
        "id": "D0pLzrbJNy8M"
      }
    },
    {
      "cell_type": "code",
      "source": [
        "test_data = np.concatenate([test_data_0,test_data_1,test_data_2])\n",
        "train_data = np.concatenate([train_data_0,train_data_1,train_data_2])"
      ],
      "metadata": {
        "id": "g6IZSRKyNx36"
      },
      "execution_count": 76,
      "outputs": []
    },
    {
      "cell_type": "code",
      "source": [
        "test_label = np.concatenate([test_label_0,test_label_1,test_label_2])\n",
        "train_label = np.concatenate([train_label_0,train_label_1,train_label_2])"
      ],
      "metadata": {
        "id": "vOyAcZq4N7ov"
      },
      "execution_count": 77,
      "outputs": []
    },
    {
      "cell_type": "code",
      "source": [
        "train_dataset = np.c_[train_data, train_label]"
      ],
      "metadata": {
        "id": "jPGQo3-TOB94"
      },
      "execution_count": 78,
      "outputs": []
    },
    {
      "cell_type": "code",
      "source": [
        "train_dataset[:5]"
      ],
      "metadata": {
        "id": "Z477v6xqOIDY",
        "outputId": "078fe331-580a-4b76-f06b-f644262aff81",
        "colab": {
          "base_uri": "https://localhost:8080/"
        }
      },
      "execution_count": 79,
      "outputs": [
        {
          "output_type": "execute_result",
          "data": {
            "text/plain": [
              "array([[5.4, 3.9, 1.7, 0.4, 0. ],\n",
              "       [4.6, 3.4, 1.4, 0.3, 0. ],\n",
              "       [5. , 3.4, 1.5, 0.2, 0. ],\n",
              "       [4.4, 2.9, 1.4, 0.2, 0. ],\n",
              "       [4.9, 3.1, 1.5, 0.1, 0. ]])"
            ]
          },
          "metadata": {},
          "execution_count": 79
        }
      ]
    },
    {
      "cell_type": "code",
      "source": [
        "test_data[:5]"
      ],
      "metadata": {
        "id": "y8UJqOyEOLIr",
        "outputId": "3d33a708-665e-4c9a-9450-e97927f9149e",
        "colab": {
          "base_uri": "https://localhost:8080/"
        }
      },
      "execution_count": 80,
      "outputs": [
        {
          "output_type": "execute_result",
          "data": {
            "text/plain": [
              "array([[5.1, 3.5, 1.4, 0.2],\n",
              "       [4.9, 3. , 1.4, 0.2],\n",
              "       [4.7, 3.2, 1.3, 0.2],\n",
              "       [4.6, 3.1, 1.5, 0.2],\n",
              "       [5. , 3.6, 1.4, 0.2]])"
            ]
          },
          "metadata": {},
          "execution_count": 80
        }
      ]
    },
    {
      "cell_type": "code",
      "source": [
        "len(test_data)"
      ],
      "metadata": {
        "id": "BHieo7InPm8e",
        "outputId": "f1e21db5-e596-4ad0-a811-23ff68c6fa24",
        "colab": {
          "base_uri": "https://localhost:8080/"
        }
      },
      "execution_count": 81,
      "outputs": [
        {
          "output_type": "execute_result",
          "data": {
            "text/plain": [
              "15"
            ]
          },
          "metadata": {},
          "execution_count": 81
        }
      ]
    },
    {
      "cell_type": "markdown",
      "source": [
        "Predict with k = 3"
      ],
      "metadata": {
        "id": "lyuJO3dBOPU-"
      }
    },
    {
      "cell_type": "code",
      "source": [
        "knn(train_dataset,test_data,3)"
      ],
      "metadata": {
        "id": "-u81f-ABPTHs",
        "outputId": "696c7a07-8143-4fdb-bb74-6ac1083a72e5",
        "colab": {
          "base_uri": "https://localhost:8080/"
        }
      },
      "execution_count": 82,
      "outputs": [
        {
          "output_type": "execute_result",
          "data": {
            "text/plain": [
              "[0.0, 0.0, 0.0, 0.0, 0.0, 1.0, 1.0, 1.0, 1.0, 1.0, 2.0, 2.0, 2.0, 2.0, 2.0]"
            ]
          },
          "metadata": {},
          "execution_count": 82
        }
      ]
    },
    {
      "cell_type": "code",
      "source": [
        "knn(train_dataset[:10],test_data,3)"
      ],
      "metadata": {
        "id": "vQqpdh8zQPH6",
        "outputId": "d253aa5c-1798-43c3-9c59-98e438b1b265",
        "colab": {
          "base_uri": "https://localhost:8080/"
        }
      },
      "execution_count": 83,
      "outputs": [
        {
          "output_type": "execute_result",
          "data": {
            "text/plain": [
              "[0.0, 0.0, 0.0, 0.0, 0.0, 0.0, 0.0, 0.0, 0.0, 0.0, 0.0, 0.0, 0.0, 0.0, 0.0]"
            ]
          },
          "metadata": {},
          "execution_count": 83
        }
      ]
    },
    {
      "cell_type": "code",
      "source": [
        "knn(train_dataset,test_data,5)"
      ],
      "metadata": {
        "id": "er8YD_LoQc8a",
        "outputId": "6c9dea2d-0d58-4fc4-ae2a-9fd3ec16e60b",
        "colab": {
          "base_uri": "https://localhost:8080/"
        }
      },
      "execution_count": 84,
      "outputs": [
        {
          "output_type": "execute_result",
          "data": {
            "text/plain": [
              "[0.0, 0.0, 0.0, 0.0, 0.0, 1.0, 1.0, 1.0, 1.0, 1.0, 2.0, 2.0, 2.0, 2.0, 2.0]"
            ]
          },
          "metadata": {},
          "execution_count": 84
        }
      ]
    },
    {
      "cell_type": "markdown",
      "source": [
        "Try with other data"
      ],
      "metadata": {
        "id": "wFvxObpDQk6o"
      }
    },
    {
      "cell_type": "code",
      "source": [
        "X = [[1,2,'A'], [3,4,'B'], [5,6,'A'], [7,8,'B']]\n",
        "Y = [[2.5,3.5],[1.5,2.5]]"
      ],
      "metadata": {
        "id": "q7Mj2hyPQnmN"
      },
      "execution_count": 85,
      "outputs": []
    },
    {
      "cell_type": "code",
      "source": [
        "knn(X,Y,3)"
      ],
      "metadata": {
        "id": "TJwqmVpIRCBn",
        "outputId": "20e8d84d-b89a-4823-ec36-743f3d43ad34",
        "colab": {
          "base_uri": "https://localhost:8080/"
        }
      },
      "execution_count": 86,
      "outputs": [
        {
          "output_type": "execute_result",
          "data": {
            "text/plain": [
              "['A', 'A']"
            ]
          },
          "metadata": {},
          "execution_count": 86
        }
      ]
    }
  ]
}