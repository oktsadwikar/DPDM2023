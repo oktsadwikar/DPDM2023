{
  "nbformat": 4,
  "nbformat_minor": 0,
  "metadata": {
    "colab": {
      "provenance": [],
      "authorship_tag": "ABX9TyM7qR+Zg3zNSo00EnpWuuN2",
      "include_colab_link": true
    },
    "kernelspec": {
      "name": "python3",
      "display_name": "Python 3"
    },
    "language_info": {
      "name": "python"
    }
  },
  "cells": [
    {
      "cell_type": "markdown",
      "metadata": {
        "id": "view-in-github",
        "colab_type": "text"
      },
      "source": [
        "<a href=\"https://colab.research.google.com/github/oktsadwikar/DPDM2023/blob/main/DBSCAN.ipynb\" target=\"_parent\"><img src=\"https://colab.research.google.com/assets/colab-badge.svg\" alt=\"Open In Colab\"/></a>"
      ]
    },
    {
      "cell_type": "markdown",
      "source": [
        "# **APPLICATION OF DBSCAN**\n",
        "\n",
        "Using Aggregation Benchmark Dataset"
      ],
      "metadata": {
        "id": "AFeQpbwcVrZX"
      }
    },
    {
      "cell_type": "code",
      "execution_count": 1,
      "metadata": {
        "colab": {
          "base_uri": "https://localhost:8080/"
        },
        "id": "iO28gsWIVg3X",
        "outputId": "aee5297b-e670-4d9d-a460-0de9dd1c7f12"
      },
      "outputs": [
        {
          "output_type": "stream",
          "name": "stdout",
          "text": [
            "Mounted at /content/drive\n"
          ]
        }
      ],
      "source": [
        "from google.colab import drive\n",
        "drive.mount('/content/drive')"
      ]
    },
    {
      "cell_type": "markdown",
      "source": [
        "## **Data Preprocessing**"
      ],
      "metadata": {
        "id": "BPeUDwQDXAKe"
      }
    },
    {
      "cell_type": "code",
      "source": [
        "import pandas as pd\n",
        "import numpy as np"
      ],
      "metadata": {
        "id": "uhxK8TlvXKH3"
      },
      "execution_count": 2,
      "outputs": []
    },
    {
      "cell_type": "markdown",
      "source": [
        "### Import the dataset"
      ],
      "metadata": {
        "id": "snrN2lQPXeWl"
      }
    },
    {
      "cell_type": "code",
      "source": [
        "col_name = ['a1','a2']"
      ],
      "metadata": {
        "id": "q78_LnsFaIdl"
      },
      "execution_count": 11,
      "outputs": []
    },
    {
      "cell_type": "code",
      "source": [
        "data = pd.read_csv('/content/drive/MyDrive/DPDM23_DATA/Aggregation.csv',header = None,names=col_name)"
      ],
      "metadata": {
        "id": "yXDdy30iXiLu"
      },
      "execution_count": 12,
      "outputs": []
    },
    {
      "cell_type": "code",
      "source": [
        "data"
      ],
      "metadata": {
        "colab": {
          "base_uri": "https://localhost:8080/",
          "height": 423
        },
        "id": "RBaZ40nkX8PD",
        "outputId": "e0866a66-ff48-41c3-b43a-c26066e6941a"
      },
      "execution_count": 13,
      "outputs": [
        {
          "output_type": "execute_result",
          "data": {
            "text/plain": [
              "           a1        a2\n",
              "0    0.367470  0.981618\n",
              "1    0.347892  0.941176\n",
              "2    0.334337  0.970588\n",
              "3    0.325301  0.987132\n",
              "4    0.313253  0.959559\n",
              "..        ...       ...\n",
              "783  0.134036  0.051471\n",
              "784  0.141566  0.029412\n",
              "785  0.155120  0.047794\n",
              "786  0.143072  0.058824\n",
              "787  0.144578  0.075368\n",
              "\n",
              "[788 rows x 2 columns]"
            ],
            "text/html": [
              "\n",
              "  <div id=\"df-9e992c4c-8812-44ab-b12d-a023eda1bbcf\" class=\"colab-df-container\">\n",
              "    <div>\n",
              "<style scoped>\n",
              "    .dataframe tbody tr th:only-of-type {\n",
              "        vertical-align: middle;\n",
              "    }\n",
              "\n",
              "    .dataframe tbody tr th {\n",
              "        vertical-align: top;\n",
              "    }\n",
              "\n",
              "    .dataframe thead th {\n",
              "        text-align: right;\n",
              "    }\n",
              "</style>\n",
              "<table border=\"1\" class=\"dataframe\">\n",
              "  <thead>\n",
              "    <tr style=\"text-align: right;\">\n",
              "      <th></th>\n",
              "      <th>a1</th>\n",
              "      <th>a2</th>\n",
              "    </tr>\n",
              "  </thead>\n",
              "  <tbody>\n",
              "    <tr>\n",
              "      <th>0</th>\n",
              "      <td>0.367470</td>\n",
              "      <td>0.981618</td>\n",
              "    </tr>\n",
              "    <tr>\n",
              "      <th>1</th>\n",
              "      <td>0.347892</td>\n",
              "      <td>0.941176</td>\n",
              "    </tr>\n",
              "    <tr>\n",
              "      <th>2</th>\n",
              "      <td>0.334337</td>\n",
              "      <td>0.970588</td>\n",
              "    </tr>\n",
              "    <tr>\n",
              "      <th>3</th>\n",
              "      <td>0.325301</td>\n",
              "      <td>0.987132</td>\n",
              "    </tr>\n",
              "    <tr>\n",
              "      <th>4</th>\n",
              "      <td>0.313253</td>\n",
              "      <td>0.959559</td>\n",
              "    </tr>\n",
              "    <tr>\n",
              "      <th>...</th>\n",
              "      <td>...</td>\n",
              "      <td>...</td>\n",
              "    </tr>\n",
              "    <tr>\n",
              "      <th>783</th>\n",
              "      <td>0.134036</td>\n",
              "      <td>0.051471</td>\n",
              "    </tr>\n",
              "    <tr>\n",
              "      <th>784</th>\n",
              "      <td>0.141566</td>\n",
              "      <td>0.029412</td>\n",
              "    </tr>\n",
              "    <tr>\n",
              "      <th>785</th>\n",
              "      <td>0.155120</td>\n",
              "      <td>0.047794</td>\n",
              "    </tr>\n",
              "    <tr>\n",
              "      <th>786</th>\n",
              "      <td>0.143072</td>\n",
              "      <td>0.058824</td>\n",
              "    </tr>\n",
              "    <tr>\n",
              "      <th>787</th>\n",
              "      <td>0.144578</td>\n",
              "      <td>0.075368</td>\n",
              "    </tr>\n",
              "  </tbody>\n",
              "</table>\n",
              "<p>788 rows × 2 columns</p>\n",
              "</div>\n",
              "    <div class=\"colab-df-buttons\">\n",
              "\n",
              "  <div class=\"colab-df-container\">\n",
              "    <button class=\"colab-df-convert\" onclick=\"convertToInteractive('df-9e992c4c-8812-44ab-b12d-a023eda1bbcf')\"\n",
              "            title=\"Convert this dataframe to an interactive table.\"\n",
              "            style=\"display:none;\">\n",
              "\n",
              "  <svg xmlns=\"http://www.w3.org/2000/svg\" height=\"24px\" viewBox=\"0 -960 960 960\">\n",
              "    <path d=\"M120-120v-720h720v720H120Zm60-500h600v-160H180v160Zm220 220h160v-160H400v160Zm0 220h160v-160H400v160ZM180-400h160v-160H180v160Zm440 0h160v-160H620v160ZM180-180h160v-160H180v160Zm440 0h160v-160H620v160Z\"/>\n",
              "  </svg>\n",
              "    </button>\n",
              "\n",
              "  <style>\n",
              "    .colab-df-container {\n",
              "      display:flex;\n",
              "      gap: 12px;\n",
              "    }\n",
              "\n",
              "    .colab-df-convert {\n",
              "      background-color: #E8F0FE;\n",
              "      border: none;\n",
              "      border-radius: 50%;\n",
              "      cursor: pointer;\n",
              "      display: none;\n",
              "      fill: #1967D2;\n",
              "      height: 32px;\n",
              "      padding: 0 0 0 0;\n",
              "      width: 32px;\n",
              "    }\n",
              "\n",
              "    .colab-df-convert:hover {\n",
              "      background-color: #E2EBFA;\n",
              "      box-shadow: 0px 1px 2px rgba(60, 64, 67, 0.3), 0px 1px 3px 1px rgba(60, 64, 67, 0.15);\n",
              "      fill: #174EA6;\n",
              "    }\n",
              "\n",
              "    .colab-df-buttons div {\n",
              "      margin-bottom: 4px;\n",
              "    }\n",
              "\n",
              "    [theme=dark] .colab-df-convert {\n",
              "      background-color: #3B4455;\n",
              "      fill: #D2E3FC;\n",
              "    }\n",
              "\n",
              "    [theme=dark] .colab-df-convert:hover {\n",
              "      background-color: #434B5C;\n",
              "      box-shadow: 0px 1px 3px 1px rgba(0, 0, 0, 0.15);\n",
              "      filter: drop-shadow(0px 1px 2px rgba(0, 0, 0, 0.3));\n",
              "      fill: #FFFFFF;\n",
              "    }\n",
              "  </style>\n",
              "\n",
              "    <script>\n",
              "      const buttonEl =\n",
              "        document.querySelector('#df-9e992c4c-8812-44ab-b12d-a023eda1bbcf button.colab-df-convert');\n",
              "      buttonEl.style.display =\n",
              "        google.colab.kernel.accessAllowed ? 'block' : 'none';\n",
              "\n",
              "      async function convertToInteractive(key) {\n",
              "        const element = document.querySelector('#df-9e992c4c-8812-44ab-b12d-a023eda1bbcf');\n",
              "        const dataTable =\n",
              "          await google.colab.kernel.invokeFunction('convertToInteractive',\n",
              "                                                    [key], {});\n",
              "        if (!dataTable) return;\n",
              "\n",
              "        const docLinkHtml = 'Like what you see? Visit the ' +\n",
              "          '<a target=\"_blank\" href=https://colab.research.google.com/notebooks/data_table.ipynb>data table notebook</a>'\n",
              "          + ' to learn more about interactive tables.';\n",
              "        element.innerHTML = '';\n",
              "        dataTable['output_type'] = 'display_data';\n",
              "        await google.colab.output.renderOutput(dataTable, element);\n",
              "        const docLink = document.createElement('div');\n",
              "        docLink.innerHTML = docLinkHtml;\n",
              "        element.appendChild(docLink);\n",
              "      }\n",
              "    </script>\n",
              "  </div>\n",
              "\n",
              "\n",
              "<div id=\"df-a4be2c19-c624-4b35-b7de-cb218edba09c\">\n",
              "  <button class=\"colab-df-quickchart\" onclick=\"quickchart('df-a4be2c19-c624-4b35-b7de-cb218edba09c')\"\n",
              "            title=\"Suggest charts.\"\n",
              "            style=\"display:none;\">\n",
              "\n",
              "<svg xmlns=\"http://www.w3.org/2000/svg\" height=\"24px\"viewBox=\"0 0 24 24\"\n",
              "     width=\"24px\">\n",
              "    <g>\n",
              "        <path d=\"M19 3H5c-1.1 0-2 .9-2 2v14c0 1.1.9 2 2 2h14c1.1 0 2-.9 2-2V5c0-1.1-.9-2-2-2zM9 17H7v-7h2v7zm4 0h-2V7h2v10zm4 0h-2v-4h2v4z\"/>\n",
              "    </g>\n",
              "</svg>\n",
              "  </button>\n",
              "\n",
              "<style>\n",
              "  .colab-df-quickchart {\n",
              "      --bg-color: #E8F0FE;\n",
              "      --fill-color: #1967D2;\n",
              "      --hover-bg-color: #E2EBFA;\n",
              "      --hover-fill-color: #174EA6;\n",
              "      --disabled-fill-color: #AAA;\n",
              "      --disabled-bg-color: #DDD;\n",
              "  }\n",
              "\n",
              "  [theme=dark] .colab-df-quickchart {\n",
              "      --bg-color: #3B4455;\n",
              "      --fill-color: #D2E3FC;\n",
              "      --hover-bg-color: #434B5C;\n",
              "      --hover-fill-color: #FFFFFF;\n",
              "      --disabled-bg-color: #3B4455;\n",
              "      --disabled-fill-color: #666;\n",
              "  }\n",
              "\n",
              "  .colab-df-quickchart {\n",
              "    background-color: var(--bg-color);\n",
              "    border: none;\n",
              "    border-radius: 50%;\n",
              "    cursor: pointer;\n",
              "    display: none;\n",
              "    fill: var(--fill-color);\n",
              "    height: 32px;\n",
              "    padding: 0;\n",
              "    width: 32px;\n",
              "  }\n",
              "\n",
              "  .colab-df-quickchart:hover {\n",
              "    background-color: var(--hover-bg-color);\n",
              "    box-shadow: 0 1px 2px rgba(60, 64, 67, 0.3), 0 1px 3px 1px rgba(60, 64, 67, 0.15);\n",
              "    fill: var(--button-hover-fill-color);\n",
              "  }\n",
              "\n",
              "  .colab-df-quickchart-complete:disabled,\n",
              "  .colab-df-quickchart-complete:disabled:hover {\n",
              "    background-color: var(--disabled-bg-color);\n",
              "    fill: var(--disabled-fill-color);\n",
              "    box-shadow: none;\n",
              "  }\n",
              "\n",
              "  .colab-df-spinner {\n",
              "    border: 2px solid var(--fill-color);\n",
              "    border-color: transparent;\n",
              "    border-bottom-color: var(--fill-color);\n",
              "    animation:\n",
              "      spin 1s steps(1) infinite;\n",
              "  }\n",
              "\n",
              "  @keyframes spin {\n",
              "    0% {\n",
              "      border-color: transparent;\n",
              "      border-bottom-color: var(--fill-color);\n",
              "      border-left-color: var(--fill-color);\n",
              "    }\n",
              "    20% {\n",
              "      border-color: transparent;\n",
              "      border-left-color: var(--fill-color);\n",
              "      border-top-color: var(--fill-color);\n",
              "    }\n",
              "    30% {\n",
              "      border-color: transparent;\n",
              "      border-left-color: var(--fill-color);\n",
              "      border-top-color: var(--fill-color);\n",
              "      border-right-color: var(--fill-color);\n",
              "    }\n",
              "    40% {\n",
              "      border-color: transparent;\n",
              "      border-right-color: var(--fill-color);\n",
              "      border-top-color: var(--fill-color);\n",
              "    }\n",
              "    60% {\n",
              "      border-color: transparent;\n",
              "      border-right-color: var(--fill-color);\n",
              "    }\n",
              "    80% {\n",
              "      border-color: transparent;\n",
              "      border-right-color: var(--fill-color);\n",
              "      border-bottom-color: var(--fill-color);\n",
              "    }\n",
              "    90% {\n",
              "      border-color: transparent;\n",
              "      border-bottom-color: var(--fill-color);\n",
              "    }\n",
              "  }\n",
              "</style>\n",
              "\n",
              "  <script>\n",
              "    async function quickchart(key) {\n",
              "      const quickchartButtonEl =\n",
              "        document.querySelector('#' + key + ' button');\n",
              "      quickchartButtonEl.disabled = true;  // To prevent multiple clicks.\n",
              "      quickchartButtonEl.classList.add('colab-df-spinner');\n",
              "      try {\n",
              "        const charts = await google.colab.kernel.invokeFunction(\n",
              "            'suggestCharts', [key], {});\n",
              "      } catch (error) {\n",
              "        console.error('Error during call to suggestCharts:', error);\n",
              "      }\n",
              "      quickchartButtonEl.classList.remove('colab-df-spinner');\n",
              "      quickchartButtonEl.classList.add('colab-df-quickchart-complete');\n",
              "    }\n",
              "    (() => {\n",
              "      let quickchartButtonEl =\n",
              "        document.querySelector('#df-a4be2c19-c624-4b35-b7de-cb218edba09c button');\n",
              "      quickchartButtonEl.style.display =\n",
              "        google.colab.kernel.accessAllowed ? 'block' : 'none';\n",
              "    })();\n",
              "  </script>\n",
              "</div>\n",
              "    </div>\n",
              "  </div>\n"
            ]
          },
          "metadata": {},
          "execution_count": 13
        }
      ]
    },
    {
      "cell_type": "markdown",
      "source": [
        "### Eyeball the data"
      ],
      "metadata": {
        "id": "bmkDvV5OXsvr"
      }
    },
    {
      "cell_type": "code",
      "source": [
        "data.shape"
      ],
      "metadata": {
        "colab": {
          "base_uri": "https://localhost:8080/"
        },
        "id": "4hhUQYj3X0uD",
        "outputId": "d647674e-225f-43c5-b3fd-bb0b711cf84a"
      },
      "execution_count": 14,
      "outputs": [
        {
          "output_type": "execute_result",
          "data": {
            "text/plain": [
              "(788, 2)"
            ]
          },
          "metadata": {},
          "execution_count": 14
        }
      ]
    },
    {
      "cell_type": "markdown",
      "source": [
        "### Descriptive statistics"
      ],
      "metadata": {
        "id": "m7_ob4vnYyo8"
      }
    },
    {
      "cell_type": "code",
      "source": [
        "data.describe()"
      ],
      "metadata": {
        "colab": {
          "base_uri": "https://localhost:8080/",
          "height": 300
        },
        "id": "fviCaKdDYx8z",
        "outputId": "14b3b5f0-58ef-43cf-fcc4-f2d8747470d5"
      },
      "execution_count": 15,
      "outputs": [
        {
          "output_type": "execute_result",
          "data": {
            "text/plain": [
              "               a1          a2\n",
              "count  788.000000  788.000000\n",
              "mean     0.488458    0.449330\n",
              "std      0.298857    0.297415\n",
              "min      0.000000    0.000000\n",
              "25%      0.234940    0.187040\n",
              "50%      0.448042    0.359375\n",
              "75%      0.823795    0.735754\n",
              "max      1.000000    1.000000"
            ],
            "text/html": [
              "\n",
              "  <div id=\"df-f2d7fa55-8882-444c-9de8-0997a0d2910f\" class=\"colab-df-container\">\n",
              "    <div>\n",
              "<style scoped>\n",
              "    .dataframe tbody tr th:only-of-type {\n",
              "        vertical-align: middle;\n",
              "    }\n",
              "\n",
              "    .dataframe tbody tr th {\n",
              "        vertical-align: top;\n",
              "    }\n",
              "\n",
              "    .dataframe thead th {\n",
              "        text-align: right;\n",
              "    }\n",
              "</style>\n",
              "<table border=\"1\" class=\"dataframe\">\n",
              "  <thead>\n",
              "    <tr style=\"text-align: right;\">\n",
              "      <th></th>\n",
              "      <th>a1</th>\n",
              "      <th>a2</th>\n",
              "    </tr>\n",
              "  </thead>\n",
              "  <tbody>\n",
              "    <tr>\n",
              "      <th>count</th>\n",
              "      <td>788.000000</td>\n",
              "      <td>788.000000</td>\n",
              "    </tr>\n",
              "    <tr>\n",
              "      <th>mean</th>\n",
              "      <td>0.488458</td>\n",
              "      <td>0.449330</td>\n",
              "    </tr>\n",
              "    <tr>\n",
              "      <th>std</th>\n",
              "      <td>0.298857</td>\n",
              "      <td>0.297415</td>\n",
              "    </tr>\n",
              "    <tr>\n",
              "      <th>min</th>\n",
              "      <td>0.000000</td>\n",
              "      <td>0.000000</td>\n",
              "    </tr>\n",
              "    <tr>\n",
              "      <th>25%</th>\n",
              "      <td>0.234940</td>\n",
              "      <td>0.187040</td>\n",
              "    </tr>\n",
              "    <tr>\n",
              "      <th>50%</th>\n",
              "      <td>0.448042</td>\n",
              "      <td>0.359375</td>\n",
              "    </tr>\n",
              "    <tr>\n",
              "      <th>75%</th>\n",
              "      <td>0.823795</td>\n",
              "      <td>0.735754</td>\n",
              "    </tr>\n",
              "    <tr>\n",
              "      <th>max</th>\n",
              "      <td>1.000000</td>\n",
              "      <td>1.000000</td>\n",
              "    </tr>\n",
              "  </tbody>\n",
              "</table>\n",
              "</div>\n",
              "    <div class=\"colab-df-buttons\">\n",
              "\n",
              "  <div class=\"colab-df-container\">\n",
              "    <button class=\"colab-df-convert\" onclick=\"convertToInteractive('df-f2d7fa55-8882-444c-9de8-0997a0d2910f')\"\n",
              "            title=\"Convert this dataframe to an interactive table.\"\n",
              "            style=\"display:none;\">\n",
              "\n",
              "  <svg xmlns=\"http://www.w3.org/2000/svg\" height=\"24px\" viewBox=\"0 -960 960 960\">\n",
              "    <path d=\"M120-120v-720h720v720H120Zm60-500h600v-160H180v160Zm220 220h160v-160H400v160Zm0 220h160v-160H400v160ZM180-400h160v-160H180v160Zm440 0h160v-160H620v160ZM180-180h160v-160H180v160Zm440 0h160v-160H620v160Z\"/>\n",
              "  </svg>\n",
              "    </button>\n",
              "\n",
              "  <style>\n",
              "    .colab-df-container {\n",
              "      display:flex;\n",
              "      gap: 12px;\n",
              "    }\n",
              "\n",
              "    .colab-df-convert {\n",
              "      background-color: #E8F0FE;\n",
              "      border: none;\n",
              "      border-radius: 50%;\n",
              "      cursor: pointer;\n",
              "      display: none;\n",
              "      fill: #1967D2;\n",
              "      height: 32px;\n",
              "      padding: 0 0 0 0;\n",
              "      width: 32px;\n",
              "    }\n",
              "\n",
              "    .colab-df-convert:hover {\n",
              "      background-color: #E2EBFA;\n",
              "      box-shadow: 0px 1px 2px rgba(60, 64, 67, 0.3), 0px 1px 3px 1px rgba(60, 64, 67, 0.15);\n",
              "      fill: #174EA6;\n",
              "    }\n",
              "\n",
              "    .colab-df-buttons div {\n",
              "      margin-bottom: 4px;\n",
              "    }\n",
              "\n",
              "    [theme=dark] .colab-df-convert {\n",
              "      background-color: #3B4455;\n",
              "      fill: #D2E3FC;\n",
              "    }\n",
              "\n",
              "    [theme=dark] .colab-df-convert:hover {\n",
              "      background-color: #434B5C;\n",
              "      box-shadow: 0px 1px 3px 1px rgba(0, 0, 0, 0.15);\n",
              "      filter: drop-shadow(0px 1px 2px rgba(0, 0, 0, 0.3));\n",
              "      fill: #FFFFFF;\n",
              "    }\n",
              "  </style>\n",
              "\n",
              "    <script>\n",
              "      const buttonEl =\n",
              "        document.querySelector('#df-f2d7fa55-8882-444c-9de8-0997a0d2910f button.colab-df-convert');\n",
              "      buttonEl.style.display =\n",
              "        google.colab.kernel.accessAllowed ? 'block' : 'none';\n",
              "\n",
              "      async function convertToInteractive(key) {\n",
              "        const element = document.querySelector('#df-f2d7fa55-8882-444c-9de8-0997a0d2910f');\n",
              "        const dataTable =\n",
              "          await google.colab.kernel.invokeFunction('convertToInteractive',\n",
              "                                                    [key], {});\n",
              "        if (!dataTable) return;\n",
              "\n",
              "        const docLinkHtml = 'Like what you see? Visit the ' +\n",
              "          '<a target=\"_blank\" href=https://colab.research.google.com/notebooks/data_table.ipynb>data table notebook</a>'\n",
              "          + ' to learn more about interactive tables.';\n",
              "        element.innerHTML = '';\n",
              "        dataTable['output_type'] = 'display_data';\n",
              "        await google.colab.output.renderOutput(dataTable, element);\n",
              "        const docLink = document.createElement('div');\n",
              "        docLink.innerHTML = docLinkHtml;\n",
              "        element.appendChild(docLink);\n",
              "      }\n",
              "    </script>\n",
              "  </div>\n",
              "\n",
              "\n",
              "<div id=\"df-4b7ab8c3-36a1-4abd-864c-5c9605614f51\">\n",
              "  <button class=\"colab-df-quickchart\" onclick=\"quickchart('df-4b7ab8c3-36a1-4abd-864c-5c9605614f51')\"\n",
              "            title=\"Suggest charts.\"\n",
              "            style=\"display:none;\">\n",
              "\n",
              "<svg xmlns=\"http://www.w3.org/2000/svg\" height=\"24px\"viewBox=\"0 0 24 24\"\n",
              "     width=\"24px\">\n",
              "    <g>\n",
              "        <path d=\"M19 3H5c-1.1 0-2 .9-2 2v14c0 1.1.9 2 2 2h14c1.1 0 2-.9 2-2V5c0-1.1-.9-2-2-2zM9 17H7v-7h2v7zm4 0h-2V7h2v10zm4 0h-2v-4h2v4z\"/>\n",
              "    </g>\n",
              "</svg>\n",
              "  </button>\n",
              "\n",
              "<style>\n",
              "  .colab-df-quickchart {\n",
              "      --bg-color: #E8F0FE;\n",
              "      --fill-color: #1967D2;\n",
              "      --hover-bg-color: #E2EBFA;\n",
              "      --hover-fill-color: #174EA6;\n",
              "      --disabled-fill-color: #AAA;\n",
              "      --disabled-bg-color: #DDD;\n",
              "  }\n",
              "\n",
              "  [theme=dark] .colab-df-quickchart {\n",
              "      --bg-color: #3B4455;\n",
              "      --fill-color: #D2E3FC;\n",
              "      --hover-bg-color: #434B5C;\n",
              "      --hover-fill-color: #FFFFFF;\n",
              "      --disabled-bg-color: #3B4455;\n",
              "      --disabled-fill-color: #666;\n",
              "  }\n",
              "\n",
              "  .colab-df-quickchart {\n",
              "    background-color: var(--bg-color);\n",
              "    border: none;\n",
              "    border-radius: 50%;\n",
              "    cursor: pointer;\n",
              "    display: none;\n",
              "    fill: var(--fill-color);\n",
              "    height: 32px;\n",
              "    padding: 0;\n",
              "    width: 32px;\n",
              "  }\n",
              "\n",
              "  .colab-df-quickchart:hover {\n",
              "    background-color: var(--hover-bg-color);\n",
              "    box-shadow: 0 1px 2px rgba(60, 64, 67, 0.3), 0 1px 3px 1px rgba(60, 64, 67, 0.15);\n",
              "    fill: var(--button-hover-fill-color);\n",
              "  }\n",
              "\n",
              "  .colab-df-quickchart-complete:disabled,\n",
              "  .colab-df-quickchart-complete:disabled:hover {\n",
              "    background-color: var(--disabled-bg-color);\n",
              "    fill: var(--disabled-fill-color);\n",
              "    box-shadow: none;\n",
              "  }\n",
              "\n",
              "  .colab-df-spinner {\n",
              "    border: 2px solid var(--fill-color);\n",
              "    border-color: transparent;\n",
              "    border-bottom-color: var(--fill-color);\n",
              "    animation:\n",
              "      spin 1s steps(1) infinite;\n",
              "  }\n",
              "\n",
              "  @keyframes spin {\n",
              "    0% {\n",
              "      border-color: transparent;\n",
              "      border-bottom-color: var(--fill-color);\n",
              "      border-left-color: var(--fill-color);\n",
              "    }\n",
              "    20% {\n",
              "      border-color: transparent;\n",
              "      border-left-color: var(--fill-color);\n",
              "      border-top-color: var(--fill-color);\n",
              "    }\n",
              "    30% {\n",
              "      border-color: transparent;\n",
              "      border-left-color: var(--fill-color);\n",
              "      border-top-color: var(--fill-color);\n",
              "      border-right-color: var(--fill-color);\n",
              "    }\n",
              "    40% {\n",
              "      border-color: transparent;\n",
              "      border-right-color: var(--fill-color);\n",
              "      border-top-color: var(--fill-color);\n",
              "    }\n",
              "    60% {\n",
              "      border-color: transparent;\n",
              "      border-right-color: var(--fill-color);\n",
              "    }\n",
              "    80% {\n",
              "      border-color: transparent;\n",
              "      border-right-color: var(--fill-color);\n",
              "      border-bottom-color: var(--fill-color);\n",
              "    }\n",
              "    90% {\n",
              "      border-color: transparent;\n",
              "      border-bottom-color: var(--fill-color);\n",
              "    }\n",
              "  }\n",
              "</style>\n",
              "\n",
              "  <script>\n",
              "    async function quickchart(key) {\n",
              "      const quickchartButtonEl =\n",
              "        document.querySelector('#' + key + ' button');\n",
              "      quickchartButtonEl.disabled = true;  // To prevent multiple clicks.\n",
              "      quickchartButtonEl.classList.add('colab-df-spinner');\n",
              "      try {\n",
              "        const charts = await google.colab.kernel.invokeFunction(\n",
              "            'suggestCharts', [key], {});\n",
              "      } catch (error) {\n",
              "        console.error('Error during call to suggestCharts:', error);\n",
              "      }\n",
              "      quickchartButtonEl.classList.remove('colab-df-spinner');\n",
              "      quickchartButtonEl.classList.add('colab-df-quickchart-complete');\n",
              "    }\n",
              "    (() => {\n",
              "      let quickchartButtonEl =\n",
              "        document.querySelector('#df-4b7ab8c3-36a1-4abd-864c-5c9605614f51 button');\n",
              "      quickchartButtonEl.style.display =\n",
              "        google.colab.kernel.accessAllowed ? 'block' : 'none';\n",
              "    })();\n",
              "  </script>\n",
              "</div>\n",
              "    </div>\n",
              "  </div>\n"
            ]
          },
          "metadata": {},
          "execution_count": 15
        }
      ]
    },
    {
      "cell_type": "markdown",
      "source": [
        "### Check Missing Value"
      ],
      "metadata": {
        "id": "1gFwRhGVYrm3"
      }
    },
    {
      "cell_type": "code",
      "source": [
        "data.isnull().any()"
      ],
      "metadata": {
        "colab": {
          "base_uri": "https://localhost:8080/"
        },
        "id": "s7CQAUv8Yu5_",
        "outputId": "66cbfa4d-d7c2-4389-8a48-0cadf4883f9e"
      },
      "execution_count": 16,
      "outputs": [
        {
          "output_type": "execute_result",
          "data": {
            "text/plain": [
              "a1    False\n",
              "a2    False\n",
              "dtype: bool"
            ]
          },
          "metadata": {},
          "execution_count": 16
        }
      ]
    },
    {
      "cell_type": "markdown",
      "source": [
        "### Plotting the data"
      ],
      "metadata": {
        "id": "8Wlgn9LEZMjL"
      }
    },
    {
      "cell_type": "code",
      "source": [
        "import matplotlib.pyplot as plt"
      ],
      "metadata": {
        "id": "eRDTYqDQZqXC"
      },
      "execution_count": 10,
      "outputs": []
    },
    {
      "cell_type": "code",
      "source": [
        "plt.scatter(data['a1'], data['a2'])"
      ],
      "metadata": {
        "colab": {
          "base_uri": "https://localhost:8080/",
          "height": 447
        },
        "id": "31mdoddQZyp7",
        "outputId": "5a1a9a27-5895-4377-e9a8-f98f847b5707"
      },
      "execution_count": 19,
      "outputs": [
        {
          "output_type": "execute_result",
          "data": {
            "text/plain": [
              "<matplotlib.collections.PathCollection at 0x7a543d1c44c0>"
            ]
          },
          "metadata": {},
          "execution_count": 19
        },
        {
          "output_type": "display_data",
          "data": {
            "text/plain": [
              "<Figure size 640x480 with 1 Axes>"
            ],
            "image/png": "[encoded data removed]"
          },
          "metadata": {}
        }
      ]
    },
    {
      "cell_type": "markdown",
      "source": [
        "## DBSCAN"
      ],
      "metadata": {
        "id": "eoKCPLGcab3Z"
      }
    },
    {
      "cell_type": "markdown",
      "source": [
        "### Find suitable parameter Eps and MinPts\n",
        "\n",
        "MinPts >= Dimensions + 1 or sometimes MinPts = 2*Dimensions\n",
        "\n",
        "Eps -> To determine the optimal ε parameter, I will compute the k-nearest neighbor (kNN) distances (average distance of every data point to its k-nearest neighbors) of an input dataset using the k-nearest neighbor method (unsupervised nearest neighbors learning)."
      ],
      "metadata": {
        "id": "tzcLEJPLaguo"
      }
    },
    {
      "cell_type": "code",
      "source": [
        "from sklearn.neighbors import NearestNeighbors"
      ],
      "metadata": {
        "id": "OlzSNwCnabmb"
      },
      "execution_count": 20,
      "outputs": []
    },
    {
      "cell_type": "code",
      "source": [
        "nbrs = NearestNeighbors(n_neighbors = 5).fit(data)\n",
        "# Find the k-neighbors of a point\n",
        "neigh_dist, neigh_ind = nbrs.kneighbors(data)\n",
        "# sort the neighbor distances (lengths to points) in ascending order\n",
        "# axis = 0 represents sort along first axis i.e. sort along row\n",
        "sort_neigh_dist = np.sort(neigh_dist, axis = 0)"
      ],
      "metadata": {
        "id": "ArUNJ7pWbvGi"
      },
      "execution_count": 21,
      "outputs": []
    },
    {
      "cell_type": "code",
      "source": [
        "k_dist = sort_neigh_dist[:, 4]\n",
        "plt.plot(k_dist)\n",
        "plt.ylabel(\"k-NN distance\")\n",
        "plt.xlabel(\"Sorted observations (4th NN)\")\n",
        "plt.show()"
      ],
      "metadata": {
        "colab": {
          "base_uri": "https://localhost:8080/",
          "height": 449
        },
        "id": "qTNGAcNIb5_D",
        "outputId": "fe3c57c5-41b9-47ba-baf3-82b8296a368b"
      },
      "execution_count": 22,
      "outputs": [
        {
          "output_type": "display_data",
          "data": {
            "text/plain": [
              "<Figure size 640x480 with 1 Axes>"
            ],
            "image/png": "[encoded data removed]"
          },
          "metadata": {}
        }
      ]
    },
    {
      "cell_type": "code",
      "source": [
        "!pip install --upgrade kneed"
      ],
      "metadata": {
        "colab": {
          "base_uri": "https://localhost:8080/"
        },
        "id": "byjuW9Nzc2ay",
        "outputId": "c457ff50-1a8a-44b8-fc54-ae5995a9f18b"
      },
      "execution_count": 24,
      "outputs": [
        {
          "output_type": "stream",
          "name": "stdout",
          "text": [
            "Collecting kneed\n",
            "  Downloading kneed-0.8.5-py3-none-any.whl (10 kB)\n",
            "Requirement already satisfied: numpy>=1.14.2 in /usr/local/lib/python3.10/dist-packages (from kneed) (1.23.5)\n",
            "Requirement already satisfied: scipy>=1.0.0 in /usr/local/lib/python3.10/dist-packages (from kneed) (1.11.3)\n",
            "Installing collected packages: kneed\n",
            "Successfully installed kneed-0.8.5\n"
          ]
        }
      ]
    },
    {
      "cell_type": "code",
      "source": [
        "from kneed import KneeLocator\n",
        "kneedle = KneeLocator(x = range(1, len(neigh_dist)+1), y = k_dist, S = 1.0,\n",
        "                      curve = \"concave\", direction = \"increasing\", online=True)\n",
        "\n",
        "# get the estimate of knee point\n",
        "print(kneedle.knee_y)"
      ],
      "metadata": {
        "colab": {
          "base_uri": "https://localhost:8080/"
        },
        "id": "5a5cNIc4cF68",
        "outputId": "7015717c-4505-4b6f-b3a6-802009f81d55"
      },
      "execution_count": 29,
      "outputs": [
        {
          "output_type": "stream",
          "name": "stdout",
          "text": [
            "0.04712544875174265\n"
          ]
        }
      ]
    },
    {
      "cell_type": "code",
      "source": [
        "kneedle.plot_knee()\n",
        "plt.show()"
      ],
      "metadata": {
        "colab": {
          "base_uri": "https://localhost:8080/",
          "height": 545
        },
        "id": "HmQH-AWMc_Gv",
        "outputId": "e3e80118-ef3a-471c-9361-7c9a67b28a1a"
      },
      "execution_count": 30,
      "outputs": [
        {
          "output_type": "display_data",
          "data": {
            "text/plain": [
              "<Figure size 600x600 with 1 Axes>"
            ],
            "image/png": "[encoded data removed]"
          },
          "metadata": {}
        }
      ]
    },
    {
      "cell_type": "markdown",
      "source": [
        "Then, we use eps = 0.04712544875174265 and MinPts = 4"
      ],
      "metadata": {
        "id": "Lc25Cy-6d8H2"
      }
    },
    {
      "cell_type": "markdown",
      "source": [
        "### Compute DBSCAN Clustering"
      ],
      "metadata": {
        "id": "dLTWxEileHft"
      }
    },
    {
      "cell_type": "code",
      "source": [
        "from sklearn.cluster import DBSCAN\n",
        "clusters = DBSCAN(eps = 0.047, min_samples = 4).fit(data)\n",
        "# get cluster labels\n",
        "clusters.labels_"
      ],
      "metadata": {
        "colab": {
          "base_uri": "https://localhost:8080/"
        },
        "id": "EzMhqhIadtD0",
        "outputId": "3f334039-8c33-4778-b615-e45033da865c"
      },
      "execution_count": 33,
      "outputs": [
        {
          "output_type": "execute_result",
          "data": {
            "text/plain": [
              "array([ 0,  0,  0,  0,  0,  0,  0,  0,  0,  0,  0,  0,  0,  0,  0,  0,  0,\n",
              "        0,  0,  0,  0,  0,  0,  0,  0,  0,  0,  0,  0,  0,  0,  0,  0,  0,\n",
              "        0,  0,  0,  0,  0,  0,  0,  0,  0,  0,  0,  0,  0,  0,  0,  0,  0,\n",
              "        0,  0,  0,  0,  0,  0,  0,  0,  0,  0,  0,  0,  0,  0,  0,  0,  0,\n",
              "        0,  0,  0,  0,  0,  0,  0,  0,  0,  0,  0,  0,  0,  0,  0,  0,  0,\n",
              "        0,  0,  0,  0,  0,  0,  0,  0,  0,  0,  0,  0,  0,  0,  0,  0,  0,\n",
              "        0,  0,  0,  0,  0,  0,  0,  0,  0,  0,  0,  0,  0,  0,  0,  0,  0,\n",
              "        0,  0,  0,  0,  0,  0,  0,  0,  0,  0,  0,  0,  0,  0,  0,  0,  0,\n",
              "        0,  0,  0,  0,  0,  0,  0,  0,  0,  0,  0,  0,  0,  0,  0,  0,  0,\n",
              "        0,  0,  0,  0,  0,  0,  0,  0,  0,  0,  0,  0,  0, -1,  0,  0,  0,\n",
              "        1,  1,  1,  1,  1,  1,  1,  1,  1,  1,  1,  1,  1,  1,  1,  1,  1,\n",
              "        1,  1,  1,  1,  1,  1,  1,  1,  1,  1,  1,  1,  1,  1,  1,  1,  1,\n",
              "        1,  1,  1,  1,  1,  1,  1,  1,  1,  1,  1,  1,  1,  1,  1,  1,  1,\n",
              "        1,  1,  1,  1,  1,  1,  1,  1,  1,  1,  1,  1,  1,  1,  1,  1,  1,\n",
              "        1,  1,  1,  1,  1,  1,  1,  1,  1,  1,  1,  1,  1,  1,  1,  1,  1,\n",
              "        1,  1,  1,  1,  1,  1,  1,  1,  1,  1,  1,  1,  1,  1,  1,  1,  1,\n",
              "        1,  1,  1,  1,  1,  1,  1,  1,  1,  1,  1,  1,  1,  1,  1,  1,  1,\n",
              "        1,  1,  1,  1,  1,  1,  1,  1,  1,  1,  1,  1,  1,  1,  1,  1,  1,\n",
              "        1,  1,  1,  1,  1,  1,  1,  1,  1,  1,  1,  1,  1,  1,  1,  1,  1,\n",
              "        1,  1,  1,  1,  1,  1,  1,  1,  1,  1,  1,  1,  1,  1,  1,  1,  1,\n",
              "        1,  1,  1,  1,  1,  1,  1,  1,  1,  1,  1,  1,  1,  1,  1,  1,  1,\n",
              "        1,  1,  1,  1,  1,  1,  1,  1,  1,  1,  1,  1,  1,  1,  1,  1,  1,\n",
              "        1,  1,  1,  1,  1,  1,  1,  1,  1,  1,  1,  1,  1,  1,  1,  1,  1,\n",
              "        1,  1,  1,  1,  1,  1,  1,  1,  1,  1,  1,  1,  1,  1,  1,  1,  1,\n",
              "        1,  1,  1,  1,  1,  1,  1,  1,  1,  1,  1,  1,  1,  1,  1,  1,  1,\n",
              "        1,  1,  1,  1,  1,  1,  1,  1,  1,  1,  1,  1,  1,  1,  1,  1,  1,\n",
              "        1,  1,  1,  1,  1,  1,  1,  1,  1,  1,  1,  1,  1,  1,  1,  1,  1,\n",
              "        1,  1,  1,  1,  1,  1,  1,  1,  1,  1,  1,  1,  1,  1,  1,  1,  1,\n",
              "        1,  2,  2,  2,  2,  2,  2,  2,  2,  2,  2,  2,  2,  2,  2,  2,  2,\n",
              "        2,  2,  2,  2,  2,  2,  2,  2,  2,  2,  2,  2,  2,  2,  2,  2,  2,\n",
              "        2,  2,  2,  2,  2,  2,  2,  2,  2,  2,  2,  2,  2,  2,  2,  2,  2,\n",
              "        2,  2,  2,  2,  2,  2,  2,  2,  2,  2,  2,  2,  2,  2,  2,  2,  2,\n",
              "        2,  2,  2,  2,  2,  2,  2,  2,  2,  2,  2,  2,  2,  2,  2,  2,  2,\n",
              "        2,  2,  2,  2,  2,  2,  2,  2,  2,  2,  2,  2,  2,  2,  2,  2,  2,\n",
              "        2,  2,  2,  2,  2,  2,  2,  2,  2,  2,  2,  2,  2,  2,  2,  2,  2,\n",
              "        2,  2,  2,  2,  2,  2,  2,  2,  2,  2,  2,  2,  2,  2,  2,  2,  2,\n",
              "        2,  2,  2,  2,  2,  2,  2,  2,  2,  2,  2,  2,  2,  2,  2,  2,  2,\n",
              "        2,  2,  2,  2,  2,  2,  2,  2,  2,  2,  2,  2,  2,  2,  2,  2,  2,\n",
              "        2,  2,  2,  2,  2,  2,  2,  2,  2,  2,  2,  2,  2,  2,  2,  2,  2,\n",
              "        2,  2,  2,  2,  2,  2,  2,  2,  2,  2,  2,  2,  2,  2,  2,  2,  2,\n",
              "        2,  2,  2,  2,  2,  2,  2,  2,  2,  2,  2,  2,  2,  2,  2,  2,  2,\n",
              "        2,  2,  2,  2,  2,  2,  2,  2,  2,  2,  2,  2,  3,  3,  3,  3,  3,\n",
              "        3,  3,  3,  3,  3,  3,  3,  3,  3,  3,  3,  3,  3,  3,  3,  3,  3,\n",
              "        3,  3,  3,  3,  3,  3,  3,  3,  3,  3,  3,  3,  3,  3,  3,  3,  3,\n",
              "        3,  3,  3,  3,  3,  3,  4,  4,  4,  4,  4,  4,  4,  4,  4,  4,  4,\n",
              "        4,  4,  4,  4,  4,  4,  4,  4,  4,  4,  4,  4,  4,  4,  4,  4,  4,\n",
              "        4,  4,  4,  4,  4,  4])"
            ]
          },
          "metadata": {},
          "execution_count": 33
        }
      ]
    },
    {
      "cell_type": "code",
      "source": [
        "data['cluster']=clusters.labels_\n",
        "data"
      ],
      "metadata": {
        "colab": {
          "base_uri": "https://localhost:8080/",
          "height": 423
        },
        "id": "r16sBjC_fgNp",
        "outputId": "30cdb9a4-e0ed-4ec6-bd7b-3098d15169cb"
      },
      "execution_count": 39,
      "outputs": [
        {
          "output_type": "execute_result",
          "data": {
            "text/plain": [
              "           a1        a2  cluster\n",
              "0    0.367470  0.981618        0\n",
              "1    0.347892  0.941176        0\n",
              "2    0.334337  0.970588        0\n",
              "3    0.325301  0.987132        0\n",
              "4    0.313253  0.959559        0\n",
              "..        ...       ...      ...\n",
              "783  0.134036  0.051471        4\n",
              "784  0.141566  0.029412        4\n",
              "785  0.155120  0.047794        4\n",
              "786  0.143072  0.058824        4\n",
              "787  0.144578  0.075368        4\n",
              "\n",
              "[788 rows x 3 columns]"
            ],
            "text/html": [
              "\n",
              "  <div id=\"df-7e1ed557-e81e-4156-8cd1-819268c23c10\" class=\"colab-df-container\">\n",
              "    <div>\n",
              "<style scoped>\n",
              "    .dataframe tbody tr th:only-of-type {\n",
              "        vertical-align: middle;\n",
              "    }\n",
              "\n",
              "    .dataframe tbody tr th {\n",
              "        vertical-align: top;\n",
              "    }\n",
              "\n",
              "    .dataframe thead th {\n",
              "        text-align: right;\n",
              "    }\n",
              "</style>\n",
              "<table border=\"1\" class=\"dataframe\">\n",
              "  <thead>\n",
              "    <tr style=\"text-align: right;\">\n",
              "      <th></th>\n",
              "      <th>a1</th>\n",
              "      <th>a2</th>\n",
              "      <th>cluster</th>\n",
              "    </tr>\n",
              "  </thead>\n",
              "  <tbody>\n",
              "    <tr>\n",
              "      <th>0</th>\n",
              "      <td>0.367470</td>\n",
              "      <td>0.981618</td>\n",
              "      <td>0</td>\n",
              "    </tr>\n",
              "    <tr>\n",
              "      <th>1</th>\n",
              "      <td>0.347892</td>\n",
              "      <td>0.941176</td>\n",
              "      <td>0</td>\n",
              "    </tr>\n",
              "    <tr>\n",
              "      <th>2</th>\n",
              "      <td>0.334337</td>\n",
              "      <td>0.970588</td>\n",
              "      <td>0</td>\n",
              "    </tr>\n",
              "    <tr>\n",
              "      <th>3</th>\n",
              "      <td>0.325301</td>\n",
              "      <td>0.987132</td>\n",
              "      <td>0</td>\n",
              "    </tr>\n",
              "    <tr>\n",
              "      <th>4</th>\n",
              "      <td>0.313253</td>\n",
              "      <td>0.959559</td>\n",
              "      <td>0</td>\n",
              "    </tr>\n",
              "    <tr>\n",
              "      <th>...</th>\n",
              "      <td>...</td>\n",
              "      <td>...</td>\n",
              "      <td>...</td>\n",
              "    </tr>\n",
              "    <tr>\n",
              "      <th>783</th>\n",
              "      <td>0.134036</td>\n",
              "      <td>0.051471</td>\n",
              "      <td>4</td>\n",
              "    </tr>\n",
              "    <tr>\n",
              "      <th>784</th>\n",
              "      <td>0.141566</td>\n",
              "      <td>0.029412</td>\n",
              "      <td>4</td>\n",
              "    </tr>\n",
              "    <tr>\n",
              "      <th>785</th>\n",
              "      <td>0.155120</td>\n",
              "      <td>0.047794</td>\n",
              "      <td>4</td>\n",
              "    </tr>\n",
              "    <tr>\n",
              "      <th>786</th>\n",
              "      <td>0.143072</td>\n",
              "      <td>0.058824</td>\n",
              "      <td>4</td>\n",
              "    </tr>\n",
              "    <tr>\n",
              "      <th>787</th>\n",
              "      <td>0.144578</td>\n",
              "      <td>0.075368</td>\n",
              "      <td>4</td>\n",
              "    </tr>\n",
              "  </tbody>\n",
              "</table>\n",
              "<p>788 rows × 3 columns</p>\n",
              "</div>\n",
              "    <div class=\"colab-df-buttons\">\n",
              "\n",
              "  <div class=\"colab-df-container\">\n",
              "    <button class=\"colab-df-convert\" onclick=\"convertToInteractive('df-7e1ed557-e81e-4156-8cd1-819268c23c10')\"\n",
              "            title=\"Convert this dataframe to an interactive table.\"\n",
              "            style=\"display:none;\">\n",
              "\n",
              "  <svg xmlns=\"http://www.w3.org/2000/svg\" height=\"24px\" viewBox=\"0 -960 960 960\">\n",
              "    <path d=\"M120-120v-720h720v720H120Zm60-500h600v-160H180v160Zm220 220h160v-160H400v160Zm0 220h160v-160H400v160ZM180-400h160v-160H180v160Zm440 0h160v-160H620v160ZM180-180h160v-160H180v160Zm440 0h160v-160H620v160Z\"/>\n",
              "  </svg>\n",
              "    </button>\n",
              "\n",
              "  <style>\n",
              "    .colab-df-container {\n",
              "      display:flex;\n",
              "      gap: 12px;\n",
              "    }\n",
              "\n",
              "    .colab-df-convert {\n",
              "      background-color: #E8F0FE;\n",
              "      border: none;\n",
              "      border-radius: 50%;\n",
              "      cursor: pointer;\n",
              "      display: none;\n",
              "      fill: #1967D2;\n",
              "      height: 32px;\n",
              "      padding: 0 0 0 0;\n",
              "      width: 32px;\n",
              "    }\n",
              "\n",
              "    .colab-df-convert:hover {\n",
              "      background-color: #E2EBFA;\n",
              "      box-shadow: 0px 1px 2px rgba(60, 64, 67, 0.3), 0px 1px 3px 1px rgba(60, 64, 67, 0.15);\n",
              "      fill: #174EA6;\n",
              "    }\n",
              "\n",
              "    .colab-df-buttons div {\n",
              "      margin-bottom: 4px;\n",
              "    }\n",
              "\n",
              "    [theme=dark] .colab-df-convert {\n",
              "      background-color: #3B4455;\n",
              "      fill: #D2E3FC;\n",
              "    }\n",
              "\n",
              "    [theme=dark] .colab-df-convert:hover {\n",
              "      background-color: #434B5C;\n",
              "      box-shadow: 0px 1px 3px 1px rgba(0, 0, 0, 0.15);\n",
              "      filter: drop-shadow(0px 1px 2px rgba(0, 0, 0, 0.3));\n",
              "      fill: #FFFFFF;\n",
              "    }\n",
              "  </style>\n",
              "\n",
              "    <script>\n",
              "      const buttonEl =\n",
              "        document.querySelector('#df-7e1ed557-e81e-4156-8cd1-819268c23c10 button.colab-df-convert');\n",
              "      buttonEl.style.display =\n",
              "        google.colab.kernel.accessAllowed ? 'block' : 'none';\n",
              "\n",
              "      async function convertToInteractive(key) {\n",
              "        const element = document.querySelector('#df-7e1ed557-e81e-4156-8cd1-819268c23c10');\n",
              "        const dataTable =\n",
              "          await google.colab.kernel.invokeFunction('convertToInteractive',\n",
              "                                                    [key], {});\n",
              "        if (!dataTable) return;\n",
              "\n",
              "        const docLinkHtml = 'Like what you see? Visit the ' +\n",
              "          '<a target=\"_blank\" href=https://colab.research.google.com/notebooks/data_table.ipynb>data table notebook</a>'\n",
              "          + ' to learn more about interactive tables.';\n",
              "        element.innerHTML = '';\n",
              "        dataTable['output_type'] = 'display_data';\n",
              "        await google.colab.output.renderOutput(dataTable, element);\n",
              "        const docLink = document.createElement('div');\n",
              "        docLink.innerHTML = docLinkHtml;\n",
              "        element.appendChild(docLink);\n",
              "      }\n",
              "    </script>\n",
              "  </div>\n",
              "\n",
              "\n",
              "<div id=\"df-b97383e4-6e9f-4cd2-8be5-656c030f5497\">\n",
              "  <button class=\"colab-df-quickchart\" onclick=\"quickchart('df-b97383e4-6e9f-4cd2-8be5-656c030f5497')\"\n",
              "            title=\"Suggest charts.\"\n",
              "            style=\"display:none;\">\n",
              "\n",
              "<svg xmlns=\"http://www.w3.org/2000/svg\" height=\"24px\"viewBox=\"0 0 24 24\"\n",
              "     width=\"24px\">\n",
              "    <g>\n",
              "        <path d=\"M19 3H5c-1.1 0-2 .9-2 2v14c0 1.1.9 2 2 2h14c1.1 0 2-.9 2-2V5c0-1.1-.9-2-2-2zM9 17H7v-7h2v7zm4 0h-2V7h2v10zm4 0h-2v-4h2v4z\"/>\n",
              "    </g>\n",
              "</svg>\n",
              "  </button>\n",
              "\n",
              "<style>\n",
              "  .colab-df-quickchart {\n",
              "      --bg-color: #E8F0FE;\n",
              "      --fill-color: #1967D2;\n",
              "      --hover-bg-color: #E2EBFA;\n",
              "      --hover-fill-color: #174EA6;\n",
              "      --disabled-fill-color: #AAA;\n",
              "      --disabled-bg-color: #DDD;\n",
              "  }\n",
              "\n",
              "  [theme=dark] .colab-df-quickchart {\n",
              "      --bg-color: #3B4455;\n",
              "      --fill-color: #D2E3FC;\n",
              "      --hover-bg-color: #434B5C;\n",
              "      --hover-fill-color: #FFFFFF;\n",
              "      --disabled-bg-color: #3B4455;\n",
              "      --disabled-fill-color: #666;\n",
              "  }\n",
              "\n",
              "  .colab-df-quickchart {\n",
              "    background-color: var(--bg-color);\n",
              "    border: none;\n",
              "    border-radius: 50%;\n",
              "    cursor: pointer;\n",
              "    display: none;\n",
              "    fill: var(--fill-color);\n",
              "    height: 32px;\n",
              "    padding: 0;\n",
              "    width: 32px;\n",
              "  }\n",
              "\n",
              "  .colab-df-quickchart:hover {\n",
              "    background-color: var(--hover-bg-color);\n",
              "    box-shadow: 0 1px 2px rgba(60, 64, 67, 0.3), 0 1px 3px 1px rgba(60, 64, 67, 0.15);\n",
              "    fill: var(--button-hover-fill-color);\n",
              "  }\n",
              "\n",
              "  .colab-df-quickchart-complete:disabled,\n",
              "  .colab-df-quickchart-complete:disabled:hover {\n",
              "    background-color: var(--disabled-bg-color);\n",
              "    fill: var(--disabled-fill-color);\n",
              "    box-shadow: none;\n",
              "  }\n",
              "\n",
              "  .colab-df-spinner {\n",
              "    border: 2px solid var(--fill-color);\n",
              "    border-color: transparent;\n",
              "    border-bottom-color: var(--fill-color);\n",
              "    animation:\n",
              "      spin 1s steps(1) infinite;\n",
              "  }\n",
              "\n",
              "  @keyframes spin {\n",
              "    0% {\n",
              "      border-color: transparent;\n",
              "      border-bottom-color: var(--fill-color);\n",
              "      border-left-color: var(--fill-color);\n",
              "    }\n",
              "    20% {\n",
              "      border-color: transparent;\n",
              "      border-left-color: var(--fill-color);\n",
              "      border-top-color: var(--fill-color);\n",
              "    }\n",
              "    30% {\n",
              "      border-color: transparent;\n",
              "      border-left-color: var(--fill-color);\n",
              "      border-top-color: var(--fill-color);\n",
              "      border-right-color: var(--fill-color);\n",
              "    }\n",
              "    40% {\n",
              "      border-color: transparent;\n",
              "      border-right-color: var(--fill-color);\n",
              "      border-top-color: var(--fill-color);\n",
              "    }\n",
              "    60% {\n",
              "      border-color: transparent;\n",
              "      border-right-color: var(--fill-color);\n",
              "    }\n",
              "    80% {\n",
              "      border-color: transparent;\n",
              "      border-right-color: var(--fill-color);\n",
              "      border-bottom-color: var(--fill-color);\n",
              "    }\n",
              "    90% {\n",
              "      border-color: transparent;\n",
              "      border-bottom-color: var(--fill-color);\n",
              "    }\n",
              "  }\n",
              "</style>\n",
              "\n",
              "  <script>\n",
              "    async function quickchart(key) {\n",
              "      const quickchartButtonEl =\n",
              "        document.querySelector('#' + key + ' button');\n",
              "      quickchartButtonEl.disabled = true;  // To prevent multiple clicks.\n",
              "      quickchartButtonEl.classList.add('colab-df-spinner');\n",
              "      try {\n",
              "        const charts = await google.colab.kernel.invokeFunction(\n",
              "            'suggestCharts', [key], {});\n",
              "      } catch (error) {\n",
              "        console.error('Error during call to suggestCharts:', error);\n",
              "      }\n",
              "      quickchartButtonEl.classList.remove('colab-df-spinner');\n",
              "      quickchartButtonEl.classList.add('colab-df-quickchart-complete');\n",
              "    }\n",
              "    (() => {\n",
              "      let quickchartButtonEl =\n",
              "        document.querySelector('#df-b97383e4-6e9f-4cd2-8be5-656c030f5497 button');\n",
              "      quickchartButtonEl.style.display =\n",
              "        google.colab.kernel.accessAllowed ? 'block' : 'none';\n",
              "    })();\n",
              "  </script>\n",
              "</div>\n",
              "    </div>\n",
              "  </div>\n"
            ]
          },
          "metadata": {},
          "execution_count": 39
        }
      ]
    },
    {
      "cell_type": "code",
      "source": [
        "# check unique clusters\n",
        "data['cluster'].value_counts()"
      ],
      "metadata": {
        "colab": {
          "base_uri": "https://localhost:8080/"
        },
        "id": "j76PqqbQd41y",
        "outputId": "6cecbb01-7f13-47bb-b76d-c85a32136083"
      },
      "execution_count": 40,
      "outputs": [
        {
          "output_type": "execute_result",
          "data": {
            "text/plain": [
              " 1    307\n",
              " 2    232\n",
              " 0    169\n",
              " 3     45\n",
              " 4     34\n",
              "-1      1\n",
              "Name: cluster, dtype: int64"
            ]
          },
          "metadata": {},
          "execution_count": 40
        }
      ]
    },
    {
      "cell_type": "markdown",
      "source": [
        "### Visualization"
      ],
      "metadata": {
        "id": "NvsmGzkxehxN"
      }
    },
    {
      "cell_type": "code",
      "source": [
        "import plotly.express as px\n",
        "\n",
        "fig = px.scatter(data, x=\"a1\", y=\"a2\", color=\"cluster\")\n",
        "\n",
        "fig.show()"
      ],
      "metadata": {
        "colab": {
          "base_uri": "https://localhost:8080/",
          "height": 542
        },
        "id": "vLdQSXkbef6Q",
        "outputId": "a25cf598-9fad-4134-86d5-bb74fe0530df"
      },
      "execution_count": 42,
      "outputs": [
        {
          "output_type": "display_data",
          "data": {
            "text/html": [
              "<html>\n",
              "<head><meta charset=\"utf-8\" /></head>\n",
              "<body>\n",
              "    <div>            <script src=\"https://cdnjs.cloudflare.com/ajax/libs/mathjax/2.7.5/MathJax.js?config=TeX-AMS-MML_SVG\"></script><script type=\"text/javascript\">if (window.MathJax && window.MathJax.Hub && window.MathJax.Hub.Config) {window.MathJax.Hub.Config({SVG: {font: \"STIX-Web\"}});}</script>                <script type=\"text/javascript\">window.PlotlyConfig = {MathJaxConfig: 'local'};</script>\n",
              "        <script charset=\"utf-8\" src=\"https://cdn.plot.ly/plotly-2.24.1.min.js\"></script>                <div id=\"bc81d23b-1782-4a43-b9d5-bf0e6ee97f21\" class=\"plotly-graph-div\" style=\"height:525px; width:100%;\"></div>            <script type=\"text/javascript\">                                    window.PLOTLYENV=window.PLOTLYENV || {};                                    if (document.getElementById(\"bc81d23b-1782-4a43-b9d5-bf0e6ee97f21\")) {                    Plotly.newPlot(                        \"bc81d23b-1782-4a43-b9d5-bf0e6ee97f21\",                        [{\"hovertemplate\":\"a1=%{x}\\u003cbr\\u003ea2=%{y}\\u003cbr\\u003ecluster=%{marker.color}\\u003cextra\\u003e\\u003c\\u002fextra\\u003e\",\"legendgroup\":\"\",\"marker\":{\"color\":[0,0,0,0,0,0,0,0,0,0,0,0,0,0,0,0,0,0,0,0,0,0,0,0,0,0,0,0,0,0,0,0,0,0,0,0,0,0,0,0,0,0,0,0,0,0,0,0,0,0,0,0,0,0,0,0,0,0,0,0,0,0,0,0,0,0,0,0,0,0,0,0,0,0,0,0,0,0,0,0,0,0,0,0,0,0,0,0,0,0,0,0,0,0,0,0,0,0,0,0,0,0,0,0,0,0,0,0,0,0,0,0,0,0,0,0,0,0,0,0,0,0,0,0,0,0,0,0,0,0,0,0,0,0,0,0,0,0,0,0,0,0,0,0,0,0,0,0,0,0,0,0,0,0,0,0,0,0,0,0,0,0,0,0,0,0,-1,0,0,0,1,1,1,1,1,1,1,1,1,1,1,1,1,1,1,1,1,1,1,1,1,1,1,1,1,1,1,1,1,1,1,1,1,1,1,1,1,1,1,1,1,1,1,1,1,1,1,1,1,1,1,1,1,1,1,1,1,1,1,1,1,1,1,1,1,1,1,1,1,1,1,1,1,1,1,1,1,1,1,1,1,1,1,1,1,1,1,1,1,1,1,1,1,1,1,1,1,1,1,1,1,1,1,1,1,1,1,1,1,1,1,1,1,1,1,1,1,1,1,1,1,1,1,1,1,1,1,1,1,1,1,1,1,1,1,1,1,1,1,1,1,1,1,1,1,1,1,1,1,1,1,1,1,1,1,1,1,1,1,1,1,1,1,1,1,1,1,1,1,1,1,1,1,1,1,1,1,1,1,1,1,1,1,1,1,1,1,1,1,1,1,1,1,1,1,1,1,1,1,1,1,1,1,1,1,1,1,1,1,1,1,1,1,1,1,1,1,1,1,1,1,1,1,1,1,1,1,1,1,1,1,1,1,1,1,1,1,1,1,1,1,1,1,1,1,1,1,1,1,1,1,1,1,1,1,1,1,1,1,1,1,1,1,1,1,1,1,1,1,1,1,1,1,1,1,1,1,1,1,1,1,1,1,1,1,1,1,1,1,1,1,1,1,1,1,1,1,1,1,1,1,1,1,1,1,1,1,2,2,2,2,2,2,2,2,2,2,2,2,2,2,2,2,2,2,2,2,2,2,2,2,2,2,2,2,2,2,2,2,2,2,2,2,2,2,2,2,2,2,2,2,2,2,2,2,2,2,2,2,2,2,2,2,2,2,2,2,2,2,2,2,2,2,2,2,2,2,2,2,2,2,2,2,2,2,2,2,2,2,2,2,2,2,2,2,2,2,2,2,2,2,2,2,2,2,2,2,2,2,2,2,2,2,2,2,2,2,2,2,2,2,2,2,2,2,2,2,2,2,2,2,2,2,2,2,2,2,2,2,2,2,2,2,2,2,2,2,2,2,2,2,2,2,2,2,2,2,2,2,2,2,2,2,2,2,2,2,2,2,2,2,2,2,2,2,2,2,2,2,2,2,2,2,2,2,2,2,2,2,2,2,2,2,2,2,2,2,2,2,2,2,2,2,2,2,2,2,2,2,2,2,2,2,2,2,2,2,2,2,2,2,2,2,2,2,2,2,2,2,2,2,2,2,2,2,2,2,2,2,3,3,3,3,3,3,3,3,3,3,3,3,3,3,3,3,3,3,3,3,3,3,3,3,3,3,3,3,3,3,3,3,3,3,3,3,3,3,3,3,3,3,3,3,3,4,4,4,4,4,4,4,4,4,4,4,4,4,4,4,4,4,4,4,4,4,4,4,4,4,4,4,4,4,4,4,4,4,4],\"coloraxis\":\"coloraxis\",\"symbol\":\"circle\"},\"mode\":\"markers\",\"name\":\"\",\"orientation\":\"v\",\"showlegend\":false,\"x\":[0.367469879518072,0.34789156626506,0.33433734939759,0.325301204819277,0.313253012048193,0.301204819277108,0.29066265060241,0.30421686746988,0.308734939759036,0.284638554216868,0.272590361445783,0.269578313253012,0.266566265060241,0.302710843373494,0.289156626506024,0.287650602409639,0.256024096385542,0.240963855421687,0.234939759036145,0.237951807228916,0.22289156626506,0.215361445783133,0.189759036144578,0.207831325301205,0.22289156626506,0.251506024096386,0.248493975903614,0.257530120481928,0.278614457831325,0.257530120481928,0.233433734939759,0.216867469879518,0.201807228915663,0.180722891566265,0.17921686746988,0.176204819277108,0.125,0.156626506024096,0.155120481927711,0.141566265060241,0.135542168674699,0.118975903614458,0.103915662650602,0.109939759036145,0.126506024096386,0.156626506024096,0.170180722891566,0.158132530120482,0.182228915662651,0.153614457831325,0.16566265060241,0.189759036144578,0.216867469879518,0.231927710843374,0.216867469879518,0.183734939759036,0.176204819277108,0.150602409638554,0.120481927710843,0.121987951807229,0.0978915662650602,0.0828313253012048,0.0737951807228916,0.069277108433735,0.0587349397590361,0.0918674698795181,0.0617469879518072,0.0602409638554217,0.0436746987951807,0.0256024096385542,0.0918674698795181,0.0963855421686747,0.121987951807229,0.0632530120481928,0.0286144578313253,0.019578313253012,0.0,0.0451807228915663,0.0286144578313253,0.0753012048192771,0.0768072289156627,0.126506024096386,0.105421686746988,0.129518072289157,0.108433734939759,0.0828313253012048,0.0647590361445783,0.0406626506024096,0.0135542168674699,0.0391566265060241,0.0240963855421687,0.0587349397590361,0.0677710843373494,0.0737951807228916,0.0918674698795181,0.0963855421686747,0.123493975903614,0.121987951807229,0.132530120481928,0.129518072289157,0.108433734939759,0.0978915662650602,0.0813253012048193,0.0617469879518072,0.0602409638554217,0.0737951807228916,0.088855421686747,0.109939759036145,0.114457831325301,0.120481927710843,0.146084337349398,0.149096385542169,0.149096385542169,0.162650602409639,0.171686746987952,0.180722891566265,0.167168674698795,0.153614457831325,0.201807228915663,0.212349397590362,0.158132530120482,0.159638554216868,0.159638554216868,0.159638554216868,0.168674698795181,0.198795180722892,0.168674698795181,0.189759036144578,0.216867469879518,0.227409638554217,0.240963855421687,0.262048192771084,0.269578313253012,0.251506024096386,0.234939759036145,0.225903614457831,0.225903614457831,0.188253012048193,0.195783132530121,0.180722891566265,0.177710843373494,0.198795180722892,0.221385542168675,0.239457831325301,0.271084337349398,0.293674698795181,0.286144578313253,0.260542168674699,0.230421686746988,0.210843373493976,0.197289156626506,0.218373493975904,0.242469879518072,0.242469879518072,0.271084337349398,0.284638554216868,0.265060240963855,0.231927710843374,0.259036144578313,0.268072289156627,0.292168674698795,0.313253012048193,0.305722891566265,0.310240963855422,0.320783132530121,0.356927710843374,0.365963855421687,0.317771084337349,0.313253012048193,0.265060240963855,0.134036144578313,0.16566265060241,0.170180722891566,0.191265060240964,0.141566265060241,0.131024096385542,0.103915662650602,0.0978915662650602,0.0858433734939759,0.0617469879518072,0.0707831325301205,0.0557228915662651,0.0542168674698795,0.0753012048192771,0.0828313253012048,0.109939759036145,0.11144578313253,0.137048192771084,0.156626506024096,0.135542168674699,0.112951807228916,0.106927710843374,0.105421686746988,0.0918674698795181,0.0768072289156627,0.0918674698795181,0.11144578313253,0.120481927710843,0.129518072289157,0.143072289156627,0.164156626506024,0.149096385542169,0.170180722891566,0.180722891566265,0.204819277108434,0.212349397590362,0.227409638554217,0.246987951807229,0.253012048192771,0.203313253012048,0.231927710843374,0.256024096385542,0.286144578313253,0.287650602409639,0.308734939759036,0.322289156626506,0.335843373493976,0.329819277108434,0.411144578313253,0.375,0.376506024096386,0.40210843373494,0.38855421686747,0.367469879518072,0.344879518072289,0.33433734939759,0.313253012048193,0.284638554216868,0.295180722891566,0.274096385542169,0.254518072289157,0.233433734939759,0.210843373493976,0.203313253012048,0.239457831325301,0.271084337349398,0.293674698795181,0.296686746987952,0.323795180722892,0.245481927710843,0.240963855421687,0.259036144578313,0.272590361445783,0.268072289156627,0.289156626506024,0.30421686746988,0.301204819277108,0.313253012048193,0.329819277108434,0.346385542168675,0.353915662650602,0.364457831325301,0.391566265060241,0.403614457831325,0.38855421686747,0.362951807228916,0.364457831325301,0.355421686746988,0.358433734939759,0.367469879518072,0.328313253012048,0.328313253012048,0.352409638554217,0.329819277108434,0.307228915662651,0.329819277108434,0.319277108433735,0.292168674698795,0.292168674698795,0.246987951807229,0.224397590361446,0.218373493975904,0.240963855421687,0.265060240963855,0.272590361445783,0.284638554216868,0.310240963855422,0.317771084337349,0.293674698795181,0.27710843373494,0.245481927710843,0.240963855421687,0.272590361445783,0.253012048192771,0.280120481927711,0.302710843373494,0.317771084337349,0.283132530120482,0.307228915662651,0.311746987951807,0.323795180722892,0.340361445783133,0.331325301204819,0.335843373493976,0.355421686746988,0.308734939759036,0.33433734939759,0.338855421686747,0.350903614457831,0.358433734939759,0.341867469879518,0.341867469879518,0.358433734939759,0.370481927710843,0.379518072289157,0.384036144578313,0.378012048192771,0.368975903614458,0.367469879518072,0.36144578313253,0.355421686746988,0.365963855421687,0.371987951807229,0.387048192771084,0.391566265060241,0.387048192771084,0.397590361445783,0.409638554216868,0.412650602409639,0.420180722891566,0.420180722891566,0.42921686746988,0.412650602409639,0.418674698795181,0.400602409638554,0.397590361445783,0.417168674698795,0.445783132530121,0.442771084337349,0.445783132530121,0.45933734939759,0.453313253012048,0.466867469879518,0.474397590361446,0.484939759036145,0.471385542168675,0.498493975903614,0.515060240963855,0.495481927710843,0.484939759036145,0.460843373493976,0.453313253012048,0.460843373493976,0.463855421686747,0.474397590361446,0.438253012048193,0.430722891566265,0.412650602409639,0.423192771084337,0.399096385542169,0.371987951807229,0.373493975903614,0.399096385542169,0.51355421686747,0.522590361445783,0.536144578313253,0.55421686746988,0.561746987951807,0.567771084337349,0.545180722891566,0.534638554216868,0.506024096385542,0.525602409638554,0.522590361445783,0.493975903614458,0.496987951807229,0.51355421686747,0.518072289156627,0.462349397590361,0.478915662650602,0.453313253012048,0.454819277108434,0.430722891566265,0.40210843373494,0.460843373493976,0.442771084337349,0.436746987951807,0.426204819277109,0.41566265060241,0.412650602409639,0.393072289156627,0.382530120481928,0.382530120481928,0.396084337349398,0.418674698795181,0.42921686746988,0.435240963855422,0.441265060240964,0.465361445783133,0.465361445783133,0.483433734939759,0.478915662650602,0.503012048192771,0.495481927710843,0.503012048192771,0.536144578313253,0.551204819277108,0.566265060240964,0.593373493975904,0.593373493975904,0.596385542168675,0.576807228915663,0.566265060240964,0.626506024096386,0.606927710843373,0.594879518072289,0.591867469879518,0.567771084337349,0.557228915662651,0.524096385542169,0.531626506024096,0.524096385542169,0.501506024096386,0.48644578313253,0.466867469879518,0.463855421686747,0.45933734939759,0.409638554216868,0.421686746987952,0.441265060240964,0.456325301204819,0.444277108433735,0.427710843373494,0.439759036144578,0.450301204819277,0.441265060240964,0.471385542168675,0.48644578313253,0.484939759036145,0.483433734939759,0.504518072289157,0.503012048192771,0.503012048192771,0.481927710843374,0.477409638554217,0.503012048192771,0.519578313253012,0.522590361445783,0.54066265060241,0.555722891566265,0.557228915662651,0.551204819277108,0.530120481927711,0.528614457831325,0.551204819277108,0.537650602409639,0.524096385542169,0.518072289156627,0.534638554216868,0.551204819277108,0.55421686746988,0.560240963855422,0.561746987951807,0.585843373493976,0.581325301204819,0.58433734939759,0.591867469879518,0.578313253012048,0.567771084337349,0.588855421686747,0.572289156626506,0.58433734939759,0.573795180722892,0.593373493975904,0.600903614457831,0.620481927710843,0.61144578313253,0.612951807228916,0.629518072289157,0.647590361445783,0.606927710843373,0.617469879518072,0.620481927710843,0.61144578313253,0.609939759036145,0.631024096385542,0.646084337349398,0.924698795180723,0.894578313253012,0.862951807228916,0.859939759036145,0.83433734939759,0.814759036144578,0.825301204819277,0.802710843373494,0.805722891566265,0.787650602409639,0.825301204819277,0.828313253012048,0.84789156626506,0.855421686746988,0.873493975903615,0.887048192771084,0.864457831325301,0.887048192771084,0.882530120481928,0.912650602409639,0.894578313253012,0.911144578313253,0.938253012048193,0.950301204819277,0.966867469879518,0.941265060240964,0.92921686746988,0.992469879518072,0.969879518072289,0.981927710843374,0.947289156626506,0.914156626506024,0.921686746987952,0.914156626506024,0.885542168674699,0.871987951807229,0.893072289156627,0.86144578313253,0.837349397590361,0.813253012048193,0.798192771084338,0.823795180722892,0.793674698795181,0.816265060240964,0.831325301204819,0.856927710843374,0.876506024096386,0.909638554216867,0.933734939759036,0.944277108433735,0.941265060240964,0.953313253012048,0.968373493975904,0.98644578313253,1.0,0.983433734939759,0.963855421686747,1.0,0.995481927710843,0.968373493975904,0.939759036144578,0.960843373493976,0.935240963855422,0.908132530120482,0.918674698795181,0.878012048192771,0.871987951807229,0.90210843373494,0.850903614457831,0.820783132530121,0.814759036144578,0.829819277108434,0.823795180722892,0.814759036144578,0.838855421686747,0.86144578313253,0.852409638554217,0.891566265060241,0.882530120481928,0.870481927710843,0.864457831325301,0.841867469879518,0.86144578313253,0.885542168674699,0.897590361445783,0.896084337349398,0.897590361445783,0.932228915662651,0.923192771084337,0.942771084337349,0.947289156626506,0.97289156626506,0.993975903614458,0.969879518072289,0.977409638554217,0.959337349397591,0.944277108433735,0.951807228915663,0.924698795180723,0.924698795180723,0.900602409638554,0.899096385542169,0.900602409638554,0.893072289156627,0.891566265060241,0.881024096385542,0.876506024096386,0.882530120481928,0.885542168674699,0.855421686746988,0.853915662650602,0.832831325301205,0.837349397590361,0.816265060240964,0.80421686746988,0.819277108433735,0.817771084337349,0.810240963855422,0.79066265060241,0.77710843373494,0.810240963855422,0.823795180722892,0.832831325301205,0.849397590361446,0.84789156626506,0.864457831325301,0.86144578313253,0.881024096385542,0.88855421686747,0.906626506024097,0.914156626506024,0.930722891566265,0.932228915662651,0.918674698795181,0.894578313253012,0.900602409638554,0.887048192771084,0.871987951807229,0.887048192771084,0.855421686746988,0.855421686746988,0.865963855421687,0.849397590361446,0.822289156626506,0.801204819277109,0.787650602409639,0.813253012048193,0.83433734939759,0.849397590361446,0.831325301204819,0.811746987951807,0.79066265060241,0.783132530120482,0.778614457831325,0.825301204819277,0.831325301204819,0.846385542168675,0.86144578313253,0.879518072289157,0.881024096385542,0.900602409638554,0.912650602409639,0.908132530120482,0.896084337349398,0.917168674698795,0.918674698795181,0.927710843373494,0.948795180722892,0.962349397590361,0.965361445783133,0.939759036144578,0.954819277108434,0.981927710843374,0.993975903614458,0.968373493975904,0.936746987951807,0.935240963855422,0.953313253012048,0.975903614457831,0.954819277108434,0.941265060240964,0.92921686746988,0.990963855421687,0.974397590361446,0.968373493975904,0.978915662650602,0.992469879518072,0.966867469879518,0.950301204819277,0.92921686746988,0.918674698795181,0.900602409638554,0.876506024096386,0.911144578313253,0.930722891566265,0.930722891566265,0.965361445783133,0.957831325301205,0.935240963855422,0.914156626506024,0.870481927710843,0.878012048192771,0.846385542168675,0.849397590361446,0.83433734939759,0.810240963855422,0.796686746987952,0.79066265060241,0.793674698795181,0.817771084337349,0.822289156626506,0.840361445783133,0.846385542168675,0.825301204819277,0.822289156626506,0.840361445783133,0.858433734939759,0.884036144578313,0.900602409638554,0.875,0.867469879518072,0.873493975903615,0.891566265060241,0.918674698795181,0.894578313253012,0.912650602409639,0.926204819277109,0.92921686746988,0.942771084337349,0.960843373493976,0.974397590361446,0.935240963855422,0.54066265060241,0.506024096385542,0.477409638554217,0.474397590361446,0.454819277108434,0.463855421686747,0.483433734939759,0.487951807228916,0.495481927710843,0.516566265060241,0.545180722891566,0.552710843373494,0.543674698795181,0.531626506024096,0.536144578313253,0.516566265060241,0.493975903614458,0.477409638554217,0.454819277108434,0.521084337349398,0.521084337349398,0.492469879518072,0.506024096385542,0.566265060240964,0.549698795180723,0.552710843373494,0.558734939759036,0.578313253012048,0.578313253012048,0.600903614457831,0.629518072289157,0.615963855421687,0.603915662650602,0.588855421686747,0.570783132530121,0.567771084337349,0.594879518072289,0.587349397590362,0.581325301204819,0.596385542168675,0.625,0.643072289156627,0.631024096385542,0.626506024096386,0.618975903614458,0.0557228915662651,0.0903614457831325,0.102409638554217,0.0768072289156627,0.0617469879518072,0.0451807228915663,0.0451807228915663,0.0542168674698795,0.0707831325301205,0.0858433734939759,0.0858433734939759,0.129518072289157,0.115963855421687,0.102409638554217,0.102409638554217,0.0993975903614458,0.0737951807228916,0.0481927710843374,0.052710843373494,0.0707831325301205,0.0632530120481928,0.100903614457831,0.0963855421686747,0.115963855421687,0.0858433734939759,0.112951807228916,0.135542168674699,0.128012048192771,0.117469879518072,0.134036144578313,0.141566265060241,0.155120481927711,0.143072289156627,0.144578313253012],\"xaxis\":\"x\",\"y\":[0.981617647058823,0.941176470588235,0.970588235294118,0.987132352941177,0.959558823529412,0.974264705882353,1.0,0.939338235294118,0.902573529411765,0.933823529411765,0.952205882352941,0.972426470588235,0.981617647058823,0.851102941176471,0.882352941176471,0.902573529411765,0.920955882352941,0.957720588235294,0.983455882352941,0.935661764705882,0.946691176470588,0.970588235294118,0.974264705882353,0.930147058823529,0.904411764705882,0.897058823529412,0.880514705882353,0.849264705882353,0.8125,0.829044117647059,0.854779411764706,0.852941176470588,0.882352941176471,0.90625,0.930147058823529,0.950367647058824,0.966911764705882,0.9375,0.922794117647059,0.928308823529412,0.913602941176471,0.935661764705882,0.915441176470588,0.902573529411765,0.895220588235294,0.895220588235294,0.878676470588235,0.871323529411765,0.867647058823529,0.849264705882353,0.832720588235294,0.836397058823529,0.823529411764706,0.806985294117647,0.794117647058824,0.786764705882353,0.806985294117647,0.806985294117647,0.838235294117647,0.863970588235294,0.875,0.884191176470588,0.919117647058824,0.876838235294118,0.887867647058824,0.862132352941177,0.856617647058824,0.836397058823529,0.849264705882353,0.867647058823529,0.840073529411765,0.821691176470588,0.819852941176471,0.818014705882353,0.810661764705882,0.819852941176471,0.784926470588235,0.775735294117647,0.764705882352941,0.788602941176471,0.794117647058824,0.799632352941177,0.783088235294118,0.777573529411765,0.757352941176471,0.759191176470588,0.759191176470588,0.740808823529412,0.731617647058824,0.707720588235294,0.676470588235294,0.678308823529412,0.691176470588235,0.735294117647059,0.735294117647059,0.705882352941177,0.735294117647059,0.720588235294118,0.707720588235294,0.6875,0.65625,0.667279411764706,0.670955882352941,0.650735294117647,0.628676470588235,0.599264705882353,0.630514705882353,0.623161764705882,0.586397058823529,0.597426470588235,0.665441176470588,0.643382352941177,0.608455882352941,0.619485294117647,0.597426470588235,0.579044117647059,0.577205882352941,0.560661764705882,0.560661764705882,0.544117647058824,0.696691176470588,0.711397058823529,0.733455882352941,0.755514705882353,0.766544117647059,0.761029411764706,0.744485294117647,0.733455882352941,0.748161764705882,0.768382352941177,0.790441176470588,0.788602941176471,0.764705882352941,0.742647058823529,0.738970588235294,0.71875,0.702205882352941,0.711397058823529,0.689338235294118,0.685661764705882,0.650735294117647,0.65625,0.676470588235294,0.689338235294118,0.722426470588235,0.711397058823529,0.691176470588235,0.663602941176471,0.658088235294118,0.626838235294118,0.613970588235294,0.595588235294118,0.601102941176471,0.636029411764706,0.619485294117647,0.654411764705882,0.59375,0.571691176470588,0.5625,0.571691176470588,0.568014705882353,0.595588235294118,0.613970588235294,0.636029411764706,0.659926470588235,0.597426470588235,0.558823529411765,0.556985294117647,0.538602941176471,0.53125,0.431985294117647,0.419117647058824,0.395220588235294,0.373161764705882,0.402573529411765,0.415441176470588,0.413602941176471,0.422794117647059,0.389705882352941,0.400735294117647,0.378676470588235,0.365808823529412,0.345588235294118,0.340073529411765,0.360294117647059,0.382352941176471,0.386029411764706,0.387867647058824,0.373161764705882,0.363970588235294,0.367647058823529,0.351102941176471,0.329044117647059,0.321691176470588,0.306985294117647,0.305147058823529,0.297794117647059,0.314338235294118,0.336397058823529,0.340073529411765,0.347426470588235,0.316176470588235,0.329044117647059,0.314338235294118,0.332720588235294,0.316176470588235,0.295955882352941,0.303308823529412,0.327205882352941,0.246323529411765,0.262867647058824,0.288602941176471,0.319852941176471,0.358455882352941,0.336397058823529,0.360294117647059,0.362132352941177,0.386029411764706,0.402573529411765,0.391544117647059,0.369485294117647,0.376838235294118,0.358455882352941,0.338235294117647,0.345588235294118,0.323529411764706,0.3125,0.299632352941177,0.288602941176471,0.270220588235294,0.257352941176471,0.238970588235294,0.211397058823529,0.176470588235294,0.220588235294118,0.238970588235294,0.257352941176471,0.272058823529412,0.297794117647059,0.204044117647059,0.181985294117647,0.176470588235294,0.189338235294118,0.207720588235294,0.207720588235294,0.220588235294118,0.231617647058824,0.259191176470588,0.270220588235294,0.279411764705882,0.305147058823529,0.316176470588235,0.327205882352941,0.351102941176471,0.303308823529412,0.299632352941177,0.284926470588235,0.270220588235294,0.246323529411765,0.229779411764706,0.248161764705882,0.231617647058824,0.215073529411765,0.204044117647059,0.202205882352941,0.183823529411765,0.174632352941176,0.183823529411765,0.15625,0.159926470588235,0.143382352941176,0.113970588235294,0.132352941176471,0.126838235294118,0.141544117647059,0.137867647058824,0.145220588235294,0.123161764705882,0.115808823529412,0.108455882352941,0.102941176470588,0.0772058823529412,0.088235294117647,0.0551470588235294,0.0643382352941177,0.088235294117647,0.110294117647059,0.0386029411764706,0.0441176470588235,0.0625,0.0790441176470588,0.113970588235294,0.139705882352941,0.169117647058824,0.189338235294118,0.0220588235294118,0.0165441176470588,0.0404411764705882,0.0533088235294118,0.0569852941176471,0.0790441176470588,0.09375,0.0275735294117647,0.0036764705882352,0.03125,0.0588235294117647,0.0753676470588235,0.102941176470588,0.113970588235294,0.130514705882353,0.147058823529412,0.176470588235294,0.161764705882353,0.145220588235294,0.125,0.0955882352941176,0.0827205882352941,0.102941176470588,0.115808823529412,0.104779411764706,0.0808823529411765,0.0863970588235294,0.0643382352941177,0.0404411764705882,0.03125,0.0073529411764705,0.0036764705882352,0.0,0.0183823529411765,0.0404411764705882,0.0551470588235294,0.0606617647058824,0.0459558823529412,0.0257352941176471,0.0257352941176471,0.0055147058823529,0.0036764705882352,0.03125,0.0477941176470588,0.0716911764705882,0.0827205882352941,0.0974264705882353,0.102941176470588,0.117647058823529,0.0955882352941176,0.126838235294118,0.137867647058824,0.150735294117647,0.167279411764706,0.180147058823529,0.191176470588235,0.213235294117647,0.220588235294118,0.0533088235294118,0.0551470588235294,0.0330882352941177,0.0257352941176471,0.0477941176470588,0.0569852941176471,0.0661764705882353,0.0772058823529412,0.0863970588235294,0.101102941176471,0.117647058823529,0.113970588235294,0.130514705882353,0.136029411764706,0.139705882352941,0.139705882352941,0.147058823529412,0.148897058823529,0.170955882352941,0.1875,0.200367647058824,0.196691176470588,0.198529411764706,0.213235294117647,0.231617647058824,0.244485294117647,0.259191176470588,0.248161764705882,0.257352941176471,0.28125,0.286764705882353,0.28125,0.292279411764706,0.270220588235294,0.242647058823529,0.226102941176471,0.235294117647059,0.207720588235294,0.170955882352941,0.183823529411765,0.204044117647059,0.161764705882353,0.137867647058824,0.106617647058824,0.088235294117647,0.0514705882352941,0.0680147058823529,0.0900735294117647,0.102941176470588,0.119485294117647,0.0955882352941176,0.113970588235294,0.123161764705882,0.139705882352941,0.139705882352941,0.15625,0.169117647058824,0.191176470588235,0.209558823529412,0.229779411764706,0.246323529411765,0.261029411764706,0.279411764705882,0.295955882352941,0.308823529411765,0.327205882352941,0.319852941176471,0.316176470588235,0.336397058823529,0.34375,0.365808823529412,0.369485294117647,0.387867647058824,0.356617647058824,0.334558823529412,0.316176470588235,0.283088235294118,0.273897058823529,0.294117647058823,0.303308823529412,0.376838235294118,0.378676470588235,0.354779411764706,0.338235294117647,0.319852941176471,0.356617647058824,0.338235294117647,0.321691176470588,0.297794117647059,0.303308823529412,0.284926470588235,0.275735294117647,0.268382352941176,0.25,0.25,0.222426470588235,0.246323529411765,0.229779411764706,0.205882352941176,0.176470588235294,0.165441176470588,0.172794117647059,0.1875,0.198529411764706,0.21875,0.248161764705882,0.238970588235294,0.266544117647059,0.272058823529412,0.297794117647059,0.329044117647059,0.290441176470588,0.288602941176471,0.262867647058824,0.253676470588235,0.231617647058824,0.220588235294118,0.216911764705882,0.198529411764706,0.181985294117647,0.167279411764706,0.137867647058824,0.136029411764706,0.163602941176471,0.0569852941176471,0.0698529411764706,0.0680147058823529,0.0900735294117647,0.102941176470588,0.136029411764706,0.152573529411765,0.174632352941176,0.200367647058824,0.227941176470588,0.222426470588235,0.198529411764706,0.176470588235294,0.147058823529412,0.165441176470588,0.148897058823529,0.115808823529412,0.104779411764706,0.0900735294117647,0.0974264705882353,0.117647058823529,0.128676470588235,0.113970588235294,0.0992647058823529,0.0790441176470588,0.0772058823529412,0.0827205882352941,0.119485294117647,0.125,0.150735294117647,0.143382352941176,0.154411764705882,0.170955882352941,0.1875,0.189338235294118,0.209558823529412,0.21875,0.227941176470588,0.246323529411765,0.253676470588235,0.259191176470588,0.264705882352941,0.292279411764706,0.294117647058823,0.290441176470588,0.275735294117647,0.251838235294118,0.244485294117647,0.211397058823529,0.222426470588235,0.194852941176471,0.178308823529412,0.198529411764706,0.204044117647059,0.185661764705882,0.229779411764706,0.224264705882353,0.246323529411765,0.262867647058824,0.262867647058824,0.253676470588235,0.273897058823529,0.277573529411765,0.270220588235294,0.288602941176471,0.283088235294118,0.305147058823529,0.306985294117647,0.314338235294118,0.314338235294118,0.336397058823529,0.349264705882353,0.356617647058824,0.371323529411765,0.369485294117647,0.345588235294118,0.334558823529412,0.338235294117647,0.358455882352941,0.378676470588235,0.378676470588235,0.395220588235294,0.404411764705882,0.409926470588235,0.413602941176471,0.397058823529412,0.373161764705882,0.360294117647059,0.327205882352941,0.332720588235294,0.299632352941177,0.290441176470588,0.295955882352941,0.323529411764706,0.352941176470588,0.360294117647059,0.360294117647059,0.397058823529412,0.389705882352941,0.408088235294118,0.431985294117647,0.448529411764706,0.46875,0.485294117647059,0.503676470588235,0.522058823529412,0.544117647058824,0.555147058823529,0.564338235294118,0.560661764705882,0.577205882352941,0.571691176470588,0.586397058823529,0.591911764705882,0.619485294117647,0.619485294117647,0.637867647058824,0.641544117647059,0.658088235294118,0.683823529411765,0.680147058823529,0.665441176470588,0.659926470588235,0.650735294117647,0.610294117647059,0.612132352941177,0.630514705882353,0.602941176470588,0.588235294117647,0.569852941176471,0.553308823529412,0.566176470588235,0.591911764705882,0.604779411764706,0.621323529411765,0.625,0.632352941176471,0.658088235294118,0.663602941176471,0.672794117647059,0.691176470588235,0.705882352941177,0.722426470588235,0.711397058823529,0.722426470588235,0.722426470588235,0.738970588235294,0.737132352941177,0.744485294117647,0.761029411764706,0.777573529411765,0.779411764705882,0.757352941176471,0.80514705882353,0.810661764705882,0.816176470588235,0.799632352941177,0.779411764705882,0.738970588235294,0.757352941176471,0.746323529411765,0.733455882352941,0.711397058823529,0.691176470588235,0.678308823529412,0.663602941176471,0.637867647058824,0.621323529411765,0.610294117647059,0.639705882352941,0.654411764705882,0.663602941176471,0.658088235294118,0.685661764705882,0.683823529411765,0.6875,0.709558823529412,0.702205882352941,0.711397058823529,0.71875,0.738970588235294,0.727941176470588,0.735294117647059,0.748161764705882,0.770220588235294,0.783088235294118,0.803308823529412,0.814338235294118,0.792279411764706,0.770220588235294,0.784926470588235,0.786764705882353,0.799632352941177,0.806985294117647,0.808823529411765,0.814338235294118,0.836397058823529,0.858455882352941,0.84375,0.841911764705882,0.827205882352941,0.836397058823529,0.827205882352941,0.854779411764706,0.847426470588235,0.821691176470588,0.840073529411765,0.865808823529412,0.886029411764706,0.865808823529412,0.884191176470588,0.886029411764706,0.919117647058824,0.917279411764706,0.926470588235294,0.952205882352941,0.948529411764706,0.965073529411765,0.941176470588235,0.924632352941177,0.908088235294118,0.882352941176471,0.865808823529412,0.886029411764706,0.902573529411765,0.920955882352941,0.933823529411765,0.955882352941177,0.915441176470588,0.884191176470588,0.889705882352941,0.869485294117647,0.693014705882353,0.696691176470588,0.713235294117647,0.731617647058824,0.766544117647059,0.772058823529412,0.773897058823529,0.746323529411765,0.731617647058824,0.731617647058824,0.716911764705882,0.733455882352941,0.748161764705882,0.759191176470588,0.772058823529412,0.768382352941177,0.797794117647059,0.799632352941177,0.823529411764706,0.80514705882353,0.821691176470588,0.832720588235294,0.849264705882353,0.851102941176471,0.834558823529412,0.803308823529412,0.797794117647059,0.792279411764706,0.821691176470588,0.827205882352941,0.823529411764706,0.856617647058824,0.803308823529412,0.78125,0.766544117647059,0.751838235294118,0.726102941176471,0.733455882352941,0.704044117647059,0.759191176470588,0.733455882352941,0.744485294117647,0.759191176470588,0.784926470588235,0.790441176470588,0.0073529411764705,0.0,0.0128676470588235,0.0165441176470588,0.0275735294117647,0.0349264705882353,0.0514705882352941,0.0551470588235294,0.0551470588235294,0.0386029411764706,0.0459558823529412,0.0073529411764705,0.0294117647058824,0.0459558823529412,0.0588235294117647,0.0680147058823529,0.0753676470588235,0.0772058823529412,0.088235294117647,0.0919117647058824,0.106617647058824,0.104779411764706,0.113970588235294,0.108455882352941,0.0845588235294118,0.0863970588235294,0.09375,0.0808823529411765,0.0588235294117647,0.0514705882352941,0.0294117647058824,0.0477941176470588,0.0588235294117647,0.0753676470588235],\"yaxis\":\"y\",\"type\":\"scatter\"}],                        {\"template\":{\"data\":{\"histogram2dcontour\":[{\"type\":\"histogram2dcontour\",\"colorbar\":{\"outlinewidth\":0,\"ticks\":\"\"},\"colorscale\":[[0.0,\"#0d0887\"],[0.1111111111111111,\"#46039f\"],[0.2222222222222222,\"#7201a8\"],[0.3333333333333333,\"#9c179e\"],[0.4444444444444444,\"#bd3786\"],[0.5555555555555556,\"#d8576b\"],[0.6666666666666666,\"#ed7953\"],[0.7777777777777778,\"#fb9f3a\"],[0.8888888888888888,\"#fdca26\"],[1.0,\"#f0f921\"]]}],\"choropleth\":[{\"type\":\"choropleth\",\"colorbar\":{\"outlinewidth\":0,\"ticks\":\"\"}}],\"histogram2d\":[{\"type\":\"histogram2d\",\"colorbar\":{\"outlinewidth\":0,\"ticks\":\"\"},\"colorscale\":[[0.0,\"#0d0887\"],[0.1111111111111111,\"#46039f\"],[0.2222222222222222,\"#7201a8\"],[0.3333333333333333,\"#9c179e\"],[0.4444444444444444,\"#bd3786\"],[0.5555555555555556,\"#d8576b\"],[0.6666666666666666,\"#ed7953\"],[0.7777777777777778,\"#fb9f3a\"],[0.8888888888888888,\"#fdca26\"],[1.0,\"#f0f921\"]]}],\"heatmap\":[{\"type\":\"heatmap\",\"colorbar\":{\"outlinewidth\":0,\"ticks\":\"\"},\"colorscale\":[[0.0,\"#0d0887\"],[0.1111111111111111,\"#46039f\"],[0.2222222222222222,\"#7201a8\"],[0.3333333333333333,\"#9c179e\"],[0.4444444444444444,\"#bd3786\"],[0.5555555555555556,\"#d8576b\"],[0.6666666666666666,\"#ed7953\"],[0.7777777777777778,\"#fb9f3a\"],[0.8888888888888888,\"#fdca26\"],[1.0,\"#f0f921\"]]}],\"heatmapgl\":[{\"type\":\"heatmapgl\",\"colorbar\":{\"outlinewidth\":0,\"ticks\":\"\"},\"colorscale\":[[0.0,\"#0d0887\"],[0.1111111111111111,\"#46039f\"],[0.2222222222222222,\"#7201a8\"],[0.3333333333333333,\"#9c179e\"],[0.4444444444444444,\"#bd3786\"],[0.5555555555555556,\"#d8576b\"],[0.6666666666666666,\"#ed7953\"],[0.7777777777777778,\"#fb9f3a\"],[0.8888888888888888,\"#fdca26\"],[1.0,\"#f0f921\"]]}],\"contourcarpet\":[{\"type\":\"contourcarpet\",\"colorbar\":{\"outlinewidth\":0,\"ticks\":\"\"}}],\"contour\":[{\"type\":\"contour\",\"colorbar\":{\"outlinewidth\":0,\"ticks\":\"\"},\"colorscale\":[[0.0,\"#0d0887\"],[0.1111111111111111,\"#46039f\"],[0.2222222222222222,\"#7201a8\"],[0.3333333333333333,\"#9c179e\"],[0.4444444444444444,\"#bd3786\"],[0.5555555555555556,\"#d8576b\"],[0.6666666666666666,\"#ed7953\"],[0.7777777777777778,\"#fb9f3a\"],[0.8888888888888888,\"#fdca26\"],[1.0,\"#f0f921\"]]}],\"surface\":[{\"type\":\"surface\",\"colorbar\":{\"outlinewidth\":0,\"ticks\":\"\"},\"colorscale\":[[0.0,\"#0d0887\"],[0.1111111111111111,\"#46039f\"],[0.2222222222222222,\"#7201a8\"],[0.3333333333333333,\"#9c179e\"],[0.4444444444444444,\"#bd3786\"],[0.5555555555555556,\"#d8576b\"],[0.6666666666666666,\"#ed7953\"],[0.7777777777777778,\"#fb9f3a\"],[0.8888888888888888,\"#fdca26\"],[1.0,\"#f0f921\"]]}],\"mesh3d\":[{\"type\":\"mesh3d\",\"colorbar\":{\"outlinewidth\":0,\"ticks\":\"\"}}],\"scatter\":[{\"fillpattern\":{\"fillmode\":\"overlay\",\"size\":10,\"solidity\":0.2},\"type\":\"scatter\"}],\"parcoords\":[{\"type\":\"parcoords\",\"line\":{\"colorbar\":{\"outlinewidth\":0,\"ticks\":\"\"}}}],\"scatterpolargl\":[{\"type\":\"scatterpolargl\",\"marker\":{\"colorbar\":{\"outlinewidth\":0,\"ticks\":\"\"}}}],\"bar\":[{\"error_x\":{\"color\":\"#2a3f5f\"},\"error_y\":{\"color\":\"#2a3f5f\"},\"marker\":{\"line\":{\"color\":\"#E5ECF6\",\"width\":0.5},\"pattern\":{\"fillmode\":\"overlay\",\"size\":10,\"solidity\":0.2}},\"type\":\"bar\"}],\"scattergeo\":[{\"type\":\"scattergeo\",\"marker\":{\"colorbar\":{\"outlinewidth\":0,\"ticks\":\"\"}}}],\"scatterpolar\":[{\"type\":\"scatterpolar\",\"marker\":{\"colorbar\":{\"outlinewidth\":0,\"ticks\":\"\"}}}],\"histogram\":[{\"marker\":{\"pattern\":{\"fillmode\":\"overlay\",\"size\":10,\"solidity\":0.2}},\"type\":\"histogram\"}],\"scattergl\":[{\"type\":\"scattergl\",\"marker\":{\"colorbar\":{\"outlinewidth\":0,\"ticks\":\"\"}}}],\"scatter3d\":[{\"type\":\"scatter3d\",\"line\":{\"colorbar\":{\"outlinewidth\":0,\"ticks\":\"\"}},\"marker\":{\"colorbar\":{\"outlinewidth\":0,\"ticks\":\"\"}}}],\"scattermapbox\":[{\"type\":\"scattermapbox\",\"marker\":{\"colorbar\":{\"outlinewidth\":0,\"ticks\":\"\"}}}],\"scatterternary\":[{\"type\":\"scatterternary\",\"marker\":{\"colorbar\":{\"outlinewidth\":0,\"ticks\":\"\"}}}],\"scattercarpet\":[{\"type\":\"scattercarpet\",\"marker\":{\"colorbar\":{\"outlinewidth\":0,\"ticks\":\"\"}}}],\"carpet\":[{\"aaxis\":{\"endlinecolor\":\"#2a3f5f\",\"gridcolor\":\"white\",\"linecolor\":\"white\",\"minorgridcolor\":\"white\",\"startlinecolor\":\"#2a3f5f\"},\"baxis\":{\"endlinecolor\":\"#2a3f5f\",\"gridcolor\":\"white\",\"linecolor\":\"white\",\"minorgridcolor\":\"white\",\"startlinecolor\":\"#2a3f5f\"},\"type\":\"carpet\"}],\"table\":[{\"cells\":{\"fill\":{\"color\":\"#EBF0F8\"},\"line\":{\"color\":\"white\"}},\"header\":{\"fill\":{\"color\":\"#C8D4E3\"},\"line\":{\"color\":\"white\"}},\"type\":\"table\"}],\"barpolar\":[{\"marker\":{\"line\":{\"color\":\"#E5ECF6\",\"width\":0.5},\"pattern\":{\"fillmode\":\"overlay\",\"size\":10,\"solidity\":0.2}},\"type\":\"barpolar\"}],\"pie\":[{\"automargin\":true,\"type\":\"pie\"}]},\"layout\":{\"autotypenumbers\":\"strict\",\"colorway\":[\"#636efa\",\"#EF553B\",\"#00cc96\",\"#ab63fa\",\"#FFA15A\",\"#19d3f3\",\"#FF6692\",\"#B6E880\",\"#FF97FF\",\"#FECB52\"],\"font\":{\"color\":\"#2a3f5f\"},\"hovermode\":\"closest\",\"hoverlabel\":{\"align\":\"left\"},\"paper_bgcolor\":\"white\",\"plot_bgcolor\":\"#E5ECF6\",\"polar\":{\"bgcolor\":\"#E5ECF6\",\"angularaxis\":{\"gridcolor\":\"white\",\"linecolor\":\"white\",\"ticks\":\"\"},\"radialaxis\":{\"gridcolor\":\"white\",\"linecolor\":\"white\",\"ticks\":\"\"}},\"ternary\":{\"bgcolor\":\"#E5ECF6\",\"aaxis\":{\"gridcolor\":\"white\",\"linecolor\":\"white\",\"ticks\":\"\"},\"baxis\":{\"gridcolor\":\"white\",\"linecolor\":\"white\",\"ticks\":\"\"},\"caxis\":{\"gridcolor\":\"white\",\"linecolor\":\"white\",\"ticks\":\"\"}},\"coloraxis\":{\"colorbar\":{\"outlinewidth\":0,\"ticks\":\"\"}},\"colorscale\":{\"sequential\":[[0.0,\"#0d0887\"],[0.1111111111111111,\"#46039f\"],[0.2222222222222222,\"#7201a8\"],[0.3333333333333333,\"#9c179e\"],[0.4444444444444444,\"#bd3786\"],[0.5555555555555556,\"#d8576b\"],[0.6666666666666666,\"#ed7953\"],[0.7777777777777778,\"#fb9f3a\"],[0.8888888888888888,\"#fdca26\"],[1.0,\"#f0f921\"]],\"sequentialminus\":[[0.0,\"#0d0887\"],[0.1111111111111111,\"#46039f\"],[0.2222222222222222,\"#7201a8\"],[0.3333333333333333,\"#9c179e\"],[0.4444444444444444,\"#bd3786\"],[0.5555555555555556,\"#d8576b\"],[0.6666666666666666,\"#ed7953\"],[0.7777777777777778,\"#fb9f3a\"],[0.8888888888888888,\"#fdca26\"],[1.0,\"#f0f921\"]],\"diverging\":[[0,\"#8e0152\"],[0.1,\"#c51b7d\"],[0.2,\"#de77ae\"],[0.3,\"#f1b6da\"],[0.4,\"#fde0ef\"],[0.5,\"#f7f7f7\"],[0.6,\"#e6f5d0\"],[0.7,\"#b8e186\"],[0.8,\"#7fbc41\"],[0.9,\"#4d9221\"],[1,\"#276419\"]]},\"xaxis\":{\"gridcolor\":\"white\",\"linecolor\":\"white\",\"ticks\":\"\",\"title\":{\"standoff\":15},\"zerolinecolor\":\"white\",\"automargin\":true,\"zerolinewidth\":2},\"yaxis\":{\"gridcolor\":\"white\",\"linecolor\":\"white\",\"ticks\":\"\",\"title\":{\"standoff\":15},\"zerolinecolor\":\"white\",\"automargin\":true,\"zerolinewidth\":2},\"scene\":{\"xaxis\":{\"backgroundcolor\":\"#E5ECF6\",\"gridcolor\":\"white\",\"linecolor\":\"white\",\"showbackground\":true,\"ticks\":\"\",\"zerolinecolor\":\"white\",\"gridwidth\":2},\"yaxis\":{\"backgroundcolor\":\"#E5ECF6\",\"gridcolor\":\"white\",\"linecolor\":\"white\",\"showbackground\":true,\"ticks\":\"\",\"zerolinecolor\":\"white\",\"gridwidth\":2},\"zaxis\":{\"backgroundcolor\":\"#E5ECF6\",\"gridcolor\":\"white\",\"linecolor\":\"white\",\"showbackground\":true,\"ticks\":\"\",\"zerolinecolor\":\"white\",\"gridwidth\":2}},\"shapedefaults\":{\"line\":{\"color\":\"#2a3f5f\"}},\"annotationdefaults\":{\"arrowcolor\":\"#2a3f5f\",\"arrowhead\":0,\"arrowwidth\":1},\"geo\":{\"bgcolor\":\"white\",\"landcolor\":\"#E5ECF6\",\"subunitcolor\":\"white\",\"showland\":true,\"showlakes\":true,\"lakecolor\":\"white\"},\"title\":{\"x\":0.05},\"mapbox\":{\"style\":\"light\"}}},\"xaxis\":{\"anchor\":\"y\",\"domain\":[0.0,1.0],\"title\":{\"text\":\"a1\"}},\"yaxis\":{\"anchor\":\"x\",\"domain\":[0.0,1.0],\"title\":{\"text\":\"a2\"}},\"coloraxis\":{\"colorbar\":{\"title\":{\"text\":\"cluster\"}},\"colorscale\":[[0.0,\"#0d0887\"],[0.1111111111111111,\"#46039f\"],[0.2222222222222222,\"#7201a8\"],[0.3333333333333333,\"#9c179e\"],[0.4444444444444444,\"#bd3786\"],[0.5555555555555556,\"#d8576b\"],[0.6666666666666666,\"#ed7953\"],[0.7777777777777778,\"#fb9f3a\"],[0.8888888888888888,\"#fdca26\"],[1.0,\"#f0f921\"]]},\"legend\":{\"tracegroupgap\":0},\"margin\":{\"t\":60}},                        {\"responsive\": true}                    ).then(function(){\n",
              "                            \n",
              "var gd = document.getElementById('bc81d23b-1782-4a43-b9d5-bf0e6ee97f21');\n",
              "var x = new MutationObserver(function (mutations, observer) {{\n",
              "        var display = window.getComputedStyle(gd).display;\n",
              "        if (!display || display === 'none') {{\n",
              "            console.log([gd, 'removed!']);\n",
              "            Plotly.purge(gd);\n",
              "            observer.disconnect();\n",
              "        }}\n",
              "}});\n",
              "\n",
              "// Listen for the removal of the full notebook cells\n",
              "var notebookContainer = gd.closest('#notebook-container');\n",
              "if (notebookContainer) {{\n",
              "    x.observe(notebookContainer, {childList: true});\n",
              "}}\n",
              "\n",
              "// Listen for the clearing of the current output cell\n",
              "var outputEl = gd.closest('.output');\n",
              "if (outputEl) {{\n",
              "    x.observe(outputEl, {childList: true});\n",
              "}}\n",
              "\n",
              "                        })                };                            </script>        </div>\n",
              "</body>\n",
              "</html>"
            ]
          },
          "metadata": {}
        }
      ]
    },
    {
      "cell_type": "markdown",
      "source": [
        "### silhouette score"
      ],
      "metadata": {
        "id": "-s03NRV6hZGK"
      }
    },
    {
      "cell_type": "code",
      "source": [
        "from sklearn.metrics import silhouette_score as ss\n",
        "\n",
        "x = data[['a1','a2']].to_numpy()\n",
        "ss(x, data['cluster'])"
      ],
      "metadata": {
        "colab": {
          "base_uri": "https://localhost:8080/"
        },
        "id": "9EO-4m5uhYs7",
        "outputId": "b352e1f0-ec36-4234-e982-11188b47e476"
      },
      "execution_count": 45,
      "outputs": [
        {
          "output_type": "execute_result",
          "data": {
            "text/plain": [
              "0.28337466235437625"
            ]
          },
          "metadata": {},
          "execution_count": 45
        }
      ]
    }
  ]
}